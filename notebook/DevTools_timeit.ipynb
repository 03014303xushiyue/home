{
 "cells": [
  {
   "cell_type": "markdown",
   "metadata": {
    "collapsed": true,
    "deletable": true,
    "editable": true
   },
   "source": [
    "# Measure execution time of small code snippets  \n",
    "\n",
    "27.5. timeit — Measure execution time of small code snippets  \n",
    "\n",
    "https://docs.python.org/3/library/timeit.html\n",
    "\n",
    "This module provides a simple way to\n",
    "\n",
    "**time small bits of Python code** . \n",
    "\n",
    "It has both a Command-Line Interface as well as a callable one. \n",
    "\n",
    "### See also:\n",
    "\n",
    "Tim Peters’ introduction to the “Algorithms” chapter in the Python Cookbook, published by O’Reilly.\n",
    "\n",
    "http://python3-cookbook.readthedocs.org/zh_CN/latest/\n",
    "\n",
    " \n",
    "Doug Hellmann'S Python Module of the Week\n",
    "\n",
    "The Python Module of the Week series, or PyMOTW, is a tour of the Python standard library through short examples.\n",
    "\n",
    "https://pymotw.com/2/timeit/index.html\n",
    "    "
   ]
  },
  {
   "cell_type": "markdown",
   "metadata": {
    "collapsed": true,
    "deletable": true,
    "editable": true
   },
   "source": [
    "## 27.5.1. Basic Examples"
   ]
  },
  {
   "cell_type": "markdown",
   "metadata": {
    "deletable": true,
    "editable": true
   },
   "source": [
    "### Jupyter Magic \n",
    "\n",
    "%timeit：Time execution of a Python statement or expression"
   ]
  },
  {
   "cell_type": "code",
   "execution_count": 2,
   "metadata": {
    "collapsed": false,
    "deletable": true,
    "editable": true
   },
   "outputs": [
    {
     "name": "stdout",
     "output_type": "stream",
     "text": [
      "The slowest run took 29342.99 times longer than the fastest. This could mean that an intermediate result is being cached.\n",
      "100000 loops, best of 3: 6.1 µs per loop\n"
     ]
    }
   ],
   "source": [
    "import seuif97\n",
    "%timeit seuif97.pt(15,535,4)"
   ]
  },
  {
   "cell_type": "markdown",
   "metadata": {
    "deletable": true,
    "editable": true
   },
   "source": [
    "The **slowest** run took xxx.xx times **longer** than the **fastest**. This could mean that an **intermediate result** is being **cached.**\n",
    "\n",
    "* Algorithm of the High-speed IAPWS-IF97 Library: \n",
    "\n",
    "   * 王培红,贾俊颖,程懋华. 水和水蒸汽热力性质IAPWS_IF97公式的通用计算模型[J]. 动力工程. 2001 21(6)：1564-1567(EI)\n",
    "\n"
   ]
  },
  {
   "cell_type": "code",
   "execution_count": 8,
   "metadata": {
    "collapsed": false,
    "deletable": true,
    "editable": true
   },
   "outputs": [
    {
     "name": "stdout",
     "output_type": "stream",
     "text": [
      "1000 loops, best of 3: 595 µs per loop\n"
     ]
    }
   ],
   "source": [
    "from iapws.iapws97 import IAPWS97\n",
    "%timeit IAPWS97(P=16.10,T=535.10).h"
   ]
  },
  {
   "cell_type": "markdown",
   "metadata": {
    "deletable": true,
    "editable": true
   },
   "source": [
    "### Python Command-Line "
   ]
  },
  {
   "cell_type": "code",
   "execution_count": 4,
   "metadata": {
    "collapsed": false,
    "deletable": true,
    "editable": true
   },
   "outputs": [
    {
     "name": "stdout",
     "output_type": "stream",
     "text": [
      "1000 loops, best of 3: 526 usec per loop\n"
     ]
    }
   ],
   "source": [
    "!python -m timeit \"d={}\" \"for i in range(1000):\" \"  d[str(i)] = i\""
   ]
  },
  {
   "cell_type": "markdown",
   "metadata": {
    "collapsed": true,
    "deletable": true,
    "editable": true
   },
   "source": [
    "### Python Interface\n",
    "\n",
    "```python\n",
    "timeit.timeit(stmt='pass', setup='pass', timer=<default timer>, number=1000000, globals=None)\n",
    "```\n",
    "\n",
    "* timeit.default_timer()\n",
    "   \n",
    "   The default timer, which is always **time.perf_counter()**.\n"
   ]
  },
  {
   "cell_type": "code",
   "execution_count": 5,
   "metadata": {
    "collapsed": true,
    "deletable": true,
    "editable": true
   },
   "outputs": [],
   "source": [
    "import timeit"
   ]
  },
  {
   "cell_type": "code",
   "execution_count": 6,
   "metadata": {
    "collapsed": false,
    "deletable": true,
    "editable": true
   },
   "outputs": [
    {
     "data": {
      "text/plain": [
       "0.0001612564486492829"
      ]
     },
     "execution_count": 6,
     "metadata": {},
     "output_type": "execute_result"
    }
   ],
   "source": [
    "timeit.timeit('\"d={}\" \"for i in range(1000):\" \"  d[str(i)] = i\"', number=10000)"
   ]
  },
  {
   "cell_type": "code",
   "execution_count": 7,
   "metadata": {
    "collapsed": false,
    "deletable": true,
    "editable": true
   },
   "outputs": [
    {
     "data": {
      "text/plain": [
       "1.6253965640089518e-05"
      ]
     },
     "execution_count": 7,
     "metadata": {},
     "output_type": "execute_result"
    }
   ],
   "source": [
    "timeit.timeit('\"d={}\" \"for i in range(1000):\" \"  d[str(i)] = i\"', number=1000)"
   ]
  },
  {
   "cell_type": "markdown",
   "metadata": {
    "deletable": true,
    "editable": true
   },
   "source": [
    "The same can be done using the **Timer** class and its methods:"
   ]
  },
  {
   "cell_type": "code",
   "execution_count": 8,
   "metadata": {
    "collapsed": false,
    "deletable": true,
    "editable": true
   },
   "outputs": [
    {
     "data": {
      "text/plain": [
       "0.022745713978963522"
      ]
     },
     "execution_count": 8,
     "metadata": {},
     "output_type": "execute_result"
    }
   ],
   "source": [
    "import timeit\n",
    "\n",
    "t = timeit.Timer('\"d={}\" \"for i in range(1000):\" \"  d[str(i)] = i\"')\n",
    "\n",
    "t.timeit()"
   ]
  },
  {
   "cell_type": "code",
   "execution_count": 9,
   "metadata": {
    "collapsed": false,
    "deletable": true,
    "editable": true
   },
   "outputs": [
    {
     "data": {
      "text/plain": [
       "[0.01874809390173482, 0.021111762695539937]"
      ]
     },
     "execution_count": 9,
     "metadata": {},
     "output_type": "execute_result"
    }
   ],
   "source": [
    "t.repeat(2) # repeat(repeat=3, number=1000000)"
   ]
  },
  {
   "cell_type": "markdown",
   "metadata": {
    "deletable": true,
    "editable": true
   },
   "source": [
    "When **repeat()** is used, it calls timeit() severeal times (3 in this case) and all of the responses are returned in a list."
   ]
  },
  {
   "cell_type": "markdown",
   "metadata": {
    "deletable": true,
    "editable": true
   },
   "source": [
    "### Give the **timeit** module access to **functions**\n",
    "\n",
    "you can pass a **setup** parameter which contains an **import** statement:"
   ]
  },
  {
   "cell_type": "code",
   "execution_count": null,
   "metadata": {
    "collapsed": false,
    "deletable": true,
    "editable": true
   },
   "outputs": [],
   "source": [
    "import timeit\n",
    "def test():\n",
    "    L = [i for i in range(100)]\n",
    "\n",
    "if __name__ == '__main__':\n",
    "    print(timeit.timeit(\"test()\", setup=\"from __main__ import test\"))"
   ]
  },
  {
   "cell_type": "markdown",
   "metadata": {
    "deletable": true,
    "editable": true
   },
   "source": [
    "## Example IAPWS-IF97"
   ]
  },
  {
   "cell_type": "code",
   "execution_count": 26,
   "metadata": {
    "collapsed": false,
    "deletable": true,
    "editable": true
   },
   "outputs": [
    {
     "name": "stdout",
     "output_type": "stream",
     "text": [
      "Time(s)= 0.014543877366463676\n"
     ]
    }
   ],
   "source": [
    "import timeit\n",
    "import seuif97\n",
    "t = timeit.Timer(\"seuif97.pt2h(16.10,535.10)\",setup=\"from __main__ import seuif97\")\n",
    "if97time=t.timeit(1000)\n",
    "\n",
    "print('Time(s)=',if97time)"
   ]
  },
  {
   "cell_type": "code",
   "execution_count": 23,
   "metadata": {
    "collapsed": false,
    "deletable": true,
    "editable": true
   },
   "outputs": [
    {
     "name": "stdout",
     "output_type": "stream",
     "text": [
      "Time(s)= 0.6728076715295401\n"
     ]
    }
   ],
   "source": [
    "import timeit\n",
    "import iapws.iapws97\n",
    "\n",
    "t = timeit.Timer(\"iapws.iapws97.IAPWS97(P=16.10,T=535.10).h\",\"from __main__ import iapws\")\n",
    "if97time=t.timeit(1000)\n",
    "\n",
    "print('Time(s)=',if97time)"
   ]
  }
 ],
 "metadata": {
  "kernelspec": {
   "display_name": "Python 3",
   "language": "python",
   "name": "python3"
  },
  "language_info": {
   "codemirror_mode": {
    "name": "ipython",
    "version": 3
   },
   "file_extension": ".py",
   "mimetype": "text/x-python",
   "name": "python",
   "nbconvert_exporter": "python",
   "pygments_lexer": "ipython3",
   "version": "3.5.2"
  }
 },
 "nbformat": 4,
 "nbformat_minor": 0
}
