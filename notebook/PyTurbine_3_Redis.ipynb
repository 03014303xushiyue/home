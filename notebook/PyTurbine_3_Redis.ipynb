{
 "cells": [
  {
   "cell_type": "markdown",
   "metadata": {},
   "source": [
    "# Introduction to Redis\n",
    "\n",
    "Redis is an open source (BSD licensed), in-memory data structure store, used as database, cache and message broker. \n",
    "\n",
    "The data model is **key-value**, but many different kind of values are support。\n",
    "\n",
    "It supports data structures such as strings, hashes, lists, sets, sorted sets with range queries, bitmaps, hyperloglogs and geospatial indexes with radius queries. \n",
    "\n",
    "Redis has built-in replication, Lua scripting, LRU eviction, transactions and different levels of on-disk persistence, \n",
    "\n",
    "and provides high availability via Redis Sentinel and automatic partitioning with Redis Cluster.\n",
    "\n",
    "http://redis.io/\n",
    "\n",
    "https://github.com/antirez/redis\n",
    "\n",
    "https://github.com/redis\n"
   ]
  },
  {
   "cell_type": "markdown",
   "metadata": {},
   "source": [
    "## Install On Windows\n",
    "\n",
    "https://github.com/MSOpenTech/redis\n",
    "\n",
    "You can download the latest unsigned binaries and the unsigned MSI installer from the release page.\n",
    "\n",
    "https://github.com/MSOpenTech/redis/releases\n",
    "\n",
    "** redis 3.0.501 **\n",
    "\n",
    "https://github.com/MSOpenTech/redis/releases/download/win-3.0.501/Redis-x64-3.0.501.msi\n",
    "\n",
    "Run:\n",
    "\n",
    "Redis-x64-3.0.501.msi\n"
   ]
  },
  {
   "cell_type": "markdown",
   "metadata": {},
   "source": [
    "## Installation on Linux\n",
    "\n",
    "http://redis.io/download\n",
    "\n",
    "### Download, extract and compile Redis with:\n",
    "\n",
    "```\n",
    "$ wget http://download.redis.io/releases/redis-3.0.7.tar.gz\n",
    "$ tar xzf redis-3.0.7.tar.gz\n",
    "$ cd redis-3.0.7\n",
    "$ make\n",
    "```\n",
    "\n",
    "The binaries that are now compiled are available in the src directory. Run Redis with: \n",
    "\n",
    "```\n",
    "$ src/redis-server\n",
    "```\n",
    "You can interact with Redis using the built-in client:\n",
    "\n",
    "```\n",
    "$ src/redis-cli\n",
    "redis> set foo bar\n",
    "OK\n",
    "redis> get foo\n",
    "\"bar\"\n",
    "```"
   ]
  },
  {
   "cell_type": "markdown",
   "metadata": {},
   "source": [
    "## Redis Python Client \n",
    "\n",
    "https://github.com/andymccurdy/redis-py\n",
    "\n",
    "###  Installation\n",
    "\n",
    "redis-py requires a running Redis server. See Redis's quickstart for installation instructions.\n",
    "\n",
    "To install redis-py, simply:\n",
    "\n",
    "Linux\n",
    "\n",
    "```\n",
    "$ sudo pip3 install redis\n",
    "```\n",
    "\n",
    "Windows\n",
    " \n",
    "```\n",
    ">pip install redis\n",
    "```\n",
    " \n",
    "### Getting Started\n"
   ]
  },
  {
   "cell_type": "code",
   "execution_count": 2,
   "metadata": {
    "collapsed": false
   },
   "outputs": [
    {
     "data": {
      "text/plain": [
       "b'bar'"
      ]
     },
     "execution_count": 2,
     "metadata": {},
     "output_type": "execute_result"
    }
   ],
   "source": [
    "import redis\n",
    "r = redis.Redis(host='localhost')\n",
    "r.set('foo', 'bar')\n",
    "r.get('foo')"
   ]
  }
 ],
 "metadata": {
  "kernelspec": {
   "display_name": "Python 3",
   "language": "python",
   "name": "python3"
  },
  "language_info": {
   "codemirror_mode": {
    "name": "ipython",
    "version": 3
   },
   "file_extension": ".py",
   "mimetype": "text/x-python",
   "name": "python",
   "nbconvert_exporter": "python",
   "pygments_lexer": "ipython3",
   "version": "3.5.1"
  }
 },
 "nbformat": 4,
 "nbformat_minor": 0
}
