{
 "cells": [
  {
   "cell_type": "markdown",
   "metadata": {
    "collapsed": true,
    "slideshow": {
     "slide_type": "slide"
    }
   },
   "source": [
    "# Profilers  \n",
    "\n",
    "27.4. The Python Profilers  \n",
    "\n",
    "https://docs.python.org/3/library/profile.html\n",
    "\n",
    "**Source Codes**\n",
    "\n",
    "https://hg.python.org/cpython/file/3.5/Lib/profile.py\n",
    "\n",
    "https://hg.python.org/cpython/file/3.5/Lib/pstats.py\n",
    "\n",
    "## 27.4.1. Introduction to the profilers\n",
    "\n",
    "**A profile is a set of statistics** \n",
    "\n",
    "that describes **how often** and for **how long** various parts of the program executed.\n",
    "\n",
    "These statistics can be formatted into reports via the **pstats** module.\n",
    "\n",
    "The Python standard library provides **two** different implementations of the same profiling interface:\n",
    "\n",
    "**cProfile** and **profile** provide deterministic profiling of Python programs. \n",
    "\n",
    "* **cProfile** is recommended for most users\n",
    "\n",
    "  it’s a C extension with reasonable overhead that makes it suitable for profiling long-running programs. \n",
    "  \n",
    "  Based on `lsprof`, contributed by Brett Rosen and Ted Czotter.\n",
    "\n",
    "\n",
    "* **profile**, a pure Python module whose interface is imitated by cProfile, \n",
    "\n",
    "   but which adds significant overhead to profiled programs.\n",
    "   \n",
    "   If you’re trying to extend the profiler in some way, the task might be easier with this module. \n",
    "   \n",
    "   Originally designed and written by Jim Roskind.\n",
    "\n",
    "<b>Profilers: profile, cProfile, and pstats</b> – Performance analysis of Python programs."
   ]
  },
  {
   "cell_type": "markdown",
   "metadata": {
    "collapsed": true
   },
   "source": [
    "## 27.4.2. Instant User’s Manual\n",
    "\n",
    "This section is provided for users that “don’t want to read the manual.” \n",
    "\n",
    "It provides a very brief overview, and allows a user to rapidly perform profiling on an existing application.\n",
    "\n",
    "The most basic starting point in the profile module is \n",
    "\n",
    "**run()**\n",
    "\n",
    "It takes <b>a string statement</b> as argument, \n",
    "\n",
    "and creates a **report** of the time spent executing different lines of code while running the statement.   \n",
    "\n",
    "To profile a function\n",
    "\n",
    "`re.compile()`\n",
    "\n",
    "that takes a single argument"
   ]
  },
  {
   "cell_type": "code",
   "execution_count": null,
   "metadata": {
    "collapsed": false
   },
   "outputs": [],
   "source": [
    "import cProfile\n",
    "import re\n",
    "cProfile.run('re.compile(\"foo|bar\")')"
   ]
  },
  {
   "cell_type": "markdown",
   "metadata": {},
   "source": [
    "### re — Regular expression operations**\n",
    "   \n",
    "  https://docs.python.org/3.5/library/re.html\n",
    "  \n",
    "  This module provides regular expression matching operations \n",
    "  \n",
    "  **Regular Expression Syntax**\n",
    "\n",
    "   A regular expression (or RE) specifies **a set of strings** that matches it;\n",
    "   \n",
    "   the functions in this module let you check if a particular string matches a given regular expression\n",
    "   \n",
    "   or if a given regular expression matches a particular string\n",
    "\n",
    "\n",
    "** '|' ** \n",
    "\n",
    "A|B, where A and B can be arbitrary REs, creates a regular expression that will match either A or B\n",
    "\n"
   ]
  },
  {
   "cell_type": "code",
   "execution_count": null,
   "metadata": {
    "collapsed": false
   },
   "outputs": [],
   "source": [
    "import re\n",
    "m = re.search(\"foo|bar\", 'abcfoo')\n",
    "m.group(0)"
   ]
  },
  {
   "cell_type": "markdown",
   "metadata": {},
   "source": [
    "* **re.compile(pattern, flags=0)**\n",
    "\n",
    "    Compile a regular expression pattern into a regular expression object,\n",
    "    \n",
    "    which can be used for matching using its match() and search() methods,\n"
   ]
  },
  {
   "cell_type": "code",
   "execution_count": null,
   "metadata": {
    "collapsed": false
   },
   "outputs": [],
   "source": [
    "pattern = re.compile(\"foo|bar\")\n",
    "m1=pattern.search(\"foo\")  \n",
    "m2=pattern.search(\"bar\")\n",
    "print(m1.group(0))\n",
    "print(m2.group(0))"
   ]
  },
  {
   "cell_type": "code",
   "execution_count": null,
   "metadata": {
    "collapsed": true
   },
   "outputs": [],
   "source": [
    "import cProfile\n",
    "import re\n",
    "cProfile.run('re.compile(\"foo|bar\")')"
   ]
  },
  {
   "cell_type": "markdown",
   "metadata": {},
   "source": [
    "* **The first line**\n",
    "   \n",
    "   indicates that 197 calls were monitored.\n",
    "   \n",
    "   Of those calls, 192 were primitive, meaning that the call was not induced via recursion. \n",
    "\n",
    "\n",
    "* **The next line**\n",
    "\n",
    "   Ordered by: standard name, \n",
    "   \n",
    "   indicates that the text string in the far right column was used to sort the output. \n",
    "\n",
    "\n",
    "* ** The column headings include:**\n",
    "\n",
    "   * <b>ncalls</b>: the number of calls,\n",
    "   \n",
    "     When there are two numbers in the the column \n",
    "   \n",
    "     **3/1**\n",
    "     \n",
    "     it means that the function recursed.\n",
    "     \n",
    "     The second value is the number of primitive calls and the former is the total number of calls. \n",
    "     \n",
    "     Note that when the function does not recurse, these two values are the same, and only the single figure is printed\n",
    "\n",
    "   \n",
    "   * <b>tottime</b>: the total time spent in the given function (and excluding time made in calls to sub-functions)\n",
    "\n",
    "   * <b>percall</b> is the quotient of tottime divided by ncalls\n",
    "\n",
    "   * <b>cumtime</b> is the cumulative time spent in this and all <b>subfunctions</b> (from invocation till exit). \n",
    "  \n",
    "   * <b>percall</b> is the quotient of cumtime divided by primitive calls\n",
    "\n",
    "   * <b>filename:lineno(function)</b> provides the respective data of each function\n",
    "\n",
    "### The results to a file\n",
    "  \n",
    "<b>1 Save the results to a file</b>\n",
    "\n",
    "by specifying a filename to the `run()` function:"
   ]
  },
  {
   "cell_type": "code",
   "execution_count": null,
   "metadata": {
    "collapsed": true
   },
   "outputs": [],
   "source": [
    "import cProfile\n",
    "import re\n",
    "cProfile.run('re.compile(\"foo|bar\")', 'restats')"
   ]
  },
  {
   "cell_type": "markdown",
   "metadata": {},
   "source": [
    "2 **manipulating and printing the data** saved into a profile results file\n",
    "\n",
    "* **The `pstats` module’s `Stats` class **\n",
    "\n",
    "    a variety of methods for manipulating and printing the data saved into a profile results file:"
   ]
  },
  {
   "cell_type": "code",
   "execution_count": null,
   "metadata": {
    "collapsed": false
   },
   "outputs": [],
   "source": [
    "import pstats\n",
    "p = pstats.Stats('restats')\n",
    "p.strip_dirs().sort_stats(-1).print_stats()"
   ]
  },
  {
   "cell_type": "markdown",
   "metadata": {},
   "source": [
    "* **strip_dirs()**：　removed the extraneous path from all the module names. \n",
    "\n",
    "* **sort_stats()**：　sorted all the entries according to the standard \n",
    "  　　\n",
    "   <b>module/line/name</b>\n",
    "    \n",
    "   string that is printed.\n",
    "\n",
    "* **print_stats()**： method printed out all the statistics.\n",
    "\n",
    "#### You might try the following sort calls:"
   ]
  },
  {
   "cell_type": "code",
   "execution_count": null,
   "metadata": {
    "collapsed": false
   },
   "outputs": [],
   "source": [
    "p.sort_stats('name')\n",
    "p.print_stats()"
   ]
  },
  {
   "cell_type": "markdown",
   "metadata": {},
   "source": [
    "The first call will actually sort the list by function name,\n",
    "\n",
    "The second call will print out the statistics. \n",
    "\n",
    "#### The following are some interesting calls to experiment with:\n",
    "\n",
    "1  understand what <b>algorithms are taking time</b>.\n",
    "\n",
    "This sorts the profile by <b>cumulative time</b> in a function, and then only prints <b>the ten most significant lines</b>. \n"
   ]
  },
  {
   "cell_type": "code",
   "execution_count": null,
   "metadata": {
    "collapsed": false
   },
   "outputs": [],
   "source": [
    "p.sort_stats('cumulative').print_stats(10)"
   ]
  },
  {
   "cell_type": "markdown",
   "metadata": {},
   "source": [
    "2 looking to see <b>what functions were looping a lot</b>, and taking a lot of time:\n",
    "\n",
    "to sort according to time spent within each function, and then print the statistics for the top ten functions."
   ]
  },
  {
   "cell_type": "code",
   "execution_count": null,
   "metadata": {
    "collapsed": false
   },
   "outputs": [],
   "source": [
    "p.sort_stats('time').print_stats(10)"
   ]
  },
  {
   "cell_type": "markdown",
   "metadata": {},
   "source": [
    "3 <b>sort all the statistics by file name</b>, \n",
    "\n",
    "and then print out statistics for <b>only the class init methods</b> (they are spelled with __init__ in them)."
   ]
  },
  {
   "cell_type": "code",
   "execution_count": null,
   "metadata": {
    "collapsed": false
   },
   "outputs": [],
   "source": [
    "p.sort_stats('file').print_stats('__init__')"
   ]
  },
  {
   "cell_type": "markdown",
   "metadata": {},
   "source": [
    "**4** This line sorts statistics with \n",
    "\n",
    " <b>a primary key of time</b>\n",
    " \n",
    " <b>a secondary key of cumulative time</b>, \n",
    "\n",
    "and then prints out some of the statistics. \n",
    "\n",
    "To be specific, the list is \n",
    "\n",
    "first culled down to <b>50% (re: .5)</b> of its original size, \n",
    "\n",
    "then only lines containing <b>init</b> are maintained, \n",
    "\n",
    "and that sub-sub-list is printed."
   ]
  },
  {
   "cell_type": "code",
   "execution_count": null,
   "metadata": {
    "collapsed": false
   },
   "outputs": [],
   "source": [
    "p.sort_stats('time', 'cumulative').print_stats(.5, 'init')"
   ]
  },
  {
   "cell_type": "markdown",
   "metadata": {},
   "source": [
    "## 27.4.7. Calibration\n",
    "\n",
    "The profiler of the <b>profile</b> module <b>subtracts a constant</b> \n",
    "\n",
    "from each event handling time to compensate for \n",
    "\n",
    "the overhead of calling the time function\n",
    "\n",
    "By default, the constant is 0.\n",
    "\n",
    "The following procedure can be used to obtain a better constant for a given platform.\n"
   ]
  },
  {
   "cell_type": "code",
   "execution_count": null,
   "metadata": {
    "collapsed": false
   },
   "outputs": [],
   "source": [
    "import profile\n",
    "pr = profile.Profile()\n",
    "\n",
    "your_computed_bias=pr.calibrate(10000)\n",
    "\n",
    "print(your_computed_bias)\n",
    "    "
   ]
  },
  {
   "cell_type": "markdown",
   "metadata": {},
   "source": [
    "The method executes the number of Python calls given by the argument, \n",
    "\n",
    "<b>directly</b> \n",
    "\n",
    "<b>under the profiler</b>\n",
    "\n",
    "   measuring the time for both. \n",
    "\n",
    "It then computes the hidden overhead per profiler event, and returns that as a float. \n",
    "\n",
    "The object of this exercise is to get a fairly consistent result. \n",
    "\n",
    "If your computer is very fast, or your timer function has poor resolution, you might have to pass 100000, or even 1000000, to get consistent results.\n",
    "\n",
    "#### When you have a consistent answer, there are <b>three ways</b> you can use it:\n"
   ]
  },
  {
   "cell_type": "code",
   "execution_count": null,
   "metadata": {
    "collapsed": true
   },
   "outputs": [],
   "source": [
    "import profile\n",
    "\n",
    "# 1. Apply computed bias to all Profile instances created hereafter.\n",
    "profile.Profile.bias = your_computed_bias\n",
    "\n",
    "# 2. Apply computed bias to a specific Profile instance.\n",
    "pr = profile.Profile()\n",
    "pr.bias = your_computed_bias\n",
    "\n",
    "# 3. Specify computed bias in instance constructor.\n",
    "pr = profile.Profile(bias=your_computed_bias)"
   ]
  },
  {
   "cell_type": "markdown",
   "metadata": {},
   "source": [
    "## Example: profiling seuif97"
   ]
  },
  {
   "cell_type": "code",
   "execution_count": 25,
   "metadata": {
    "collapsed": false
   },
   "outputs": [
    {
     "name": "stdout",
     "output_type": "stream",
     "text": [
      "         20 function calls in 0.000 seconds\n",
      "\n",
      "   Ordered by: cumulative time\n",
      "\n",
      "   ncalls  tottime  percall  cumtime  percall filename:lineno(function)\n",
      "        2    0.000    0.000    0.000    0.000 C:\\Python35\\lib\\site-packages\\IPython\\core\\interactiveshell.py:2855(run_code)\n",
      "        2    0.000    0.000    0.000    0.000 C:\\Python35\\lib\\codeop.py:132(__call__)\n",
      "        2    0.000    0.000    0.000    0.000 {built-in method builtins.exec}\n",
      "        2    0.000    0.000    0.000    0.000 {built-in method builtins.compile}\n",
      "        1    0.000    0.000    0.000    0.000 <ipython-input-25-bfd343c57ed2>:14(<module>)\n",
      "        1    0.000    0.000    0.000    0.000 C:\\Python35\\lib\\seuif97.py:11(pt2h)\n",
      "        1    0.000    0.000    0.000    0.000 <ipython-input-25-bfd343c57ed2>:17(<module>)\n",
      "        2    0.000    0.000    0.000    0.000 C:\\Python35\\lib\\site-packages\\IPython\\core\\hooks.py:127(__call__)\n",
      "        2    0.000    0.000    0.000    0.000 C:\\Python35\\lib\\site-packages\\IPython\\utils\\ipstruct.py:125(__getattr__)\n",
      "        2    0.000    0.000    0.000    0.000 C:\\Python35\\lib\\site-packages\\IPython\\core\\interactiveshell.py:1087(user_global_ns)\n",
      "        2    0.000    0.000    0.000    0.000 C:\\Python35\\lib\\site-packages\\IPython\\core\\hooks.py:192(pre_run_code_hook)\n",
      "        1    0.000    0.000    0.000    0.000 {method 'disable' of '_lsprof.Profiler' objects}\n",
      "\n",
      "\n",
      "\n"
     ]
    }
   ],
   "source": [
    "# -*- coding: utf-8 -*-\n",
    "\n",
    "import seuif97\n",
    "import cProfile\n",
    "import pstats\n",
    "import io\n",
    "\n",
    "p = 16.10\n",
    "t = 535.10\n",
    "\n",
    "pr = cProfile.Profile()\n",
    "pr.enable()\n",
    "\n",
    "h = seuif97.pt2h(p, t)\n",
    "#s = seuif97.pt2s(p, t)\n",
    "\n",
    "pr.disable()\n",
    "\n",
    "s = io.StringIO() # 1 n-memory text streams \n",
    "\n",
    "sortby = 'cumulative'\n",
    "\n",
    "ps = pstats.Stats(pr, stream=s).sort_stats(sortby) # 2 Stats in In-memory text streams\n",
    "\n",
    "ps.print_stats()\n",
    "\n",
    "print(s.getvalue()) # 3 get In-memory text streams\n"
   ]
  },
  {
   "cell_type": "markdown",
   "metadata": {},
   "source": [
    "### 6.2. io — Core tools for working with streams\n",
    "\n",
    "https://docs.python.org/3/library/io.html\n",
    "    \n",
    "The io module provides Python’s main facilities for dealing with various types of I/O.\n",
    "\n",
    "There are three main types of I/O: **text I/O, binary I/O and raw I/O**    \n",
    "\n",
    "**In-memory text streams** are also available as **StringIO** objects:\n",
    "   "
   ]
  },
  {
   "cell_type": "code",
   "execution_count": null,
   "metadata": {
    "collapsed": false
   },
   "outputs": [],
   "source": [
    "f = io.StringIO(\"some initial text data\")\n",
    "f.getvalue()"
   ]
  },
  {
   "cell_type": "markdown",
   "metadata": {},
   "source": [
    "## Example: profiling fibonacci\n",
    " \n",
    "This <b>recursive</b> version of a <b>fibonacci</b> sequence calculator\n",
    "\n",
    "is especially useful for demonstrating the profile \n",
    "\n",
    "because we can improve the performance so much.\n",
    "\n",
    "The standard report format shows a summary and then details for each function executed.\n",
    "    "
   ]
  },
  {
   "cell_type": "code",
   "execution_count": 1,
   "metadata": {
    "collapsed": false
   },
   "outputs": [
    {
     "name": "stdout",
     "output_type": "stream",
     "text": [
      "RAW\n",
      "================================================================================\n",
      "[1, 1, 2, 3, 5, 8, 13, 21, 34, 55, 89, 144, 233, 377, 610, 987, 1597, 2584, 4181, 6765, 10946]\n",
      "         57369 function calls (79 primitive calls) in 0.028 seconds\n",
      "\n",
      "   Ordered by: standard name\n",
      "\n",
      "   ncalls  tottime  percall  cumtime  percall filename:lineno(function)\n",
      "     21/1    0.000    0.000    0.028    0.028 <ipython-input-1-93ba4aebaf67>:11(fib_seq)\n",
      " 57291/21    0.027    0.000    0.027    0.001 <ipython-input-1-93ba4aebaf67>:3(fib)\n",
      "        1    0.000    0.000    0.028    0.028 <string>:1(<module>)\n",
      "        2    0.000    0.000    0.000    0.000 iostream.py:227(_is_master_process)\n",
      "        2    0.000    0.000    0.000    0.000 iostream.py:240(_schedule_flush)\n",
      "        2    0.000    0.000    0.000    0.000 iostream.py:308(write)\n",
      "        1    0.000    0.000    0.028    0.028 {built-in method builtins.exec}\n",
      "        2    0.000    0.000    0.000    0.000 {built-in method builtins.isinstance}\n",
      "        1    0.000    0.000    0.000    0.000 {built-in method builtins.print}\n",
      "        2    0.000    0.000    0.000    0.000 {built-in method nt.getpid}\n",
      "       21    0.000    0.000    0.000    0.000 {method 'append' of 'list' objects}\n",
      "        1    0.000    0.000    0.000    0.000 {method 'disable' of '_lsprof.Profiler' objects}\n",
      "       20    0.000    0.000    0.000    0.000 {method 'extend' of 'list' objects}\n",
      "        2    0.000    0.000    0.000    0.000 {method 'write' of '_io.StringIO' objects}\n",
      "\n",
      "\n"
     ]
    }
   ],
   "source": [
    "import cProfile\n",
    "\n",
    "def fib(n):\n",
    "    # https://en.wikipedia.org/wiki/Fibonacci_number\n",
    "    # http://en.literateprograms.org/Fibonacci_numbers_(Python)\n",
    "    if n == 0 or n == 1:\n",
    "        return 1\n",
    "    else:\n",
    "        return fib(n-1) + fib(n-2)\n",
    "\n",
    "def fib_seq(n):\n",
    "    \n",
    "    seq = [ ]\n",
    "    if n > 0:\n",
    "        seq.extend(fib_seq(n-1))\n",
    "    seq.append(fib(n))\n",
    "    \n",
    "    return seq\n",
    "\n",
    "print('RAW')\n",
    "print('=' * 80)\n",
    "cProfile.run('print(fib_seq(20)); print')\n"
   ]
  },
  {
   "cell_type": "markdown",
   "metadata": {},
   "source": [
    "Not surprisingly, most of the time here is spent calling <b>`fib()` repeatedly </b>. \n",
    "\n",
    "<img src=\"./img/recursion_without_cache.png\"/> \n",
    "\n",
    "\n",
    "It’s a very inefficient algorithm: \n",
    "\n",
    "the amount of function calls increases <b>exponentially</b> for increasing values of <b>n</b>\n",
    "\n",
    "because the function calls values that it has already calculated again and again.\n",
    "\n",
    "We needed to speed up a lot of my recursive algorithms.\n",
    "\n",
    "### ** Decorators**  really came to the rescue in the form of **memoization**\n",
    "\n",
    "https://en.wikipedia.org/wiki/Memoization\n",
    "\n",
    "The easy way to optimize this would be to \n",
    "\n",
    "* **cache the values in a dictionary** \n",
    "\n",
    "\n",
    "* check to see if that value of <b>n</b> has been called previously. \n",
    "\n",
    "  * If it has, return it’s value in the dictionary, \n",
    "\n",
    "  * if not, proceed to call the function. \n",
    "  \n",
    "This is ** memoization **.\n"
   ]
  },
  {
   "cell_type": "code",
   "execution_count": 10,
   "metadata": {
    "collapsed": true
   },
   "outputs": [],
   "source": [
    "class memoize:\n",
    "    \n",
    "    # from http://avinashv.net/2008/04/python-decorators-syntactic-sugar/\n",
    "    def __init__(self, function):\n",
    "        self.function = function\n",
    "       \n",
    "       #　a dictionary, ｀self.memoized｀, that acts as our cache\n",
    "        self.memoized = {}\n",
    "\n",
    "    def __call__(self, *args):\n",
    "        \n",
    "        try:\n",
    "           \n",
    "           return self.memoized[args]  # \n",
    "        \n",
    "        except KeyError:\n",
    "            self.memoized[args] = self.function(*args)\n",
    "            return self.memoized[args]"
   ]
  },
  {
   "cell_type": "markdown",
   "metadata": {},
   "source": [
    "There is now a dictionary, **self.memoized**, that acts as our cache, \n",
    "\n",
    "and a change in the exception handling that looks for ｀KeyError｀, \n",
    "\n",
    "which throws an error if a key doesn’t exist in a dictionary. \n",
    "\n",
    "Again, this class is generalized, and will work for any recursive function that could benefit from memoization.\n",
    "\n",
    "### a memoize decorator\n",
    "\n",
    "We can add <b>a memoize decorator</b> to reduce the number of recursive calls \n",
    "\n",
    "and have a big impact on the performance of this function."
   ]
  },
  {
   "cell_type": "code",
   "execution_count": 11,
   "metadata": {
    "collapsed": false
   },
   "outputs": [
    {
     "name": "stdout",
     "output_type": "stream",
     "text": [
      "MEMOIZED\n",
      "================================================================================\n",
      "[1, 1, 2, 3, 5, 8, 13, 21, 34, 55, 89, 144, 233, 377, 610, 987, 1597, 2584, 4181, 6765, 10946]\n",
      "         158 function calls (100 primitive calls) in 0.000 seconds\n",
      "\n",
      "   Ordered by: standard name\n",
      "\n",
      "   ncalls  tottime  percall  cumtime  percall filename:lineno(function)\n",
      "    59/21    0.000    0.000    0.000    0.000 <ipython-input-10-f0322ac4bf09>:10(__call__)\n",
      "     21/1    0.000    0.000    0.000    0.000 <ipython-input-11-d04dd80e50cc>:11(fib_seq)\n",
      "       21    0.000    0.000    0.000    0.000 <ipython-input-11-d04dd80e50cc>:3(fib)\n",
      "        1    0.000    0.000    0.000    0.000 <string>:1(<module>)\n",
      "        2    0.000    0.000    0.000    0.000 iostream.py:227(_is_master_process)\n",
      "        2    0.000    0.000    0.000    0.000 iostream.py:240(_schedule_flush)\n",
      "        2    0.000    0.000    0.000    0.000 iostream.py:308(write)\n",
      "        1    0.000    0.000    0.000    0.000 {built-in method builtins.exec}\n",
      "        2    0.000    0.000    0.000    0.000 {built-in method builtins.isinstance}\n",
      "        1    0.000    0.000    0.000    0.000 {built-in method builtins.print}\n",
      "        2    0.000    0.000    0.000    0.000 {built-in method nt.getpid}\n",
      "       21    0.000    0.000    0.000    0.000 {method 'append' of 'list' objects}\n",
      "        1    0.000    0.000    0.000    0.000 {method 'disable' of '_lsprof.Profiler' objects}\n",
      "       20    0.000    0.000    0.000    0.000 {method 'extend' of 'list' objects}\n",
      "        2    0.000    0.000    0.000    0.000 {method 'write' of '_io.StringIO' objects}\n",
      "\n",
      "\n"
     ]
    }
   ],
   "source": [
    "import cProfile\n",
    "\n",
    "@memoize\n",
    "def fib(n):\n",
    "    # from http://en.literateprograms.org/Fibonacci_numbers_(Python)\n",
    "    if n == 0 or n == 1:\n",
    "        return 1\n",
    "    else:\n",
    "        return fib(n-1) + fib(n-2)\n",
    "\n",
    "def fib_seq(n):\n",
    "    seq = [ ]\n",
    "    if n > 0:\n",
    "        seq.extend(fib_seq(n-1))\n",
    "    seq.append(fib(n))\n",
    "    return seq\n",
    "\n",
    "print('MEMOIZED')\n",
    "print('=' * 80)\n",
    "cProfile.run('print(fib_seq(20)); print')\n"
   ]
  },
  {
   "cell_type": "markdown",
   "metadata": {},
   "source": [
    "By remembering the <b>Fibonacci</b> value at each level we can avoid most of the recursion\n",
    "\n",
    "the **ncalls** count for **fib()** shows that it never recurses."
   ]
  },
  {
   "cell_type": "markdown",
   "metadata": {},
   "source": [
    "###  Decorators\n",
    "\n",
    "A decorator is any callable Python object that is used to modify a function, method or class definition. \n",
    "\n",
    "A decorator is passed the <b>original object</b> being defined and <b>returns a modified object</b>, \n",
    "\n"
   ]
  },
  {
   "cell_type": "code",
   "execution_count": 25,
   "metadata": {
    "collapsed": false
   },
   "outputs": [
    {
     "name": "stdout",
     "output_type": "stream",
     "text": [
      "25\n",
      "-7\n"
     ]
    }
   ],
   "source": [
    "# get square sum\n",
    "def square_sum(a, b):\n",
    "    return a**2 + b**2\n",
    "\n",
    "# get square diff\n",
    "def square_diff(a, b):\n",
    "    return a**2 - b**2\n",
    "\n",
    "\n",
    "print(square_sum(3, 4))\n",
    "print(square_diff(3, 4))\n"
   ]
  },
  {
   "cell_type": "markdown",
   "metadata": {},
   "source": [
    "###  modify: print input"
   ]
  },
  {
   "cell_type": "code",
   "execution_count": 26,
   "metadata": {
    "collapsed": false
   },
   "outputs": [
    {
     "name": "stdout",
     "output_type": "stream",
     "text": [
      "intput: 3 4\n",
      "25\n",
      "input 3 4\n",
      "-7\n"
     ]
    }
   ],
   "source": [
    "# modify: print input\n",
    "\n",
    "# get square sum\n",
    "def square_sum(a, b):\n",
    "    print(\"intput:\", a, b)\n",
    "    return a**2 + b**2\n",
    "\n",
    "# get square diff\n",
    "def square_diff(a, b):\n",
    "    print(\"input\", a, b)\n",
    "    return a**2 - b**2\n",
    "\n",
    "\n",
    "print(square_sum(3, 4))\n",
    "print(square_diff(3, 4))\n"
   ]
  },
  {
   "cell_type": "code",
   "execution_count": 27,
   "metadata": {
    "collapsed": false
   },
   "outputs": [
    {
     "name": "stdout",
     "output_type": "stream",
     "text": [
      "input 3 4\n",
      "25\n",
      "input 3 4\n",
      "-7\n"
     ]
    }
   ],
   "source": [
    "def decorator(func):\n",
    "   \n",
    "    def new_func(a, b):\n",
    "        print(\"input\", a, b)\n",
    "        return func(a, b)\n",
    "    \n",
    "    return new_func\n",
    "\n",
    "# get square sum\n",
    "@decorator\n",
    "def square_sum(a, b):\n",
    "    return a**2 + b**2\n",
    "\n",
    "# get square diff\n",
    "@decorator\n",
    "def square_diff(a, b):\n",
    "    return a**2 - b**2\n",
    "\n",
    "print(square_sum(3, 4))\n",
    "print(square_diff(3, 4))"
   ]
  },
  {
   "cell_type": "markdown",
   "metadata": {},
   "source": [
    "### See Also： 18.1 Fibonacci Sequences, Revisited\n",
    "\n",
    "The function `fastFib` has a parameter, `memo`, that it uses to keep track of the numbers it has already evaluated."
   ]
  },
  {
   "cell_type": "code",
   "execution_count": 8,
   "metadata": {
    "collapsed": true
   },
   "outputs": [],
   "source": [
    "#Page 254, Figure 18.3\n",
    "def fastFib(n, memo = {}):\n",
    "    \"\"\"Assumes n is an int >= 0, memo used only by recursive calls\n",
    "       Returns Fibonacci of n\"\"\"\n",
    "    if n == 0 or n == 1:\n",
    "        return 1\n",
    "    try:\n",
    "        return memo[n]\n",
    "    except KeyError:\n",
    "        result = fastFib(n-1, memo) + fastFib(n-2, memo)\n",
    "        memo[n] = result\n",
    "        return result\n"
   ]
  },
  {
   "cell_type": "code",
   "execution_count": 9,
   "metadata": {
    "collapsed": false
   },
   "outputs": [
    {
     "name": "stdout",
     "output_type": "stream",
     "text": [
      "MEMOIZED\n",
      "================================================================================\n",
      "[1, 1, 2, 3, 5, 8, 13, 21, 34, 55, 89, 144, 233, 377, 610, 987, 1597, 2584, 4181, 6765, 10946]\n",
      "         138 function calls (80 primitive calls) in 0.000 seconds\n",
      "\n",
      "   Ordered by: standard name\n",
      "\n",
      "   ncalls  tottime  percall  cumtime  percall filename:lineno(function)\n",
      "       21    0.000    0.000    0.000    0.000 :0(append)\n",
      "        1    0.000    0.000    0.000    0.000 :0(exec)\n",
      "       20    0.000    0.000    0.000    0.000 :0(extend)\n",
      "        2    0.000    0.000    0.000    0.000 :0(getpid)\n",
      "        2    0.000    0.000    0.000    0.000 :0(isinstance)\n",
      "        1    0.000    0.000    0.000    0.000 :0(print)\n",
      "        1    0.000    0.000    0.000    0.000 :0(setprofile)\n",
      "        2    0.000    0.000    0.000    0.000 :0(write)\n",
      "    59/21    0.000    0.000    0.000    0.000 <ipython-input-8-6c19e0a9138f>:2(fastFib)\n",
      "     21/1    0.000    0.000    0.000    0.000 <ipython-input-9-8368b550d98a>:3(fib_seq)\n",
      "        1    0.000    0.000    0.000    0.000 <string>:1(<module>)\n",
      "        2    0.000    0.000    0.000    0.000 iostream.py:227(_is_master_process)\n",
      "        2    0.000    0.000    0.000    0.000 iostream.py:240(_schedule_flush)\n",
      "        2    0.000    0.000    0.000    0.000 iostream.py:308(write)\n",
      "        1    0.000    0.000    0.000    0.000 profile:0(print(fib_seq(20)); print)\n",
      "        0    0.000             0.000          profile:0(profiler)\n",
      "\n",
      "\n"
     ]
    }
   ],
   "source": [
    "import profile\n",
    "\n",
    "def fib_seq(n):\n",
    "    seq = [ ]\n",
    "    if n > 0:\n",
    "        seq.extend(fib_seq(n-1))\n",
    "    seq.append(fastFib(n))\n",
    "    return seq\n",
    "\n",
    "print('MEMOIZED')\n",
    "print('=' * 80)\n",
    "profile.run('print(fib_seq(20)); print')"
   ]
  },
  {
   "cell_type": "markdown",
   "metadata": {},
   "source": [
    "## pstats: Saving and Working With Statistics\n",
    "\n",
    "The standard report created by the profile functions is not very flexible. \n",
    "\n",
    "If it doesn’t meet your needs, you can produce your own reports by saving the raw profiling data from `run()` and processing it separately with the `Stats` class from `pstats`.\n",
    "\n",
    "For example, to run several iterations of the same test and combine the results, you could do something like this:\n",
    "\n"
   ]
  },
  {
   "cell_type": "code",
   "execution_count": 5,
   "metadata": {
    "collapsed": false
   },
   "outputs": [
    {
     "name": "stdout",
     "output_type": "stream",
     "text": [
      "0  [1, 1, 2, 3, 5, 8, 13, 21, 34, 55, 89, 144, 233, 377, 610, 987, 1597, 2584, 4181, 6765, 10946]\n",
      "1  [1, 1, 2, 3, 5, 8, 13, 21, 34, 55, 89, 144, 233, 377, 610, 987, 1597, 2584, 4181, 6765, 10946]\n",
      "2  [1, 1, 2, 3, 5, 8, 13, 21, 34, 55, 89, 144, 233, 377, 610, 987, 1597, 2584, 4181, 6765, 10946]\n",
      "3  [1, 1, 2, 3, 5, 8, 13, 21, 34, 55, 89, 144, 233, 377, 610, 987, 1597, 2584, 4181, 6765, 10946]\n",
      "4  [1, 1, 2, 3, 5, 8, 13, 21, 34, 55, 89, 144, 233, 377, 610, 987, 1597, 2584, 4181, 6765, 10946]\n",
      "Mon May 23 21:31:38 2016    profile_stats_0.stats\n",
      "Mon May 23 21:31:38 2016    profile_stats_1.stats\n",
      "Mon May 23 21:31:38 2016    profile_stats_2.stats\n",
      "Mon May 23 21:31:38 2016    profile_stats_3.stats\n",
      "Mon May 23 21:31:38 2016    profile_stats_4.stats\n",
      "\n",
      "         565 function calls (465 primitive calls) in 0.000 seconds\n",
      "\n",
      "   Ordered by: cumulative time\n",
      "\n",
      "   ncalls  tottime  percall  cumtime  percall filename:lineno(function)\n",
      "       20    0.000    0.000    0.000    0.000 iostream.py:240(_schedule_flush)\n",
      "        1    0.000    0.000    0.000    0.000 ioloop.py:928(add_callback)\n",
      "       20    0.000    0.000    0.000    0.000 iostream.py:227(_is_master_process)\n",
      "      106    0.000    0.000    0.000    0.000 :0(append)\n",
      "        1    0.000    0.000    0.000    0.000 :0(get_ident)\n",
      "        5    0.000    0.000    0.000    0.000 :0(print)\n",
      "    105/5    0.000    0.000    0.000    0.000 <ipython-input-3-d04dd80e50cc>:11(fib_seq)\n",
      "        0    0.000             0.000          profile:0(profiler)\n",
      "        5    0.000    0.000    0.000    0.000 :0(exec)\n",
      "       20    0.000    0.000    0.000    0.000 :0(isinstance)\n",
      "       20    0.000    0.000    0.000    0.000 :0(getpid)\n",
      "      100    0.000    0.000    0.000    0.000 :0(extend)\n",
      "        5    0.000    0.000    0.000    0.000 <string>:1(<module>)\n",
      "       20    0.000    0.000    0.000    0.000 :0(write)\n",
      "      105    0.000    0.000    0.000    0.000 <ipython-input-2-760383e4683f>:10(__call__)\n",
      "        1    0.000    0.000    0.000    0.000 :0(hasattr)\n",
      "        5    0.000    0.000    0.000    0.000 profile:0(print(\"%d \" % i,fib_seq(20)))\n",
      "       20    0.000    0.000    0.000    0.000 iostream.py:308(write)\n",
      "        5    0.000    0.000    0.000    0.000 :0(setprofile)\n",
      "        1    0.000    0.000    0.000    0.000 stack_context.py:253(wrap)\n",
      "\n",
      "\n"
     ]
    },
    {
     "data": {
      "text/plain": [
       "<pstats.Stats at 0x1f9b40eb208>"
      ]
     },
     "execution_count": 5,
     "metadata": {},
     "output_type": "execute_result"
    }
   ],
   "source": [
    "import profile\n",
    "import pstats\n",
    "\n",
    "# from profile_fibonacci_memoized import fib, fib_seq\n",
    "\n",
    "# Create 5 set of stats\n",
    "filenames = []\n",
    "for i in range(5):\n",
    "    filename ='profile_stats_%d.stats' % i\n",
    "    profile.run('print(\"%d \" % i,fib_seq(20))', filename)\n",
    "\n",
    "# Read all 5 stats files into a single object\n",
    "stats = pstats.Stats('profile_stats_0.stats')\n",
    "for i in range(1, 5):\n",
    "    stats.add('profile_stats_%d.stats' % i)\n",
    "\n",
    "# Clean up filenames for the report\n",
    "stats.strip_dirs()\n",
    "\n",
    "# Sort the statistics by the cumulative time spent in the function\n",
    "stats.sort_stats('cumulative')\n",
    "stats.print_stats()\n"
   ]
  },
  {
   "cell_type": "markdown",
   "metadata": {
    "collapsed": true
   },
   "source": [
    "The output report is sorted in descending order of cumulative time spent in the function and the directory names are\n",
    "removed from the printed filenames to conserve horizontal space."
   ]
  },
  {
   "cell_type": "markdown",
   "metadata": {},
   "source": [
    "### 24.1.4 Limiting Report Contents\n",
    "\n",
    "Since we are studying the performance of `fib()` and `fib_seq()`, we can also restrict the output report to only\n",
    "include those functions using a regular expression to match the `filename:lineno(function)` values we want.\n"
   ]
  },
  {
   "cell_type": "code",
   "execution_count": 6,
   "metadata": {
    "collapsed": false
   },
   "outputs": [
    {
     "name": "stdout",
     "output_type": "stream",
     "text": [
      "Mon May 23 21:31:38 2016    profile_stats_0.stats\n",
      "Mon May 23 21:31:38 2016    profile_stats_1.stats\n",
      "Mon May 23 21:31:38 2016    profile_stats_2.stats\n",
      "Mon May 23 21:31:38 2016    profile_stats_3.stats\n",
      "Mon May 23 21:31:38 2016    profile_stats_4.stats\n",
      "\n",
      "         565 function calls (465 primitive calls) in 0.000 seconds\n",
      "\n",
      "   Ordered by: cumulative time\n",
      "   List reduced from 20 to 1 due to restriction <'\\\\(fib'>\n",
      "\n",
      "   ncalls  tottime  percall  cumtime  percall filename:lineno(function)\n",
      "    105/5    0.000    0.000    0.000    0.000 <ipython-input-3-d04dd80e50cc>:11(fib_seq)\n",
      "\n",
      "\n"
     ]
    },
    {
     "data": {
      "text/plain": [
       "<pstats.Stats at 0x1f9b40eb390>"
      ]
     },
     "execution_count": 6,
     "metadata": {},
     "output_type": "execute_result"
    }
   ],
   "source": [
    "import profile\n",
    "import pstats\n",
    "\n",
    "#from profile_fibonacci_memoized import fib, fib_seq\n",
    "\n",
    "# Read all 5 stats files into a single object\n",
    "stats = pstats.Stats('profile_stats_0.stats')\n",
    "for i in range(1, 5):\n",
    "    stats.add('profile_stats_%d.stats' % i)\n",
    "\n",
    "stats.strip_dirs()\n",
    "stats.sort_stats('cumulative')\n",
    "\n",
    "# limit output to lines with \"(fib\" in them\n",
    "stats.print_stats('\\(fib')\n"
   ]
  },
  {
   "cell_type": "markdown",
   "metadata": {},
   "source": [
    "The regular expression includes a literal left paren (() to match against the function name portion of the location value."
   ]
  },
  {
   "cell_type": "markdown",
   "metadata": {},
   "source": [
    "### 24.1.5 Caller / Callee Graphs\n",
    "\n",
    "Stats also includes methods for printing the callers and callees of functions"
   ]
  },
  {
   "cell_type": "code",
   "execution_count": 7,
   "metadata": {
    "collapsed": false
   },
   "outputs": [
    {
     "name": "stdout",
     "output_type": "stream",
     "text": [
      "INCOMING CALLERS:\n",
      "   Ordered by: cumulative time\n",
      "   List reduced from 20 to 1 due to restriction <'\\\\(fib'>\n",
      "\n",
      "Function                                    was called by...\n",
      "<ipython-input-3-d04dd80e50cc>:11(fib_seq)  <- <ipython-input-3-d04dd80e50cc>:11(fib_seq)(100)    0.000\n",
      "                                               <string>:1(<module>)(5)    0.000\n",
      "\n",
      "\n",
      "OUTGOING CALLEES:\n",
      "   Ordered by: cumulative time\n",
      "   List reduced from 20 to 1 due to restriction <'\\\\(fib'>\n",
      "\n",
      "Function                                    called...\n",
      "<ipython-input-3-d04dd80e50cc>:11(fib_seq)  -> :0(append)(105)    0.000\n",
      "                                               :0(extend)(100)    0.000\n",
      "                                               <ipython-input-2-760383e4683f>:10(__call__)(105)    0.000\n",
      "                                               <ipython-input-3-d04dd80e50cc>:11(fib_seq)(100)    0.000\n",
      "\n",
      "\n"
     ]
    },
    {
     "data": {
      "text/plain": [
       "<pstats.Stats at 0x1f9b413b358>"
      ]
     },
     "execution_count": 7,
     "metadata": {},
     "output_type": "execute_result"
    }
   ],
   "source": [
    "import cProfile as profile\n",
    "import pstats\n",
    "\n",
    "#from profile_fibonacci_memoized import fib, fib_seq\n",
    "\n",
    "# Read all 5 stats files into a single object\n",
    "stats = pstats.Stats('profile_stats_0.stats')\n",
    "for i in range(1, 5):\n",
    "    stats.add('profile_stats_%d.stats' % i)\n",
    "\n",
    "stats.strip_dirs()\n",
    "stats.sort_stats('cumulative')\n",
    "\n",
    "print('INCOMING CALLERS:')\n",
    "stats.print_callers('\\(fib')\n",
    "\n",
    "print('OUTGOING CALLEES:')\n",
    "stats.print_callees('\\(fib')\n"
   ]
  },
  {
   "cell_type": "code",
   "execution_count": null,
   "metadata": {
    "collapsed": true
   },
   "outputs": [],
   "source": []
  }
 ],
 "metadata": {
  "kernelspec": {
   "display_name": "Python 3",
   "language": "python",
   "name": "python3"
  },
  "language_info": {
   "codemirror_mode": {
    "name": "ipython",
    "version": 3
   },
   "file_extension": ".py",
   "mimetype": "text/x-python",
   "name": "python",
   "nbconvert_exporter": "python",
   "pygments_lexer": "ipython3",
   "version": "3.5.1"
  }
 },
 "nbformat": 4,
 "nbformat_minor": 0
}
