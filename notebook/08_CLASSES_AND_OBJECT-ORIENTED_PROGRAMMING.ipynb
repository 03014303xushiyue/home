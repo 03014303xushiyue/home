{
 "cells": [
  {
   "cell_type": "markdown",
   "metadata": {},
   "source": [
    "# 8 CLASSES AND OBJECT-ORIENTED PROGRAMMING"
   ]
  },
  {
   "cell_type": "markdown",
   "metadata": {},
   "source": [
    "The key to <b>object-oriented programming</b> is thinking about <b>objects</b> as collections of both \n",
    "\n",
    "<b>data</b> \n",
    "\n",
    "and \n",
    "\n",
    "<b>the methods</b> that operate on that data."
   ]
  },
  {
   "cell_type": "markdown",
   "metadata": {},
   "source": [
    "## 8.1 Abstract Data Types and Classes"
   ]
  },
  {
   "cell_type": "markdown",
   "metadata": {},
   "source": [
    "An <b>abstract data type</b> is a set of <b>objects and the operations on those objects</b>.\n",
    "\n",
    "These are <b>bound together</b> so that one can pass an object from one part of a program to another, and in doing\n",
    "so provide access not only to the data attributes of the object but also to operations that make it easy to manipulate that data.\n",
    "\n",
    "The specifications of those operations define <b>an interface</b> between the abstract data type and the rest of the program. The interface defines the behavior of the operations—<b>what they do</b>, but not how they do it.\n",
    "\n",
    "Programming is about managing <b>complexity</b> in a way that <b>facilitates change</b>.\n",
    "\n",
    "There are two powerful mechanisms available for accomplishing this: <b>decomposition and abstraction</b>. \n",
    "\n",
    "Decomposition creates <b>structure in a program</b>\n",
    "\n",
    "Abstraction <b>suppresses detail</b>. \n",
    "\n",
    "The key is to suppress the <b>appropriate details </b>\n",
    "\n",
    "#### In Python, one implements data abstractions using \n",
    "\n",
    "### classes\n",
    "\n",
    "```python\n",
    "Class IntSet\n",
    "```\n",
    "provides a straightforward implementation of a set-of-integers abstraction\n"
   ]
  },
  {
   "cell_type": "code",
   "execution_count": null,
   "metadata": {
    "collapsed": false,
    "scrolled": true
   },
   "outputs": [],
   "source": [
    "#Page 93, Figure 8.1\n",
    "class IntSet(object):\n",
    "    \"\"\"An intSet is a set of integers\"\"\"\n",
    "    # Information about the implementation (not the abstraction)\n",
    "    # The value of the set is represented by a list of ints, \n",
    "    #  self.vals.\n",
    "    # Each int in the set occurs in self.vals exactly once.\n",
    "    \n",
    "    def __init__(self):\n",
    "        \"\"\"Create an empty set of integers\"\"\"\n",
    "        self.vals = []\n",
    "\n",
    "    def insert(self, e):\n",
    "        \"\"\"Assumes e is an integer and inserts e into self\"\"\"\n",
    "        if not e in self.vals:\n",
    "            self.vals.append(e)\n",
    "\n",
    "    def member(self, e):\n",
    "        \"\"\"Assumes e is an integer\n",
    "           Returns True if e is in self, and False otherwise\"\"\"\n",
    "        return e in self.vals\n",
    "\n",
    "    def remove(self, e):\n",
    "        \"\"\"Assumes e is an integer and removes e from self\n",
    "           Raises ValueError if e is not in self\"\"\"\n",
    "        try:\n",
    "            self.vals.remove(e)\n",
    "        except:\n",
    "            raise ValueError(str(e) + ' not found')\n",
    "\n",
    "    def getMembers(self):\n",
    "        \"\"\"Returns a list containing the elements of self.\n",
    "           Nothing can be assumed about the order of the elements\"\"\"\n",
    "        return self.vals[:]\n",
    "\n",
    "    def __str__(self):\n",
    "       \n",
    "        \"\"\"Returns a string representation of self\"\"\"\n",
    "        \n",
    "        self.vals.sort()\n",
    "        result = ''\n",
    "        for e in self.vals:\n",
    "            result = result + str(e) + ','\n",
    "        return('{' + result[:-1] + '}') #-1 omits trailing comma"
   ]
  },
  {
   "cell_type": "markdown",
   "metadata": {},
   "source": [
    "A class definition \n",
    "\n",
    "1  creates <b>an object of class</b> type and \n",
    "\n",
    "2  associates with that object a set of objects of class <b>function</b>"
   ]
  },
  {
   "cell_type": "code",
   "execution_count": null,
   "metadata": {
    "collapsed": false
   },
   "outputs": [],
   "source": [
    "print(type(IntSet), type(IntSet.insert))"
   ]
  },
  {
   "cell_type": "markdown",
   "metadata": {},
   "source": [
    "When a function definition occurs within a class definition, the defined function is called <b> a method</b> and is associated with the class.\n",
    "\n",
    "Classes support two kinds of operations:\n",
    "\n",
    "* <b>Instantiation</b> is used to create instances of the class.\n",
    "\n",
    "```python\n",
    "  s = IntSet()\n",
    "```\n",
    "\n",
    "* <b>Attribute references</b> use dot notation to access attributes associated with the class. \n",
    "\n",
    "```python\n",
    "s.member\n",
    "```"
   ]
  },
  {
   "cell_type": "markdown",
   "metadata": {},
   "source": [
    "Python has a number of <b>special method</b> names that start and end with two underscores `__`.\n",
    "\n",
    "1. The first of these we will look at is \n",
    "\n",
    "`__init__`. \n",
    "\n",
    "Whenever a class is <b>instantiated</b>, a call is made to the `__init__` method defined in that class.\n",
    "\n",
    "```python\n",
    " def __init__(self):\n",
    "        \"\"\"Create an empty set of integers\"\"\"\n",
    "        self.vals = []\n",
    "```\n",
    "\n",
    "<b>vals</b> list is called <b>a data attribute</b> of the instance of `IntSet`.\n",
    "\n",
    "methods associated with an instance of a class can be invoked using dot notation.\n",
    "\n",
    "For example"
   ]
  },
  {
   "cell_type": "code",
   "execution_count": null,
   "metadata": {
    "collapsed": false
   },
   "outputs": [],
   "source": [
    "s = IntSet()\n",
    "s.insert(3)\n",
    "print(s.member(3))"
   ]
  },
  {
   "cell_type": "markdown",
   "metadata": {},
   "source": [
    "<b>Method attributes</b> are defined in a class definition, \n",
    "\n",
    "for example "
   ]
  },
  {
   "cell_type": "markdown",
   "metadata": {},
   "source": [
    "When the class is instantiated, e.g., by \n",
    "\n",
    "`s = IntSet()`  \n",
    "\n",
    "<b>instance attributes</b>, \n",
    "\n",
    "`s.member`\n",
    "\n",
    "are created."
   ]
  },
  {
   "cell_type": "code",
   "execution_count": null,
   "metadata": {
    "collapsed": false
   },
   "outputs": [],
   "source": [
    "s = IntSet()\n",
    "print(s.member(3))"
   ]
  },
  {
   "cell_type": "markdown",
   "metadata": {},
   "source": [
    "<b>Data attributes</b> are associated with a class we call them <b>class variables</b>.\n",
    "\n",
    "When they are associated with <b>an instance</b> we call them <b>instance variables</b>."
   ]
  },
  {
   "cell_type": "code",
   "execution_count": null,
   "metadata": {
    "collapsed": false
   },
   "outputs": [],
   "source": [
    "s.vals"
   ]
  },
  {
   "cell_type": "markdown",
   "metadata": {},
   "source": [
    "#### Representation invariant\n",
    "\n",
    "The <b style=\"color:blue\">representation invariant</b> defines which \n",
    "\n",
    "<b>values of the data attributes</b> \n",
    "\n",
    "correspond to \n",
    "\n",
    "<b>valid representations</b> of <b>class instances</b>.\n",
    "\n",
    "The representation invariant for ```IntSet``` is that vals contains <b>no duplicates</b>.\n",
    "\n",
    "<b>1. establishing the invariant</b>： The implementation of ```__init__``` is responsible for establishing the invariant</b> \n",
    "\n",
    "(which holds on the empty list), \n",
    "\n",
    "```python\n",
    " def __init__(self):\n",
    "        \"\"\"Create an empty set of integers\"\"\"\n",
    "        self.vals = []\n",
    "```\n",
    "\n",
    "<b>2 maintaining that invariant</b>T: he other methods are responsible for maintaining that invariant.\n",
    "\n",
    "That is why ```insert``` appends e <b>only if</b> it is not already in ```self.vals```.\n",
    "\n",
    "```python\n",
    " def insert(self, e):\n",
    "        \"\"\"Assumes e is an integer and inserts e into self\"\"\"\n",
    "        if not e in self.vals:\n",
    "            self.vals.append(e)\n",
    "```\n",
    "\n",
    "The implementation of `remove` exploits the\n",
    "\n",
    "assumption that the representation invariant is satisfied when remove is entered. \n",
    "\n",
    "It calls `list.remove` <b>only once</b>, \n",
    "\n",
    "since the representation invariant guarantees that there is at\n",
    "\n",
    "<b>most one</b> occurrence of `e` in `self.vals`.\n",
    "```python\n",
    "def remove(self, e):\n",
    "        \"\"\"Assumes e is an integer and removes e from self\n",
    "           Raises ValueError if e is not in self\"\"\"\n",
    "        try:\n",
    "            self.vals.remove(e)\n",
    "        except:\n",
    "            raise ValueError(str(e) + ' not found')\n",
    "```\n",
    "\n",
    "##### Ref: \n",
    "\n",
    " Classes Should Enforce Invariants, http://www.artima.com/intv/goldilocks3.html\n",
    " "
   ]
  },
  {
   "cell_type": "markdown",
   "metadata": {},
   "source": [
    "The last method defined in the class, \n",
    "\n",
    "`__str__`\n",
    "\n",
    "is another one of those special `__` methods. \n",
    "\n",
    "```python\n",
    " def __str__(self):\n",
    "        \"\"\"Returns a string representation of self\"\"\"\n",
    "        self.vals.sort()\n",
    "        result = ''\n",
    "        for e in self.vals:\n",
    "            result = result + str(e) + ','\n",
    "        return('{' + result[:-1] + '}') #-1 omits trailing comma\n",
    "```\n",
    "When the `print` command is used, the `__str__` function associated with the object to be printed is <b>automatically invoked</b>."
   ]
  },
  {
   "cell_type": "code",
   "execution_count": null,
   "metadata": {
    "collapsed": false
   },
   "outputs": [],
   "source": [
    "s = IntSet()\n",
    "s.insert(3)\n",
    "s.insert(4)\n",
    "print(s)"
   ]
  },
  {
   "cell_type": "markdown",
   "metadata": {},
   "source": [
    "The `__str__` method of a class is also invoked when a program converts\n",
    "\n",
    "an instance of that class \n",
    "to\n",
    "\n",
    "a string\n",
    "\n",
    "by calling `str`."
   ]
  },
  {
   "cell_type": "code",
   "execution_count": null,
   "metadata": {
    "collapsed": false
   },
   "outputs": [],
   "source": [
    "str(s)"
   ]
  },
  {
   "cell_type": "markdown",
   "metadata": {},
   "source": [
    "<b>A class</b> should not be confused with <b>instances of that class</b>\n",
    "\n",
    "Attributes can be associated either with <b>a class itself</b> or with <b>instances of a class</b>:\n",
    "\n",
    "what-are-class-methods-in-python-for？ \n",
    "\n",
    "http://stackoverflow.com/questions/38238/what-are-class-methods-in-python-for    "
   ]
  },
  {
   "cell_type": "markdown",
   "metadata": {},
   "source": [
    "### 8.1.1 Designing Programs Using Abstract Data Types\n",
    "\n",
    "<b>Abstract data types are a big deal.</b>\n",
    "\n",
    "They lead to a different way of thinking about <b>organizing</b> large programs.\n",
    "\n",
    "<b>Data abstraction</b>\n",
    "\n",
    "1 encourages program designers to <b>focus on the centrality of data objects</b> rather than functions.\n",
    "\n",
    "2 encourages one to think about programming as <b>a process of combining relatively large chunks</b>, since\n",
    "data abstractions typically encompass <b>more functionality</b> than do individual\n",
    "functions.\n",
    "\n",
    "This, in turn, leads us to think of <b>the essence of programming</b> as a process not of writing individual lines of code, but of <b>composing abstractions</b>.\n",
    "\n",
    "The availability of <b>reusable abstractions</b> \n",
    "\n",
    "not only <b>reduces development time</b>, \n",
    "\n",
    "but also usually leads to <b>more reliable programs</b>,\n"
   ]
  },
  {
   "cell_type": "markdown",
   "metadata": {},
   "source": [
    "### 8.1.2 Using Classes to Keep Track of Students and Faculty\n",
    "\n",
    "As an example use of classes, imagine that you are designing a program to help keep track of all the students and faculty at a university.\n",
    "\n",
    "Before rushing in to design a bunch of data structures, let’s think about some abstractions that might prove useful. \n",
    "\n",
    "Is there an abstraction that covers the <b>common attributes</b> of students, professors, and staff?\n",
    "\n",
    "Some would argue that they are all <b>human</b>. Figure 8.2 contains a class that incorporates some of the\n",
    "<b>common attributes (name and birthdate) of humans</b>."
   ]
  },
  {
   "cell_type": "code",
   "execution_count": null,
   "metadata": {
    "collapsed": true
   },
   "outputs": [],
   "source": [
    "#Page 97, Figure 8.2\n",
    "import datetime\n",
    "\n",
    "class Person(object):\n",
    "\n",
    "    def __init__(self, name):\n",
    "        \"\"\"Create a person\"\"\"\n",
    "        self.name = name\n",
    "        try:\n",
    "            lastBlank = name.rindex(' ')\n",
    "            self.lastName = name[lastBlank+1:]\n",
    "        except:\n",
    "            self.lastName = name\n",
    "        self.birthday = None\n",
    " \n",
    "    def getName(self):\n",
    "        \"\"\"Returns self's full name\"\"\"\n",
    "        return self.name\n",
    "\n",
    "    def getLastName(self):\n",
    "        \"\"\"Returns self's last name\"\"\"\n",
    "        return self.lastName\n",
    "\n",
    "    def setBirthday(self, birthdate):\n",
    "        \"\"\"Assumes birthdate is of type datetime.date\n",
    "           Sets self's birthday to birthdate\"\"\"\n",
    "        self.birthday = birthdate\n",
    "\n",
    "    def getAge(self):\n",
    "        \"\"\"Returns self's current age in days\"\"\"\n",
    "        if self.birthday == None:\n",
    "            raise ValueError\n",
    "        return (datetime.date.today() - self.birthday).days\n",
    "\n",
    "    def __lt__(self, other):\n",
    "        \"\"\"Returns True if self's name is lexicographically\n",
    "           less than other's name, and False otherwise\"\"\"\n",
    "        if self.lastName == other.lastName:\n",
    "            return self.name < other.name\n",
    "        return self.lastName < other.lastName\n",
    "\n",
    "    def __str__(self):\n",
    "        \"\"\"Returns self's name\"\"\"\n",
    "        return self.name\n"
   ]
  },
  {
   "cell_type": "markdown",
   "metadata": {},
   "source": [
    "The following code makes use of Person."
   ]
  },
  {
   "cell_type": "code",
   "execution_count": null,
   "metadata": {
    "collapsed": false
   },
   "outputs": [],
   "source": [
    "#Page 97\n",
    "me = Person('Michael Guttag')\n",
    "him = Person('Barack Hussein Obama')\n",
    "her = Person('Madonna')\n",
    "print(him.getLastName())\n",
    "him.setBirthday(datetime.date(1961, 8, 4))\n",
    "her.setBirthday(datetime.date(1958, 8, 16))\n",
    "print(him.getName(), 'is', him.getAge(), 'days old')   "
   ]
  },
  {
   "cell_type": "markdown",
   "metadata": {
    "collapsed": true
   },
   "source": [
    "1) Notice that whenever `Person` is instantiated an argument is supplied to the `__init__` function\n",
    "\n",
    "2) One can then access information about these instances using the methods associated with them: For example, `him.getLastName()` will return 'Obama'.\n",
    "\n",
    "3) Class `Person` defines yet another <b>specially named method, `__lt__`</b>. \n",
    "```python\n",
    "def __lt__(self, other):\n",
    "        \"\"\"Returns True if self's name is lexicographically\n",
    "           less than other's name, and False otherwise\"\"\"\n",
    "        if self.lastName == other.lastName:\n",
    "            return self.name < other.name\n",
    "        return self.lastName < other.lastName\n",
    "```\n",
    "This method:\n",
    "\n",
    "1 <b>overloads</b> the `<` operator. the syntactic convenience of writing infix expressions `<`\n",
    "\n",
    "2 this overloading provides automatic access to any polymorphic method defined using `__lt__`. The built-in method `sort` is one such method.\n",
    "\n",
    "So, for example, if `pList` is a list composed of elements of type `Person`"
   ]
  },
  {
   "cell_type": "code",
   "execution_count": null,
   "metadata": {
    "collapsed": false
   },
   "outputs": [],
   "source": [
    "pList = [me, him, her]\n",
    "for p in pList:\n",
    "    print(p)\n",
    "print('\\nAfter sort\\n')    \n",
    "pList.sort()\n",
    "for p in pList:\n",
    "    print(p)"
   ]
  },
  {
   "cell_type": "markdown",
   "metadata": {},
   "source": [
    "## 8.2 Inheritance\n",
    "\n",
    "Iheritance provides a convenient mechanism for building <b>groups of related abstractions</b>. It allows programmers to create <b>a type hierarchy</b> in which each type inherits attributes from the types above it in the hierarchy.\n",
    "\n",
    "The class `object` is at the `top` of the hierarchy.\n",
    "\n",
    "The class `MITPerson` in Figure 8.3 inherits attributes from its parent class,`Person`\n"
   ]
  },
  {
   "cell_type": "code",
   "execution_count": null,
   "metadata": {
    "collapsed": false
   },
   "outputs": [],
   "source": [
    "#Page 99, Figure 8.3\n",
    "class MITPerson(Person):\n",
    "\n",
    "    nextIdNum = 0 #identification number\n",
    "\n",
    "    def __init__(self, name):\n",
    "        Person.__init__(self, name)\n",
    "        self.idNum = MITPerson.nextIdNum\n",
    "        MITPerson.nextIdNum += 1\n",
    "\n",
    "    def getIdNum(self):\n",
    "        return self.idNum\n",
    "\n",
    "    def __lt__(self, other):\n",
    "        return self.idNum < other.idNum\n",
    "\n",
    "    def isStudent(self):  # 8.2.1\n",
    "        return isinstance(self, Student)"
   ]
  },
  {
   "cell_type": "markdown",
   "metadata": {},
   "source": [
    "`MITPerson` is a subclass of `Person`,and therefore inherits the attributes of its superclass. In addition to what it\n",
    "inherits, the subclass can:\n",
    "\n",
    "* <b>Add</b> new attributes: class variable `nextIdNum`, the instance variable `idNum`, and the method `getIdNum`\n",
    "\n",
    "* <b>Override</b> attributes of the superclass.overridden `__init__` and `__lt__`.\n",
    "\n",
    "The instance variable `self.idNum` is initialized using <b>a class variable</b>, `nextIdNum`,that belongs to the class `MITPerson`, rather than to instances of the class. \n",
    "\n",
    "When an instance of `MITPerson` is created, a new instance of `nextIdNum` is not created. This allows `__init__` to ensure that each instance of MITPerson has a <b>unique</b> `idNum`"
   ]
  },
  {
   "cell_type": "code",
   "execution_count": null,
   "metadata": {
    "collapsed": false
   },
   "outputs": [],
   "source": [
    "#Page 100\n",
    "p1 = MITPerson('Barbara Beaver')\n",
    "print(str(p1) + '\\'s id number is ' + str(p1.getIdNum()))"
   ]
  },
  {
   "cell_type": "markdown",
   "metadata": {},
   "source": [
    "Now consider the code"
   ]
  },
  {
   "cell_type": "code",
   "execution_count": null,
   "metadata": {
    "collapsed": true
   },
   "outputs": [],
   "source": [
    "p1 = MITPerson('Mark Guttag')\n",
    "p2 = MITPerson('Billy Bob Beaver')\n",
    "p3 = MITPerson('Billy Bob Beaver')\n",
    "p4 = Person('Billy Bob Beaver')"
   ]
  },
  {
   "cell_type": "markdown",
   "metadata": {},
   "source": [
    "Three of whom are named <b>Billy Bob Beaver</b>. Two of the Billy Bobs are of type `MITPerson`, and one merely a `Person`. \n",
    "\n",
    "If we execute the lines of code"
   ]
  },
  {
   "cell_type": "code",
   "execution_count": null,
   "metadata": {
    "collapsed": false
   },
   "outputs": [],
   "source": [
    "print('p1 < p2 =', p1 < p2)\n",
    "print('p3 < p2 =', p3 < p2)\n",
    "print('p4 < p1 =', p4 < p1)"
   ]
  },
  {
   "cell_type": "markdown",
   "metadata": {},
   "source": [
    "Since p1, p2, and p3 are all of type `MITPerson`, the interpreter will use the `__lt__` method defined in class `MITPerson` when evaluating the first two comparisons, \n",
    "```Python\n",
    "   def __lt__(self, other):\n",
    "        return self.idNum < other.idNum\n",
    "```\n",
    "so the <b>ordering</b> will be based on <b>identification numbers</b>.\n",
    "\n",
    "In the third comparison,the `< `operator is applied to operands of different types. \n",
    "\n",
    "The <b>first argument</b> of the expression is used to <b>determine which `__lt__` method to invoke</b>, `p4 < p1`\n",
    "is shorthand for `p4.__lt__(p1)`. Therefore, the interpreter uses the `__lt__`vmethod associated with the type of p4, `Person`\n",
    "```python\n",
    " def __lt__(self, other):\n",
    "        \"\"\"Returns True if self's name is lexicographically\n",
    "           less than other's name, and False otherwise\"\"\"\n",
    "        if self.lastName == other.lastName:\n",
    "            return self.name < other.name\n",
    "        return self.lastName < other.lastName\n",
    "```\n",
    "the “people” will be <b>ordered by name</b>.\n",
    "\n",
    "What happens if we try:\n"
   ]
  },
  {
   "cell_type": "code",
   "execution_count": null,
   "metadata": {
    "collapsed": false
   },
   "outputs": [],
   "source": [
    "print('p1 < p4 =', p1 < p4)"
   ]
  },
  {
   "cell_type": "markdown",
   "metadata": {},
   "source": [
    "The interpreter will invoke the `__lt__` operator associated with the type of `p1`, i.e., the one defined in class `MITPerson`. \n",
    "\n",
    "This will lead to the exception\n",
    "\n",
    "    AttributeError: 'Person' object has no attribute 'idNum'\n",
    "\n",
    "because the object to which `p4`(the instance of `Person`) is bound does not have an attribute `idNum`."
   ]
  },
  {
   "cell_type": "markdown",
   "metadata": {},
   "source": [
    "### 8.2.1 Multiple Levels of Inheritance\n",
    "\n",
    "Two kinds of students:"
   ]
  },
  {
   "cell_type": "code",
   "execution_count": 3,
   "metadata": {
    "collapsed": false
   },
   "outputs": [
    {
     "ename": "NameError",
     "evalue": "name 'MITPerson' is not defined",
     "output_type": "error",
     "traceback": [
      "\u001b[1;31m---------------------------------------------------------------------------\u001b[0m",
      "\u001b[1;31mNameError\u001b[0m                                 Traceback (most recent call last)",
      "\u001b[1;32m<ipython-input-3-1b171ee8aba4>\u001b[0m in \u001b[0;36m<module>\u001b[1;34m()\u001b[0m\n\u001b[0;32m      1\u001b[0m \u001b[1;31m#Page 101, Figure 8.4\u001b[0m\u001b[1;33m\u001b[0m\u001b[1;33m\u001b[0m\u001b[0m\n\u001b[1;32m----> 2\u001b[1;33m \u001b[1;32mclass\u001b[0m \u001b[0mStudent\u001b[0m\u001b[1;33m(\u001b[0m\u001b[0mMITPerson\u001b[0m\u001b[1;33m)\u001b[0m\u001b[1;33m:\u001b[0m\u001b[1;33m\u001b[0m\u001b[0m\n\u001b[0m\u001b[0;32m      3\u001b[0m     \u001b[1;32mpass\u001b[0m\u001b[1;33m\u001b[0m\u001b[0m\n",
      "\u001b[1;31mNameError\u001b[0m: name 'MITPerson' is not defined"
     ]
    }
   ],
   "source": [
    "#Page 101, Figure 8.4\n",
    "class Student(MITPerson):\n",
    "    pass\n"
   ]
  },
  {
   "cell_type": "raw",
   "metadata": {},
   "source": [
    "What is going  on with the classes <b>`Student` and `Grad`</b>? \n",
    "\n",
    "By using the Python reserved word \n",
    "\n",
    "<b>`pass`</b> \n",
    "\n",
    "as the body, we indicate that the class has\n",
    "\n",
    "<b>no attributes other than</b> those inherited from its superclass. \n",
    "\n",
    "Why would one ever want to create a class with no new attributes?\n",
    "\n",
    "1) By introducing the class `Grad`, we gain the ability to \n",
    "\n",
    "create two different kinds of students and \n",
    "\n",
    "<b>use their types to distinguish one kind of object from another</b>.\n"
   ]
  },
  {
   "cell_type": "code",
   "execution_count": null,
   "metadata": {
    "collapsed": true
   },
   "outputs": [],
   "source": [
    "class UG(Student):\n",
    "    def __init__(self, name, classYear):\n",
    "        MITPerson.__init__(self, name)\n",
    "        self.year = classYear\n",
    "    def getClass(self):\n",
    "        return self.year\n",
    "    \n",
    "class Grad(Student):\n",
    "    pass\n"
   ]
  },
  {
   "cell_type": "code",
   "execution_count": null,
   "metadata": {
    "collapsed": false
   },
   "outputs": [],
   "source": [
    "#Page 101\n",
    "p5 = Grad('Buzz Aldrin')\n",
    "p6 = UG('Billy Beaver', 1984)\n",
    "print(p5, 'is a graduate student is', type(p5) == Grad) \n",
    "print(p5, 'is an undergraduate student is', type(p5) == UG)"
   ]
  },
  {
   "cell_type": "markdown",
   "metadata": {},
   "source": [
    "2) The utility of the <b>intermediate</b> type `Student` is a bit subtler.\n",
    "\n",
    "Consider going back to class `MITPerson` and adding the method\n",
    "```python\n",
    " def isStudent(self):  # 8.2.1\n",
    "        return isinstance(self, Student)\n",
    "```\n",
    "The function\n",
    "\n",
    "`isinstance`\n",
    "\n",
    "is built into Python. \n",
    "\n",
    "The first argument of `isinstance` can be any object, \n",
    "\n",
    "but <b>the second argument must be an object of type `type`</b>. \n",
    "\n",
    "The function returns `True` <b>if and only if</b> the first argument is an instance of the second argument.\n"
   ]
  },
  {
   "cell_type": "code",
   "execution_count": 1,
   "metadata": {
    "collapsed": false
   },
   "outputs": [
    {
     "data": {
      "text/plain": [
       "True"
      ]
     },
     "execution_count": 1,
     "metadata": {},
     "output_type": "execute_result"
    }
   ],
   "source": [
    "isinstance([1,2], list)"
   ]
  },
  {
   "cell_type": "markdown",
   "metadata": {},
   "source": [
    "Returning to our example,"
   ]
  },
  {
   "cell_type": "code",
   "execution_count": 2,
   "metadata": {
    "collapsed": false
   },
   "outputs": [
    {
     "ename": "NameError",
     "evalue": "name 'p5' is not defined",
     "output_type": "error",
     "traceback": [
      "\u001b[1;31m---------------------------------------------------------------------------\u001b[0m",
      "\u001b[1;31mNameError\u001b[0m                                 Traceback (most recent call last)",
      "\u001b[1;32m<ipython-input-2-d98e578e79e4>\u001b[0m in \u001b[0;36m<module>\u001b[1;34m()\u001b[0m\n\u001b[1;32m----> 1\u001b[1;33m \u001b[0mprint\u001b[0m\u001b[1;33m(\u001b[0m\u001b[0mp5\u001b[0m\u001b[1;33m,\u001b[0m \u001b[1;34m'is a student is'\u001b[0m\u001b[1;33m,\u001b[0m \u001b[0mp5\u001b[0m\u001b[1;33m.\u001b[0m\u001b[0misStudent\u001b[0m\u001b[1;33m(\u001b[0m\u001b[1;33m)\u001b[0m\u001b[1;33m)\u001b[0m\u001b[1;33m\u001b[0m\u001b[0m\n\u001b[0m\u001b[0;32m      2\u001b[0m \u001b[0mprint\u001b[0m\u001b[1;33m(\u001b[0m\u001b[0mp6\u001b[0m\u001b[1;33m,\u001b[0m \u001b[1;34m'is a student is'\u001b[0m\u001b[1;33m,\u001b[0m \u001b[0mp6\u001b[0m\u001b[1;33m.\u001b[0m\u001b[0misStudent\u001b[0m\u001b[1;33m(\u001b[0m\u001b[1;33m)\u001b[0m\u001b[1;33m)\u001b[0m\u001b[1;33m\u001b[0m\u001b[0m\n\u001b[0;32m      3\u001b[0m \u001b[0mprint\u001b[0m\u001b[1;33m(\u001b[0m\u001b[0mp3\u001b[0m\u001b[1;33m,\u001b[0m \u001b[1;34m'is a student is'\u001b[0m\u001b[1;33m,\u001b[0m \u001b[0mp3\u001b[0m\u001b[1;33m.\u001b[0m\u001b[0misStudent\u001b[0m\u001b[1;33m(\u001b[0m\u001b[1;33m)\u001b[0m\u001b[1;33m)\u001b[0m\u001b[1;33m\u001b[0m\u001b[0m\n",
      "\u001b[1;31mNameError\u001b[0m: name 'p5' is not defined"
     ]
    }
   ],
   "source": [
    "print(p5, 'is a student is', p5.isStudent())\n",
    "print(p6, 'is a student is', p6.isStudent())\n",
    "print(p3, 'is a student is', p3.isStudent())"
   ]
  },
  {
   "cell_type": "markdown",
   "metadata": {},
   "source": [
    "Notice that <b>isinstance(p6, Student)</b> is quite different from <b>type(p6) == Student</b>"
   ]
  },
  {
   "cell_type": "code",
   "execution_count": null,
   "metadata": {
    "collapsed": false
   },
   "outputs": [],
   "source": [
    "isinstance(p6, Student)"
   ]
  },
  {
   "cell_type": "code",
   "execution_count": null,
   "metadata": {
    "collapsed": false
   },
   "outputs": [],
   "source": [
    "type(p6) == Student."
   ]
  },
  {
   "cell_type": "markdown",
   "metadata": {},
   "source": [
    "The object to which `p6` is bound is of type `UG`, not `student`"
   ]
  },
  {
   "cell_type": "markdown",
   "metadata": {},
   "source": [
    "if a new type of student were introduced at some later point it would be necessary to <b>go back and edit the code</b> implementing isStudent. \n",
    "```Python\n",
    "def isStudent(self):\n",
    "    return type(self) == Grad or type(self) == UG\n",
    "````\n",
    "##### By introducing the intermediate class Student and using isinstance we avoid this problem.\n",
    "\n",
    "For example, if we were to add"
   ]
  },
  {
   "cell_type": "code",
   "execution_count": null,
   "metadata": {
    "collapsed": true
   },
   "outputs": [],
   "source": [
    "class TransferStudent(Student):\n",
    "\n",
    "    def __init__(self, name, fromSchool):\n",
    "        MITPerson.__init__(self, name)\n",
    "        self.fromSchool = fromSchool\n",
    "\n",
    "    def getOldSchool(self):\n",
    "        return self.fromSchool"
   ]
  },
  {
   "cell_type": "markdown",
   "metadata": {},
   "source": [
    "no change needs to be made to `isStudent`\n",
    "\n",
    "It is <b>not unusual</b> during the creation and later maintenance of a program to <b>go back</b> and add new classes or new attributes to old classes."
   ]
  },
  {
   "cell_type": "markdown",
   "metadata": {},
   "source": [
    "### 8.2.2 The Substitution Principle\n",
    "\n",
    "When subclassing is used to define a type hierarchy, the subclasses should be thought of as <b>extending</b> the behavior of their superclasses.\n",
    "\n",
    "<b>Sometimes</b>, the subclass <b>overrides</b> methods from the superclass, but this must be done with care. \n",
    "\n",
    "In particular, important \n",
    "\n",
    "behaviors of the `supertype` \n",
    "\n",
    "<b>must be supported</b> \n",
    "\n",
    "by each of its `subtypes`.\n",
    "\n",
    "##### Ref:\n",
    " Barbara Liskov: http://www.pmg.csail.mit.edu/~liskov/\n",
    " \n",
    " Jeannette M. Wing:  http://www.cs.cmu.edu/~wing/\n",
    "\n"
   ]
  },
  {
   "cell_type": "markdown",
   "metadata": {},
   "source": [
    "## 8.3 Encapsulation and Information Hiding\n",
    "\n",
    "Class Grades"
   ]
  },
  {
   "cell_type": "code",
   "execution_count": null,
   "metadata": {
    "collapsed": true
   },
   "outputs": [],
   "source": [
    "#Page 103, Figure 8.5\n",
    "\n",
    "class Grades(object):\n",
    "    \"\"\"A mapping from students to a list of grades\"\"\"\n",
    "    def __init__(self):\n",
    "        \"\"\"Create empty grade book\"\"\"\n",
    "        self.students = []\n",
    "        self.grades = {}\n",
    "        self.isSorted = True\n",
    "\n",
    "    def addStudent(self, student):\n",
    "        \"\"\"Assumes: student is of type Student\n",
    "           Add student to the grade book\"\"\"\n",
    "        if student in self.students:\n",
    "            raise ValueError('Duplicate student')\n",
    "        self.students.append(student)\n",
    "        self.grades[student.getIdNum()] = []\n",
    "        self.isSorted = False\n",
    "\n",
    "    def addGrade(self, student, grade):\n",
    "        \"\"\"Assumes: grade is a float\n",
    "           Add grade to the list of grades for student\"\"\"\n",
    "        try:\n",
    "            self.grades[student.getIdNum()].append(grade)\n",
    "        except:\n",
    "            raise ValueError('Student not in mapping')\n",
    "\n",
    "    def getGrades(self, student):\n",
    "        \"\"\"Return a list of grades for student\"\"\"\n",
    "        try: #return copy of student's grades\n",
    "            return self.grades[student.getIdNum()][:]\n",
    "        except:\n",
    "            raise ValueError('Student not in mapping')\n",
    "\n",
    "    def getStudents(self):\n",
    "        \"\"\"Return a list of the students in the grade book\"\"\"\n",
    "        if not self.isSorted:\n",
    "            self.students.sort()\n",
    "            self.isSorted = True\n",
    "        return self.students[:] #return copy of list of students"
   ]
  },
  {
   "cell_type": "markdown",
   "metadata": {},
   "source": [
    "Figure 8.5 contains a class that can be used to keep track of the grades of  collection of students. \n",
    "\n",
    "Instances of class Grades are implemented using a <b>list</b> and a <b>dictionary<b>. \n",
    "\n",
    "The <b>list</b> keeps track of the <b>students</b> in the class. \n",
    "```python\n",
    " self.students = []\n",
    "```\n",
    "The <b>dictionary</b> `maps` a student’s <b>identification number</b> to a list of <b>grades</b>.\n",
    "```python\n",
    "self.grades = {}\n",
    "\n",
    "self.grades[student.getIdNum()] = []\n",
    " \n",
    "self.grades[student.getIdNum()].append(grade)\n",
    "\n",
    "self.grades[student.getIdNum()][:]\n",
    "```"
   ]
  },
  {
   "cell_type": "markdown",
   "metadata": {},
   "source": [
    "Notice: \n",
    "\n",
    "`getGrades` returns <b>a copy of the list </b> of grades associated with a student, \n",
    "`getStudents` returns <b>a copy of the list</b> of students. \n",
    "\n",
    "The computational cost of copying the lists could have been avoided by <b>simply returning the instance variables themselves</b>. \n",
    "\n",
    "Doing so, however, is likely to lead to problems. Consider the code\n",
    "```python\n",
    "allStudents = course1.getStudents()\n",
    "allStudents.extend(course2.getStudents())\n",
    "```\n",
    "If `getStudents` returned `self.students`, the second line of code would have the\n",
    "(probably unexpected) side effect of changing the set of students in `course1`.\n",
    "\n",
    "#### Ref 5.2.1 Clone\n",
    "\n",
    "The instance variable `isSorted` is used to keep track of whether or not the list of students has been sorted since the last time a student was added to it. This allows the implementation of getStudents to avoid sorting an already sorted list"
   ]
  },
  {
   "cell_type": "markdown",
   "metadata": {},
   "source": [
    "a function that uses class Grades to produce a grade report for some students taking 6.00, the MIT course for which this book was\n",
    "developed"
   ]
  },
  {
   "cell_type": "code",
   "execution_count": null,
   "metadata": {
    "collapsed": false
   },
   "outputs": [],
   "source": [
    "#Page 105, Figure 8.6\n",
    "def gradeReport(course):\n",
    "    \"\"\"Assumes course is of type Grades\"\"\"\n",
    "    report = ''\n",
    "    for s in course.getStudents():\n",
    "        tot = 0.0\n",
    "        numGrades = 0\n",
    "        for g in course.getGrades(s):\n",
    "            tot += g\n",
    "            numGrades += 1\n",
    "        try:\n",
    "            average = tot/numGrades\n",
    "            report =(report + '\\n'\n",
    "                     + str(s) + '\\'s mean grade is ' + str(average))\n",
    "        except ZeroDivisionError:\n",
    "            report = (report + '\\n'\n",
    "                     + str(s) + ' has no grades')\n",
    "    return report\n",
    "\n",
    "ug1 = UG('Jane Doe', 2014)\n",
    "ug2 = UG('John Doe', 2015)\n",
    "ug3 = UG('David Henry', 2003)\n",
    "g1 = Grad('Billy Buckner')\n",
    "g2 = Grad('Bucky F. Dent')\n",
    "\n",
    "sixHundred = Grades()\n",
    "sixHundred.addStudent(ug1)\n",
    "sixHundred.addStudent(ug2)\n",
    "sixHundred.addStudent(g1)\n",
    "sixHundred.addStudent(g2)\n",
    "\n",
    "for s in sixHundred.getStudents():\n",
    "    sixHundred.addGrade(s, 75)\n",
    "\n",
    "sixHundred.addGrade(g1, 25)\n",
    "sixHundred.addGrade(g2, 100)\n",
    "\n",
    "sixHundred.addStudent(ug3)\n",
    "print(gradeReport(sixHundred))\n"
   ]
  },
  {
   "cell_type": "markdown",
   "metadata": {},
   "source": [
    "There are two important concepts at the heart of object-oriented programming. <b>encapsulation and information hiding</b>\n",
    "\n",
    "\n",
    "1.  <b>encapsulation</b>. \n",
    "\n",
    "   By this we mean the <b>bundling together of data attributes and the methods for operating on them</b>.\n",
    "```python    \n",
    "Rafael = MITPerson()\n",
    "```\n",
    "we can use dot notation to access attributes such as Rafael’s age and identification number.\n",
    "\n",
    "2. <b>information hiding</b>. \n",
    "\n",
    " This is one of <b>the keys to modularity</b>. \n",
    "    \n",
    "  If those parts of the program that use a class (i.e., the clients of the class) rely <b>only on the specifications</b> of the methods in the class, a programmer implementing the class is <b>free to change the implementation</b> of the class\n",
    "\n",
    "Some programming languages (Java and C++, for example) provide mechanisms for <b>enforcing information hiding</b>. Programmers can make the data attributes of a class invisible to clients of the class, and thus require that the data be accessed only through the object's methods.\n",
    "\n",
    "\n",
    "Unfortunately, Python does not provide mechanisms for enforcing information hiding.\n",
    "\n",
    "While this weak static semantic checking is a flaw in Python, it is not a fatal flaw. A disciplined programmer can simply follow the sensible rule of <b>not directly accessing data attributes from outside the class</b> in which they are defined."
   ]
  },
  {
   "cell_type": "markdown",
   "metadata": {},
   "source": [
    "### 8.3.1 Generators\n",
    "\n",
    "A perceived risk of information hiding is that preventing client programs from directly accessing critical data structures leads to <b>an unacceptable loss of efficiency</b>.\n",
    "\n",
    "Consider the implementation of `gradeReport` in Figure 8.6. The invocation of  `course.getStudents` \n",
    "```python\n",
    "  for s in course.getStudents():\n",
    "```\n",
    "<b>creates and returns a list of size n</b>, where n is the number of students.\n",
    "```python\n",
    "  def getStudents(self):\n",
    "        \"\"\"Return a list of the students in the grade book\"\"\"\n",
    "        if not self.isSorted:\n",
    "            self.students.sort()\n",
    "            self.isSorted = True\n",
    "        return self.students[:] #return copy of list of students\n",
    "```\n",
    "Creating a new list of that size when the list already exists is <b>a significant inefficiency</b>.\n",
    "\n",
    "One solution is to abandon the abstraction and allow gradeReport to <b>directly access</b> the instance variable `course.students`, but that would violate <b>information hiding</b>.\n",
    "\n",
    "### Fortunately, there is a better solution\n",
    "\n",
    "The code in Figure 8.7, replaces the `getStudents` function in class `Grades` with a function that uses a kind of statement we have not yet used: a `yield` statement."
   ]
  },
  {
   "cell_type": "code",
   "execution_count": null,
   "metadata": {
    "collapsed": false
   },
   "outputs": [],
   "source": [
    "# Page 103, Figure 8.5\n",
    "\n",
    "class Grades(object):\n",
    "    \"\"\"A mapping from students to a list of grades\"\"\"\n",
    "    def __init__(self):\n",
    "        \"\"\"Create empty grade book\"\"\"\n",
    "        self.students = []\n",
    "        self.grades = {}\n",
    "        self.isSorted = True\n",
    "\n",
    "    def addStudent(self, student):\n",
    "        \"\"\"Assumes: student is of type Student\n",
    "           Add student to the grade book\"\"\"\n",
    "        if student in self.students:\n",
    "            raise ValueError('Duplicate student')\n",
    "        self.students.append(student)\n",
    "        self.grades[student.getIdNum()] = []\n",
    "        self.isSorted = False\n",
    "\n",
    "    def addGrade(self, student, grade):\n",
    "        \"\"\"Assumes: grade is a float\n",
    "           Add grade to the list of grades for student\"\"\"\n",
    "        try:\n",
    "            self.grades[student.getIdNum()].append(grade)\n",
    "        except:\n",
    "            raise ValueError('Student not in mapping')\n",
    "\n",
    "    def getGrades(self, student):\n",
    "        \"\"\"Return a list of grades for student\"\"\"\n",
    "        try: #return copy of student's grades\n",
    "            return self.grades[student.getIdNum()][:]\n",
    "        except:\n",
    "            raise ValueError('Student not in mapping')\n",
    "\n",
    "    def getStudents(self):\n",
    "        \"\"\"Return a list of the students in the grade book\"\"\"\n",
    "        if not self.isSorted:\n",
    "            self.students.sort()\n",
    "            self.isSorted = True\n",
    "        #return self.students[:] #return copy of list of students\n",
    "        for s in self.students:\n",
    "            yield s"
   ]
  },
  {
   "cell_type": "markdown",
   "metadata": {},
   "source": [
    "The version of getStudents in Figure 8.7 allows programmers to use a `for` loop to iterate over the students in objects of type `Grades` in the same way they can use a `for` loop to iterate over elements of built-in types such as `list`."
   ]
  },
  {
   "cell_type": "code",
   "execution_count": null,
   "metadata": {
    "collapsed": false
   },
   "outputs": [],
   "source": [
    "#Page 107\n",
    "book = Grades()\n",
    "book.addStudent(Grad('Julie'))\n",
    "book.addStudent(Grad('Charlie'))\n",
    "for s in book.getStudents():\n",
    "    print(s)"
   ]
  },
  {
   "cell_type": "markdown",
   "metadata": {},
   "source": [
    "<b>Generating one value at a time</b> will be more efficient, because a new list containing the students will not be created.\n",
    "\n",
    "##### Ref:\n",
    "   To fully understand generators, you need to understand the way built-in `iterators` are implemented in Python,\n",
    "   \n",
    "   Python Toturial: 9.9 Iterators  9.10 Generators"
   ]
  },
  {
   "cell_type": "markdown",
   "metadata": {},
   "source": [
    "## 8.4 Mortgages, an Extended Example\n",
    "\n",
    "A collapse in U.S. housing prices helped trigger a severe economic meltdown in the fall of 2008. One of the contributing factors was that many homeowners had taken on mortgages that ended up having unexpected consequences.\n",
    "\n",
    "Let’s build a program that examines the costs of three kinds of loans：\n",
    "\n",
    "* A fixed-rate mortgage with no points,\n",
    "\n",
    "* A fixed-rate mortgage with points\n",
    "\n",
    "* A mortgage with an initial teaser rate followed by a higher rate for the duration.\n",
    "\n",
    "We will structure our code to include a ·Mortgage· class, and ·subclasses· corresponding to each of the three kinds of mortgages listed above.\n",
    "\n",
    "##### Mortgage base class\n",
    "\n"
   ]
  },
  {
   "cell_type": "code",
   "execution_count": null,
   "metadata": {
    "collapsed": true
   },
   "outputs": [],
   "source": [
    "#Page 109, Figure 8.8\n",
    "def findPayment(loan, r, m):\n",
    "    \"\"\"Assumes: loan and r are floats, m an int\n",
    "       Returns the monthly payment for a mortgage of size\n",
    "       loan at a monthly rate of r for m months\"\"\"\n",
    "    return loan*((r*(1+r)**m)/((1+r)**m - 1))\n",
    "\n",
    "class Mortgage(object):\n",
    "    \"\"\"Abstract class for building different kinds of mortgages\"\"\"\n",
    "    \n",
    "    def __init__(self, loan, annRate, months):\n",
    "        \"\"\"Create a new mortgage\"\"\"\n",
    "        self.loan = loan\n",
    "        self.rate = annRate/12.0\n",
    "        self.months = months\n",
    "        self.paid = [0.0]\n",
    "        self.owed = [loan]\n",
    "        self.payment = findPayment(loan, self.rate, months)\n",
    "        self.legend = None #description of mortgage\n",
    "    \n",
    "    def makePayment(self):\n",
    "        \"\"\"Make a payment\"\"\"\n",
    "        self.paid.append(self.payment)\n",
    "        reduction = self.payment - self.owed[-1]*self.rate\n",
    "        self.owed.append(self.owed[-1] - reduction)\n",
    "    \n",
    "    def getTotalPaid(self):\n",
    "        \"\"\"Return the total amount paid so far\"\"\"\n",
    "        return sum(self.paid)\n",
    "    \n",
    "    def __str__(self):\n",
    "        return self.legend"
   ]
  },
  {
   "cell_type": "markdown",
   "metadata": {},
   "source": [
    "The function `findPayment` at the top of the figure computes the size of the fixed monthly payment needed to pay off the loan, including interest, by the end of its  term. It does this using <b>a well-known closed-form expression</b>.\n",
    "\n",
    "When your code incorporates formulas you have looked up, make sure that:\n",
    "\n",
    "* You have taken the formula from <b>a reputable source</b>.\n",
    "\n",
    "* You fully <b>understand the meaning of all the variables</b> in the formula\n",
    "\n",
    "* You <b>test</b> your implementation against examples taken from <b>reputable sources>/b>.\n",
    "\n",
    "\n",
    "The method `makePayment` is used to record mortgage payments.\n",
    "\n",
    "The method `getTotalPaid` uses the built-in Python function `sum`, which returns the sum of a sequence of numbers\n",
    "\n",
    "Figure 8.9 contains classes implementing two types of mortgage. Each of these classes overrides `__init__` and inherits the other three methods from `Mortgage`.\n"
   ]
  },
  {
   "cell_type": "code",
   "execution_count": null,
   "metadata": {
    "collapsed": true
   },
   "outputs": [],
   "source": [
    "#Page 110, Figure 8.9\n",
    "class Fixed(Mortgage):\n",
    "    def __init__(self, loan, r, months):\n",
    "        Mortgage.__init__(self, loan, r, months)\n",
    "        self.legend = 'Fixed, ' + str(r*100) + '%'\n",
    "\n",
    "class FixedWithPts(Mortgage):\n",
    "    def __init__(self, loan, r, months, pts):\n",
    "        Mortgage.__init__(self, loan, r, months)\n",
    "        self.pts = pts\n",
    "        self.paid = [loan*(pts/100.0)]\n",
    "        self.legend =('Fixed, ' + str(r*100) + '%, '\\\n",
    "                      + str(pts) + ' points')"
   ]
  },
  {
   "cell_type": "markdown",
   "metadata": {},
   "source": [
    "Figure 8.10 contains a third subclass of `Mortgage`. The class `TwoRate` treats the mortgage as the concatenation of two loans, each at a different interest rate."
   ]
  },
  {
   "cell_type": "code",
   "execution_count": null,
   "metadata": {
    "collapsed": true
   },
   "outputs": [],
   "source": [
    "#Page 111, Figure 8.10\n",
    "class TwoRate(Mortgage):\n",
    "    def __init__(self, loan, r, months, teaserRate, teaserMonths):\n",
    "        Mortgage.__init__(self, loan, teaserRate, months)\n",
    "        self.teaserMonths = teaserMonths\n",
    "        self.teaserRate = teaserRate\n",
    "        self.nextRate = r/12.0\n",
    "        self.legend =(str(teaserRate*100)\n",
    "                      + '% for ' + str(self.teaserMonths)\n",
    "                      + ' months, then ' + str(r*100) + '%')\n",
    "    def makePayment(self):\n",
    "        if len(self.paid) == self.teaserMonths + 1:\n",
    "            self.rate = self.nextRate\n",
    "            self.payment = findPayment(self.owed[-1], self.rate,\n",
    "                                       self.months - self.teaserMonths)\n",
    "        Mortgage.makePayment(self)"
   ]
  },
  {
   "cell_type": "markdown",
   "metadata": {},
   "source": [
    "Figure 8.11 contains a function that computes and prints the total cost of eachkind of mortgage for a sample set of parameters"
   ]
  },
  {
   "cell_type": "code",
   "execution_count": null,
   "metadata": {
    "collapsed": false
   },
   "outputs": [],
   "source": [
    "#Page 111, Figure 8.11\n",
    "def compareMortgages(amt, years, fixedRate, pts, ptsRate,\n",
    "                     varRate1, varRate2, varMonths):\n",
    "    totMonths = years*12\n",
    "    fixed1 = Fixed(amt, fixedRate, totMonths)\n",
    "    fixed2 = FixedWithPts(amt, ptsRate, totMonths, pts)\n",
    "    twoRate = TwoRate(amt, varRate2, totMonths, varRate1, varMonths)\n",
    "    morts = [fixed1, fixed2, twoRate]\n",
    "    for m in range(totMonths):\n",
    "        for mort in morts:\n",
    "            mort.makePayment()\n",
    "    for m in morts:\n",
    "        print('\\n',m)\n",
    "        print(' Total payments = $' + str(int(m.getTotalPaid())))\n",
    "\n",
    "compareMortgages(amt=200000, years=30, fixedRate=0.07,\n",
    "                 pts = 3.25, ptsRate=0.05, varRate1=0.045,\n",
    "                 varRate2=0.095, varMonths=48)\n",
    "\n"
   ]
  },
  {
   "cell_type": "markdown",
   "metadata": {},
   "source": [
    "This suggests that rather than looking at a single number, we should look at payments over time. This in turn suggests that our program should be producing plots designed to show <b>how the mortgage behaves over time</b>"
   ]
  },
  {
   "cell_type": "code",
   "execution_count": null,
   "metadata": {
    "collapsed": true
   },
   "outputs": [],
   "source": []
  }
 ],
 "metadata": {
  "kernelspec": {
   "display_name": "Python 3",
   "language": "python",
   "name": "python3"
  },
  "language_info": {
   "codemirror_mode": {
    "name": "ipython",
    "version": 3
   },
   "file_extension": ".py",
   "mimetype": "text/x-python",
   "name": "python",
   "nbconvert_exporter": "python",
   "pygments_lexer": "ipython3",
   "version": "3.5.1"
  }
 },
 "nbformat": 4,
 "nbformat_minor": 0
}
