{
 "cells": [
  {
   "cell_type": "markdown",
   "metadata": {},
   "source": [
    "# Contents\n",
    "<ol>\n",
    "<li>Python language\n",
    "<li>A useful set of algorithmic and problem reduction techniques\n",
    "<li>Software engineering tips & tools for engineers/scientists writing Python code\n",
    "<li>Computational tools to model and understand data.\n",
    "</ol>\n",
    "\n",
    "# Goal\n",
    "<ol>\n",
    "<li>Writing clean, testable, high quality code in Python\n",
    "<li>The ability and habit of using the original IT resources in English,especially @ internet,to study and develop software\n",
    "</ol>\n",
    "<p><b>You will feel <b>comfortable bringing computational thinking to bear on solving many of the problems you encounter during your studies, work, and even everyday life.</b>"
   ]
  },
  {
   "cell_type": "markdown",
   "metadata": {},
   "source": [
    "# Textbooks\n",
    "<ul>\n",
    "<li>梁杰译. 编程导论. 人民邮电出版社( 第1版) .  2015.03\n",
    "<li>John V. Guttag. Introduction to Computation and Programming Using Python(2nd). MIT Press. 2013.08\n",
    "<li>邹欣. 构建之法: 现代软件工程( 第1版). 人民邮电出版社, 2014.09\n",
    "</ul>"
   ]
  },
  {
   "cell_type": "markdown",
   "metadata": {},
   "source": [
    "# Github organization\n",
    "\n",
    "Organization@Github：https://github.com/Py03013052/\n",
    "\n",
    "Repository: \n",
    "\n",
    "<ul>\n",
    "<li>https://github.com/Py03013052/home\n",
    "\n",
    "<ul>\n",
    "<li>Lectures in ipython notebook\n",
    "<li>Code in python3 \n",
    "<li>Guide\n",
    "<li>practice\n",
    "</ul>\n",
    "\n",
    "<li>https://github.com/Py03013052/SEUIF97\n",
    "\n",
    "IAPWS-IF97: dynamic library (Windows32/64, Linux64); Excel Macro; Python Interface  \n",
    "\n",
    "<li>https://github.com/Py03013052/tornado-websocket-rest-example \n",
    "\n",
    "This is a very simple websocket and rest-api example based on tornado  \n",
    "\n",
    "</ul>\n",
    "\n",
    "<p><b>Owner:</b>\n",
    "<ul>\n",
    "<li>Github: https://github.com/thermalogic/\n",
    "<li>Email: cmh@seu.edu.cn \n",
    "</ul>"
   ]
  },
  {
   "cell_type": "markdown",
   "metadata": {},
   "source": [
    "# Practices & Examination\n",
    "<ol>\n",
    "<li>课堂互动： 参与次数、内容、质量， 30%；\n",
    "<li>软件实践: 英文资源使用、开发环境、软件测试、版本控制、互动、社区编程模式等软件工程实践，50% \n",
    "<li>期末考试: 程序和算法基础，20%\n",
    "</ol>"
   ]
  },
  {
   "cell_type": "markdown",
   "metadata": {},
   "source": [
    "# Suggestion\n",
    "<p><b>The only way to learn programming is by doing</b></p>\n",
    "<h3>行是知之始，知是行之成 - 陶行知</h3>\n",
    "<ul class=\"arrow\">\n",
    "  <li> 程序设计语言：简明教程ABC入门即可，不需要大部头</li>\n",
    "  <li> 程序设计能力：做中学. 无需是语言和软件包的高手，但需要是解决问题的能手：能编写程序解决学习、工作和生活中的问题</li>\n",
    "  <li> 学习资源：官网是最佳学习资源,尽可能看英文</li>\n",
    "</ul>"
   ]
  },
  {
   "cell_type": "raw",
   "metadata": {},
   "source": []
  }
 ],
 "metadata": {
  "kernelspec": {
   "display_name": "Python 3",
   "language": "python",
   "name": "python3"
  },
  "language_info": {
   "codemirror_mode": {
    "name": "ipython",
    "version": 3
   },
   "file_extension": ".py",
   "mimetype": "text/x-python",
   "name": "python",
   "nbconvert_exporter": "python",
   "pygments_lexer": "ipython3",
   "version": "3.5.1"
  }
 },
 "nbformat": 4,
 "nbformat_minor": 0
}
