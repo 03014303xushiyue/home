{
 "cells": [
  {
   "cell_type": "markdown",
   "metadata": {},
   "source": [
    "# 7 EXCEPTIONS AND ASSERTIONS\n",
    "\n",
    "An <b>“exception”</b>is usually defined as “something that does not conform to the norm,”\n",
    "\n",
    "There is nothing rare about exceptions in Python. \n",
    "\n",
    "They are everywhere. \n",
    "\n",
    "Virtually every module in the standard Python library uses them, \n",
    "\n",
    "and Python itself will <b>raise</b> them in many different circumstances。\n"
   ]
  },
  {
   "cell_type": "code",
   "execution_count": null,
   "metadata": {
    "collapsed": false
   },
   "outputs": [],
   "source": [
    "test = [1,2,3]\n",
    "test[3]"
   ]
  },
  {
   "cell_type": "markdown",
   "metadata": {},
   "source": [
    "<b>IndexError</b> is <b>the type of exception</b> that Python raises\n",
    "\n",
    "    when a program tries to access an element that is not within the bounds of an indexable type.\n",
    "\n",
    "The string following <b>IndexError</b>\n",
    "```\n",
    "list index out of range\n",
    "```\n",
    "provides <b>additional information</b> about what caused the exception to occur."
   ]
  },
  {
   "cell_type": "code",
   "execution_count": null,
   "metadata": {
    "collapsed": true
   },
   "outputs": [],
   "source": [
    "a=10 * (1/0)"
   ]
  },
  {
   "cell_type": "code",
   "execution_count": null,
   "metadata": {
    "collapsed": true
   },
   "outputs": [],
   "source": [
    "4 + spam*3"
   ]
  },
  {
   "cell_type": "code",
   "execution_count": null,
   "metadata": {
    "collapsed": true
   },
   "outputs": [],
   "source": [
    "'2' + 2"
   ]
  },
  {
   "cell_type": "markdown",
   "metadata": {},
   "source": [
    "Most of <b>the built-in exceptions</b> of Python deal with situations \n",
    "\n",
    "in which a program has attempted to execute a statement with no appropriate semantics。\n",
    "\n",
    "Among the most commonly occurring types of exceptions are\n",
    "\n",
    "```\n",
    "TypeError\n",
    "\n",
    "NameError\n",
    "\n",
    "ValueError\n",
    "```\n",
    "\n",
    "### The Python Library Reference : CHAPTER FIVE BUILT-IN EXCEPTIONS\n",
    "\n",
    "https://docs.python.org/3/library/exceptions.html\n",
    "### 5.4. Exception hierarchy\n",
    "\n",
    "The class hierarchy for built-in exceptions is:\n",
    "\n",
    "```\n",
    "BaseException\n",
    " +-- SystemExit\n",
    " +-- KeyboardInterrupt\n",
    " +-- GeneratorExit\n",
    " +-- Exception\n",
    "      +-- StopIteration\n",
    "      +-- StopAsyncIteration\n",
    "      +-- ArithmeticError\n",
    "      |    +-- FloatingPointError\n",
    "      |    +-- OverflowError\n",
    "      |    +-- ZeroDivisionError\n",
    "      +-- AssertionError\n",
    "      +-- AttributeError\n",
    "      +-- BufferError\n",
    "      +-- EOFError\n",
    "      +-- ImportError\n",
    "      +-- LookupError\n",
    "      |    +-- IndexError\n",
    "      |    +-- KeyError\n",
    "      +-- MemoryError\n",
    "      +-- NameError\n",
    "      |    +-- UnboundLocalError\n",
    "      +-- OSError\n",
    "      |    +-- BlockingIOError\n",
    "      |    +-- ChildProcessError\n",
    "      |    +-- ConnectionError\n",
    "      |    |    +-- BrokenPipeError\n",
    "      |    |    +-- ConnectionAbortedError\n",
    "      |    |    +-- ConnectionRefusedError\n",
    "      |    |    +-- ConnectionResetError\n",
    "      |    +-- FileExistsError\n",
    "      |    +-- FileNotFoundError\n",
    "      |    +-- InterruptedError\n",
    "      |    +-- IsADirectoryError\n",
    "      |    +-- NotADirectoryError\n",
    "      |    +-- PermissionError\n",
    "      |    +-- ProcessLookupError\n",
    "      |    +-- TimeoutError\n",
    "      +-- ReferenceError\n",
    "      +-- RuntimeError\n",
    "      |    +-- NotImplementedError\n",
    "      |    +-- RecursionError\n",
    "      +-- SyntaxError\n",
    "      |    +-- IndentationError\n",
    "      |         +-- TabError\n",
    "      +-- SystemError\n",
    "      +-- TypeError\n",
    "      +-- ValueError\n",
    "      |    +-- UnicodeError\n",
    "      |         +-- UnicodeDecodeError\n",
    "      |         +-- UnicodeEncodeError\n",
    "      |         +-- UnicodeTranslateError\n",
    "      +-- Warning\n",
    "           +-- DeprecationWarning\n",
    "           +-- PendingDeprecationWarning\n",
    "           +-- RuntimeWarning\n",
    "           +-- SyntaxWarning\n",
    "           +-- UserWarning\n",
    "           +-- FutureWarning\n",
    "           +-- ImportWarning\n",
    "           +-- UnicodeWarning\n",
    "           +-- BytesWarning\n",
    "           +-- ResourceWarning\n",
    "```"
   ]
  },
  {
   "cell_type": "markdown",
   "metadata": {},
   "source": [
    "## 7.1 Handling Exceptions\n",
    "\n",
    "When <b>an exception is raised that causes the program to terminate</b>, \n",
    "\n",
    "we say that an <b>unhandled exception</b> has been raised.\n",
    "\n",
    "### Exceptions, when raised, can and <b>should be handled</b> by the program."
   ]
  },
  {
   "cell_type": "code",
   "execution_count": 3,
   "metadata": {
    "collapsed": false
   },
   "outputs": [
    {
     "ename": "ZeroDivisionError",
     "evalue": "float division by zero",
     "output_type": "error",
     "traceback": [
      "\u001b[1;31m---------------------------------------------------------------------------\u001b[0m",
      "\u001b[1;31mZeroDivisionError\u001b[0m                         Traceback (most recent call last)",
      "\u001b[1;32m<ipython-input-3-b872a1013656>\u001b[0m in \u001b[0;36m<module>\u001b[1;34m()\u001b[0m\n\u001b[0;32m      2\u001b[0m \u001b[0mnumSuccesses\u001b[0m\u001b[1;33m=\u001b[0m\u001b[1;36m1\u001b[0m\u001b[1;33m\u001b[0m\u001b[0m\n\u001b[0;32m      3\u001b[0m \u001b[1;33m\u001b[0m\u001b[0m\n\u001b[1;32m----> 4\u001b[1;33m \u001b[0msuccessFailureRatio\u001b[0m \u001b[1;33m=\u001b[0m \u001b[0mnumSuccesses\u001b[0m\u001b[1;33m/\u001b[0m\u001b[0mfloat\u001b[0m\u001b[1;33m(\u001b[0m\u001b[0mnumFailures\u001b[0m\u001b[1;33m)\u001b[0m\u001b[1;33m\u001b[0m\u001b[0m\n\u001b[0m\u001b[0;32m      5\u001b[0m \u001b[1;33m\u001b[0m\u001b[0m\n\u001b[0;32m      6\u001b[0m \u001b[0mprint\u001b[0m\u001b[1;33m(\u001b[0m\u001b[1;34m'The success/failure ratio is'\u001b[0m\u001b[1;33m,\u001b[0m \u001b[0msuccessFailureRatio\u001b[0m\u001b[1;33m)\u001b[0m\u001b[1;33m\u001b[0m\u001b[0m\n",
      "\u001b[1;31mZeroDivisionError\u001b[0m: float division by zero"
     ]
    }
   ],
   "source": [
    "numFailures=0 # raise a ZeroDivisionError exception,\n",
    "numSuccesses=1\n",
    "\n",
    "successFailureRatio = numSuccesses/float(numFailures)\n",
    "\n",
    "print('The success/failure ratio is', successFailureRatio)\n",
    "print('Now here')"
   ]
  },
  {
   "cell_type": "markdown",
   "metadata": {},
   "source": [
    "```\n",
    "+-- ArithmeticError\n",
    "      |    +-- FloatingPointError\n",
    "      |    +-- OverflowError\n",
    "      |    +-- ZeroDivisionError\n",
    "```"
   ]
  },
  {
   "cell_type": "markdown",
   "metadata": {},
   "source": [
    "### Handle exception:\n",
    "\n",
    "<b>1. one kind of exceptions</b>\n",
    "\n",
    "If it is possible for a block of program code to raise \n",
    "```python\n",
    "try:\n",
    "\n",
    "\n",
    "except <type of exceptions>:  # IndexError\n",
    "\n",
    "\n",
    "```\n",
    "\n",
    "<b>2. more than one kind of exception</b>, \n",
    "\n",
    "the reserved word except can be followed by <b>a tuple</b> of exceptions,\n",
    "```python\n",
    "try:\n",
    "\n",
    "\n",
    "except (RuntimeError, TypeError, NameError):\n",
    "  \n",
    "  \n",
    "```\n",
    "\n",
    "<b>3. any kind of exception</b>\n",
    "\n",
    "the except block will be entered if <b>any kind of exception </b>is raised within the try  block.\n",
    "\n",
    "```python\n",
    "try:\n",
    "\n",
    "except :\n",
    "\n",
    "\n",
    "```"
   ]
  },
  {
   "cell_type": "code",
   "execution_count": 4,
   "metadata": {
    "collapsed": false
   },
   "outputs": [
    {
     "name": "stdout",
     "output_type": "stream",
     "text": [
      "No failures so the success/failure ratio is undefined.\n",
      "Now here\n"
     ]
    }
   ],
   "source": [
    "numFailures=0 # raise a ZeroDivisionError exception,\n",
    "numSuccesses=1\n",
    "\n",
    "try:\n",
    "    successFailureRatio = numSuccesses/float(numFailures)\n",
    "    print('The success/failure ratio is', successFailureRatio)\n",
    "    \n",
    "except ZeroDivisionError:\n",
    "    \n",
    "    print('No failures so the success/failure ratio is undefined.')\n",
    "\n",
    "print('Now here')"
   ]
  },
  {
   "cell_type": "code",
   "execution_count": null,
   "metadata": {
    "collapsed": false
   },
   "outputs": [],
   "source": [
    "val = int(input('Enter an integer: '))\n",
    "print('The square of the number you entered is', val**2)"
   ]
  },
  {
   "cell_type": "code",
   "execution_count": null,
   "metadata": {
    "collapsed": false
   },
   "outputs": [],
   "source": [
    "while True:\n",
    "    val =input('Enter an integer: ')\n",
    "    try:\n",
    "        val = int(val)\n",
    "        print('The square of the number you entered is', val**2)\n",
    "        \n",
    "        break #to exit the while loop\n",
    "        \n",
    "    except ValueError:\n",
    "        print(val, 'is not an integer')"
   ]
  },
  {
   "cell_type": "markdown",
   "metadata": {},
   "source": [
    "## Introducing a function `readInt()`for int only"
   ]
  },
  {
   "cell_type": "code",
   "execution_count": null,
   "metadata": {
    "collapsed": false
   },
   "outputs": [],
   "source": [
    "def readInt():\n",
    "    while True:\n",
    "        val = input('Enter an integer: ')\n",
    "        try:\n",
    "            val = int(val)\n",
    "            return val\n",
    "        except ValueError:\n",
    "            print(val, 'is not an integer')"
   ]
  },
  {
   "cell_type": "code",
   "execution_count": null,
   "metadata": {
    "collapsed": false
   },
   "outputs": [],
   "source": [
    "readInt()"
   ]
  },
  {
   "cell_type": "markdown",
   "metadata": {},
   "source": [
    "this function can be <b>generalized</b> to ask for any type of input,\n"
   ]
  },
  {
   "cell_type": "code",
   "execution_count": null,
   "metadata": {
    "collapsed": true
   },
   "outputs": [],
   "source": [
    "def readVal(valType, requestMsg, errorMsg):\n",
    "    while True:\n",
    "        val =input(requestMsg + ' ')\n",
    "        try:\n",
    "            val = valType(val)\n",
    "            return val\n",
    "        except ValueError:\n",
    "            print(val, errorMsg)\n"
   ]
  },
  {
   "cell_type": "markdown",
   "metadata": {},
   "source": [
    "The function `readVal` is <b>polymorphic</b>, \n",
    "\n",
    "i.e., it works for arguments of many different types.\n",
    "\n",
    "We can now ask for an  <b>integer</b> using the code"
   ]
  },
  {
   "cell_type": "code",
   "execution_count": null,
   "metadata": {
    "collapsed": false
   },
   "outputs": [],
   "source": [
    "val = readVal(int, 'Enter an integer:', 'is not an integer')"
   ]
  },
  {
   "cell_type": "markdown",
   "metadata": {},
   "source": [
    "when asked to convert the string 'abc' to an object of type int?"
   ]
  },
  {
   "cell_type": "code",
   "execution_count": 5,
   "metadata": {
    "collapsed": false
   },
   "outputs": [
    {
     "ename": "ValueError",
     "evalue": "invalid literal for int() with base 10: 'abc'",
     "output_type": "error",
     "traceback": [
      "\u001b[1;31m---------------------------------------------------------------------------\u001b[0m",
      "\u001b[1;31mValueError\u001b[0m                                Traceback (most recent call last)",
      "\u001b[1;32m<ipython-input-5-b981d0a890b3>\u001b[0m in \u001b[0;36m<module>\u001b[1;34m()\u001b[0m\n\u001b[1;32m----> 1\u001b[1;33m \u001b[0mint\u001b[0m\u001b[1;33m(\u001b[0m\u001b[1;34m'abc'\u001b[0m\u001b[1;33m)\u001b[0m\u001b[1;33m\u001b[0m\u001b[0m\n\u001b[0m",
      "\u001b[1;31mValueError\u001b[0m: invalid literal for int() with base 10: 'abc'"
     ]
    }
   ],
   "source": [
    "int('abc')"
   ]
  },
  {
   "cell_type": "markdown",
   "metadata": {},
   "source": [
    "## 7.2 Exceptions as a Control Flow Mechanism\n",
    "\n",
    "Don’t think of exceptions as purely for errors. They are a convenient flow-of control mechanism that can be used to simplify programs.\n",
    "\n",
    "In Python, it is more usual to have a function raise an exception when it cannot produce a result that is consistent\n",
    "with the function’s specification.\n",
    "\n",
    "The form of a raise statement is   \n",
    "\n",
    "```python\n",
    "raise exceptionName(arguments)\n",
    "```\n",
    "\n",
    "The exceptionName is usually one of the built-in exceptions\n",
    "\n",
    "Most of the time the argument is a single string, which is used to describe the reason the exception is being raised.\n"
   ]
  },
  {
   "cell_type": "markdown",
   "metadata": {
    "collapsed": true
   },
   "source": [
    "#### Using exceptions for control flow\n"
   ]
  },
  {
   "cell_type": "code",
   "execution_count": null,
   "metadata": {
    "collapsed": true
   },
   "outputs": [],
   "source": [
    "#Page 88, Figure 7.1\n",
    "def getRatios(vect1, vect2):\n",
    "    \"\"\"Assumes: vect1 and vect2 are lists of equal length of numbers\n",
    "       Returns: a list containing the meaningful values of \n",
    "             vect1[i]/vect2[i]\"\"\"\n",
    "    ratios = []\n",
    "    for index in range(len(vect1)):\n",
    "        try:\n",
    "            ratios.append(vect1[index]/vect2[index])\n",
    "        except ZeroDivisionError:\n",
    "            ratios.append(float('nan'))#nan = Not a Number\n",
    "        except:\n",
    "            raise ValueError('getRatios called with bad arguments')\n",
    "    return ratios"
   ]
  },
  {
   "cell_type": "code",
   "execution_count": null,
   "metadata": {
    "collapsed": false
   },
   "outputs": [],
   "source": [
    "vect1=[1,3,5,7]\n",
    "vect2=[3,3.1,0,7.8]\n",
    "ratios=getRatios(vect1, vect2)\n",
    "print(ratios)"
   ]
  },
  {
   "cell_type": "markdown",
   "metadata": {},
   "source": [
    "The following code illustrates how a program might use getRatios."
   ]
  },
  {
   "cell_type": "code",
   "execution_count": null,
   "metadata": {
    "collapsed": false
   },
   "outputs": [],
   "source": [
    "#Page 88\n",
    "try:\n",
    "    print(getRatios([1.0,7.2,7.0,6.0], [1.0,2.0,0.0,3.0]))\n",
    "    print(getRatios([], []))\n",
    "    print(getRatios([1.0, 2.0], [3.0]))\n",
    "except ValueError as msg:\n",
    "    print(msg)"
   ]
  },
  {
   "cell_type": "markdown",
   "metadata": {},
   "source": [
    "#### Python3: 8. Errors and Exceptions¶\n",
    "\n",
    "https://docs.python.org/3/tutorial/errors.html#exceptions\n",
    "     "
   ]
  },
  {
   "cell_type": "markdown",
   "metadata": {},
   "source": [
    "an implementation of the same specification, but without\n",
    "using a try-except."
   ]
  },
  {
   "cell_type": "code",
   "execution_count": null,
   "metadata": {
    "collapsed": true
   },
   "outputs": [],
   "source": [
    "#Page 88, Figure 7.2\n",
    "def getRatios(vect1, vect2): \n",
    "    \"\"\"Assumes: vect1 and vect2 are lists of equal length of numbers\n",
    "       Returns: a list containing the meaningful values of \n",
    "             vect1[i]/vect2[i]\"\"\"\n",
    "    ratios = []\n",
    "    if len(vect1) != len(vect2):\n",
    "        raise ValueError('getRatios called with bad arguments')\n",
    "    for index in range(len(vect1)):\n",
    "        vect1Elem = vect1[index]\n",
    "        vect2Elem = vect2[index]\n",
    "        if (type(vect1Elem) not in (int, float))\\\n",
    "           or (type(vect2Elem) not in (int, float)):\n",
    "            raise ValueError('getRatios called with bad arguments')\n",
    "        if vect2Elem == 0.0:\n",
    "            ratios.append(float('NaN')) #NaN = Not a Number\n",
    "        else:\n",
    "            ratios.append(vect1Elem/vect2Elem)\n",
    "    return ratios"
   ]
  },
  {
   "cell_type": "code",
   "execution_count": null,
   "metadata": {
    "collapsed": false
   },
   "outputs": [],
   "source": [
    "vect1=[1,3,5,7]\n",
    "vect2=[3,3.1,0,7.8]\n",
    "ratios=getRatios(vect1, vect2)\n",
    "print(ratios)"
   ]
  },
  {
   "cell_type": "markdown",
   "metadata": {},
   "source": [
    "Let us look at one more example."
   ]
  },
  {
   "cell_type": "code",
   "execution_count": null,
   "metadata": {
    "collapsed": false
   },
   "outputs": [],
   "source": [
    "def getGrades(fname):\n",
    "    try:\n",
    "        gradesFile = open(fname, 'r') #open file for reading\n",
    "    except IOError:\n",
    "        raise ValueError('getGrades could not open ' + fname)\n",
    "    grades = []\n",
    "    for line in gradesFile:\n",
    "        try:\n",
    "            grades.append(float(line))\n",
    "        except:\n",
    "            raise ValueError('Unable to convert line to float')\n",
    "    return grades\n",
    "   \n",
    "try:\n",
    "   grades = getGrades('./src/quiz1grades.txt')\n",
    "   #grades = getGrades('Aquiz1grades.txt')\n",
    "   grades.sort()\n",
    "   median = grades[len(grades)//2]\n",
    "   print('Median grade is', median)\n",
    "except ValueError as errorMsg:\n",
    "   print('Whoops.', errorMsg)"
   ]
  },
  {
   "cell_type": "markdown",
   "metadata": {},
   "source": [
    "## 7.3 Assertions\n",
    "\n",
    "The Python assert statement provides programmers with a simple way to confirm that the state of the computation is as expected. An assert statement can take one of two forms:\n",
    "\n",
    "```python\n",
    "assert Boolean expression\n",
    "\n",
    "assert Boolean expression, argument \n",
    "```\n",
    "Assertions are a useful defensive programming tool\n",
    "\n",
    "They are also  a useful debugging tool.\n"
   ]
  },
  {
   "cell_type": "code",
   "execution_count": null,
   "metadata": {
    "collapsed": false
   },
   "outputs": [],
   "source": [
    "mylist = ['item1','item2']\n",
    "assert len(mylist) >= 2\n",
    "mylist.pop()\n",
    "mylist"
   ]
  },
  {
   "cell_type": "code",
   "execution_count": null,
   "metadata": {
    "collapsed": false
   },
   "outputs": [],
   "source": [
    "assert len(mylist) >= 2"
   ]
  },
  {
   "cell_type": "markdown",
   "metadata": {},
   "source": [
    "# Assert statements（Python3)"
   ]
  },
  {
   "cell_type": "markdown",
   "metadata": {
    "collapsed": true
   },
   "source": [
    "Assert statements are a convenient way to insert debugging assertions into a program:"
   ]
  },
  {
   "cell_type": "markdown",
   "metadata": {
    "collapsed": true
   },
   "source": [
    "The simple form, `assert` expression, is equivalent to"
   ]
  },
  {
   "cell_type": "code",
   "execution_count": null,
   "metadata": {
    "collapsed": true
   },
   "outputs": [],
   "source": [
    "if __debug__:\n",
    "   if not expression: raise AssertionError"
   ]
  },
  {
   "cell_type": "code",
   "execution_count": null,
   "metadata": {
    "collapsed": true
   },
   "outputs": [],
   "source": [
    "The extended form, assert expression1, expression2, is equivalent to"
   ]
  },
  {
   "cell_type": "code",
   "execution_count": null,
   "metadata": {
    "collapsed": true
   },
   "outputs": [],
   "source": [
    "if __debug__:\n",
    "   if not expression1: raise AssertionError(expression2)"
   ]
  },
  {
   "cell_type": "markdown",
   "metadata": {},
   "source": [
    "These equivalences assume that __debug__ and AssertionError refer to the built-in variables with those names. \n",
    "\n",
    "In the current implementation, the built-in variable __debug__ is True under normal circumstances, False when optimization is requested (command line option -O). \n",
    "\n",
    "The current code generator emits no code for an assert statement when optimization is requested at compile time. Note that it is unnecessary to include the source code for the expression that failed in the error message; it will be displayed as part of the stack trace.\n",
    "\n",
    "Assignments to __debug__ are illegal. The value for the built-in variable is determined when the interpreter starts.\n"
   ]
  }
 ],
 "metadata": {
  "kernelspec": {
   "display_name": "Python 3",
   "language": "python",
   "name": "python3"
  },
  "language_info": {
   "codemirror_mode": {
    "name": "ipython",
    "version": 3
   },
   "file_extension": ".py",
   "mimetype": "text/x-python",
   "name": "python",
   "nbconvert_exporter": "python",
   "pygments_lexer": "ipython3",
   "version": "3.5.1"
  }
 },
 "nbformat": 4,
 "nbformat_minor": 0
}
