{
 "cells": [
  {
   "cell_type": "raw",
   "metadata": {},
   "source": [
    "## 2 Basic Steps of Online Monitoring  \n",
    "\n",
    "* 2.1real-time data\n",
    "  * setup Tags of source points in DataBase\n",
    "  * sampling and send data to DataBase\n",
    "\n",
    "* 2.2 online analysis\n",
    "  * setup Tags of results in  DataBase\n",
    "  * Get real-time data from Database and analyze\n",
    "  * send results to Database\n"
   ]
  },
  {
   "cell_type": "markdown",
   "metadata": {},
   "source": [
    "##  2.1 Real-time Data \n",
    "\n",
    "### 2.1.1  setup Tags of source points in DataBase"
   ]
  },
  {
   "cell_type": "code",
   "execution_count": null,
   "metadata": {
    "collapsed": false
   },
   "outputs": [],
   "source": [
    "# -*- coding: utf-8 -*-\n",
    "import redis\n",
    "\n",
    "conn = redis.Redis('localhost')\n",
    "\n",
    "def TagDefToRedisHashKey(tagdeflist):\n",
    "    pipe = conn.pipeline()\n",
    "    for element in tagdeflist:\n",
    "        pipe.hmset(element['id'], \n",
    "                   {'desc': element['desc'], 'value': \"-10000\", 'ts': \"\"})\n",
    "    pipe.execute()\n",
    "\n",
    "def TagDefFromRedisHash(tagdeflist):\n",
    "    taglist = []\n",
    "    for element in tagdeflist:\n",
    "        htag = conn.hgetall(element['id'])\n",
    "        taglist.append(htag)\n",
    "    return taglist\n"
   ]
  },
  {
   "cell_type": "code",
   "execution_count": null,
   "metadata": {
    "collapsed": false
   },
   "outputs": [],
   "source": [
    "unittagdeflist=[]\n",
    "unittagdeflist.append({'id':\"CSDC.DCS2AI.2JZA2226\",'desc':\"二号机组高压缸入口压力\"})\n",
    "unittagdeflist.append({'id':\"CSDC.DCS2AI.2JZA2408\",'desc':\"二号机组高压缸入口温度\"})\n",
    "unittagdeflist.append({'id':\"CSDC.DCS2AI.2JZA2230\",'desc':\"二号机组高压缸出口压力\"})\n",
    "unittagdeflist.append({'id':\"CSDC.DCS2AI.2JZA2459\",'desc':\"二号机组高压缸出口温度\"})\n",
    "unittagdeflist.append({'id':\"CSDC.DCS2AI.2JZA2264\",'desc':\"大气压力\"})\n",
    "\n",
    "TagDefToRedisHashKey(unittagdeflist)\n",
    "\n",
    "taglist=TagDefFromRedisHash(unittagdeflist)\n",
    "print(taglist[0])\n",
    "print(taglist[0][b'desc'].decode())"
   ]
  },
  {
   "cell_type": "markdown",
   "metadata": {},
   "source": [
    "### 2.1.2 sampling and send data to DataBase"
   ]
  },
  {
   "cell_type": "code",
   "execution_count": null,
   "metadata": {
    "collapsed": false
   },
   "outputs": [],
   "source": [
    "# -*- coding: utf-8 -*-\n",
    "from datetime import *\n",
    "\n",
    "def SendToRedisHash(tagvaluelist):\n",
    "    pipe = conn.pipeline()\n",
    "\n",
    "    curtime = datetime.now()\n",
    "\n",
    "    for element in tagvaluelist:\n",
    "        pipe.hmset(element['id'], \n",
    "                   {'value': element['value'], 'ts': curtime})\n",
    "    pipe.execute()\n"
   ]
  },
  {
   "cell_type": "code",
   "execution_count": null,
   "metadata": {
    "collapsed": false
   },
   "outputs": [],
   "source": [
    "unittagvaluelist=[]\n",
    "unittagvaluelist.append({'id':\"CSDC.DCS2AI.2JZA2226\",'value':16.38525})\n",
    "unittagvaluelist.append({'id':\"CSDC.DCS2AI.2JZA2408\",'value':538.37})\n",
    "unittagvaluelist.append({'id':\"CSDC.DCS2AI.2JZA2230\",'value':3.035039})\n",
    "unittagvaluelist.append({'id':\"CSDC.DCS2AI.2JZA2459\",'value':313.2931})\n",
    "unittagvaluelist.append({'id':\"CSDC.DCS2AI.2JZA2264\",'value':100.5281})\n",
    "\n",
    "SendToRedisHash(unittagvaluelist)\n",
    "\n",
    "print(unittagvaluelist[0])\n",
    "# get back from redis\n",
    "data=conn.hmget(unittagvaluelist[0]['id'], 'value', 'ts')\n",
    "print(data[0].decode(),data[1].decode())\n"
   ]
  },
  {
   "cell_type": "markdown",
   "metadata": {},
   "source": [
    "## 2.2 online analysis"
   ]
  },
  {
   "cell_type": "markdown",
   "metadata": {},
   "source": [
    "### 2.2.1 setup Tags of results in  DataBase"
   ]
  },
  {
   "cell_type": "code",
   "execution_count": null,
   "metadata": {
    "collapsed": true
   },
   "outputs": [],
   "source": [
    "# 1 setup Tags of results in DataBase\n",
    "unit_outtaglist=[]\n",
    "unit_outtaglist.append({'id':\"DEMO.DCS2AO.HP_EFF_IS\",'desc':\"二号机组高压缸效率\"})\n",
    "\n",
    "TagDefToRedisHashKey(unit_outtaglist)"
   ]
  },
  {
   "cell_type": "markdown",
   "metadata": {},
   "source": [
    "### 2.2.2 Get Real-time Data from Redis"
   ]
  },
  {
   "cell_type": "code",
   "execution_count": null,
   "metadata": {
    "collapsed": false
   },
   "outputs": [],
   "source": [
    "# 2 get real-time data\n",
    "# -*- coding: utf-8 -*-\n",
    "def tagvalue_redis(taglist):\n",
    "  \n",
    "    tagcount=len(taglist)\n",
    "    \n",
    "    pipe = conn.pipeline()\n",
    "    for i in range(tagcount):\n",
    "        pipe.hmget(taglist[i]['id'], 'value', 'ts')\n",
    "    tagvaluelist = pipe.execute()\n",
    "\n",
    "    for i in range(tagcount):\n",
    "        taglist[i]['value'] = tagvaluelist[i][0].decode()\n",
    "        taglist[i]['ts'] = tagvaluelist[i][1].decode()\n",
    "\n",
    "unittaglist=[]\n",
    "unittaglist.append({'id':\"CSDC.DCS2AI.2JZA2226\"})\n",
    "unittaglist.append({'id':\"CSDC.DCS2AI.2JZA2408\"})\n",
    "unittaglist.append({'id':\"CSDC.DCS2AI.2JZA2230\"})\n",
    "unittaglist.append({'id':\"CSDC.DCS2AI.2JZA2459\"})\n",
    "unittaglist.append({'id':\"CSDC.DCS2AI.2JZA2264\"})\n",
    "\n",
    "tagvalue_redis(unittaglist)\n",
    "\n",
    "print(unittaglist[4])\n",
    "\n",
    "pam=float(unittaglist[4]['value'])/1000"
   ]
  },
  {
   "cell_type": "markdown",
   "metadata": {},
   "source": [
    "### 2.2.3 analyze"
   ]
  },
  {
   "cell_type": "code",
   "execution_count": null,
   "metadata": {
    "collapsed": false
   },
   "outputs": [],
   "source": [
    "# -*- coding: utf-8 -*-\n",
    "# 3 analysis\n",
    "\n",
    "from seuif97 import *\n",
    "\n",
    "def CylinderEff(cylinder):\n",
    "    \"\"\"simple function  for cylinde using 'dict' \"\"\"\n",
    "\n",
    "    cylinder['inlet']['h'] = pt2h(cylinder['inlet']['p'], cylinder['inlet']['t'])\n",
    "    cylinder['inlet']['s'] = pt2s(cylinder['inlet']['p'], cylinder['inlet']['t'])\n",
    "\n",
    "    cylinder['outlet']['h'] = pt2h(cylinder['outlet']['p'], cylinder['outlet']['t'])\n",
    "    cylinder['outlet']['s'] = pt2s(cylinder['outlet']['p'], cylinder['outlet']['t'])\n",
    "\n",
    "    # h2s is the specific enthalpy at state 2 for the isentropic turbine\n",
    "    h2s = ps2h(cylinder['outlet']['p'], cylinder['inlet']['s'])\n",
    "    \n",
    "    cylinder['h2s'] = h2s\n",
    "     \n",
    "    hds = cylinder['inlet']['h'] - h2s  # isentropic specific enthalpy drop\n",
    "    hd = cylinder['inlet']['h'] - cylinder['outlet']['h']  # specific enthalpy drop\n",
    "\n",
    "    cylinder['eff'] = 100 * hd / hds\n",
    "\n",
    "    return cylinder\n",
    "\n",
    "hp = {'inlet':{}, 'outlet':{}, 'h2s':None,'eff':None}\n",
    "\n",
    "minlet = {'p':None, 't': None, 'h': None, 's':None}\n",
    "moutlet = {'p': None, 't': None, 'h': None, 's': None}\n",
    "\n",
    "minlet['p']=float(unittaglist[0]['value'])+pam\n",
    "minlet['t']=float(unittaglist[1]['value'])\n",
    "moutlet['p']=float(unittaglist[2]['value'])+pam\n",
    "moutlet['t']=float(unittaglist[3]['value'])\n",
    "\n",
    "hp['inlet'] = dict(minlet)\n",
    "hp['outlet'] = dict(moutlet)\n",
    "\n",
    "hp = CylinderEff(hp)\n",
    "\n",
    "print('The internal efficiency =', hp['eff'], '%')"
   ]
  },
  {
   "cell_type": "markdown",
   "metadata": {
    "collapsed": true
   },
   "source": [
    "### 2.2.4 send results  to database"
   ]
  },
  {
   "cell_type": "code",
   "execution_count": null,
   "metadata": {
    "collapsed": false
   },
   "outputs": [],
   "source": [
    "# 4 send result to database--------------------------\n",
    "unit_outtaglist[0]['value']=hp['eff']\n",
    "\n",
    "SendToRedisHash(unit_outtaglist)\n",
    "\n",
    "# get back from redis\n",
    "taglist=TagDefFromRedisHash(unit_outtaglist)\n",
    "print(taglist[0])\n",
    "print(taglist[0][b'desc'].decode(),taglist[0][b'value'].decode())\n"
   ]
  },
  {
   "cell_type": "markdown",
   "metadata": {
    "collapsed": true
   },
   "source": [
    "## Reference\n",
    "\n",
    "<ol>\n",
    "<li>The Redis Documentation. http://redis.io/documentation\n",
    "<li>JOSIAH L. CARLSON. Redis in Action. Manning Publications Co. 2013 \n",
    "</ol>"
   ]
  }
 ],
 "metadata": {
  "kernelspec": {
   "display_name": "Python 3",
   "language": "python",
   "name": "python3"
  },
  "language_info": {
   "codemirror_mode": {
    "name": "ipython",
    "version": 3
   },
   "file_extension": ".py",
   "mimetype": "text/x-python",
   "name": "python",
   "nbconvert_exporter": "python",
   "pygments_lexer": "ipython3",
   "version": "3.5.2"
  }
 },
 "nbformat": 4,
 "nbformat_minor": 0
}
