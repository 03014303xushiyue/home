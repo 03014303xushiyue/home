{
 "cells": [
  {
   "cell_type": "markdown",
   "metadata": {
    "collapsed": true
   },
   "source": [
    "# Online Monitoring "
   ]
  },
  {
   "cell_type": "markdown",
   "metadata": {},
   "source": [
    "## 2 Basic Steps of Online Monitoring  \n",
    "\n",
    "* real-time data\n",
    "  * setup Tag in  DataBase\n",
    "  * sampling and send data to DataBase\n",
    "\n",
    "* online analysis\n",
    "  * setup out Tag in  DataBase\n",
    "  * Get real-time data from Database and analyze\n",
    "  * send results to Database\n"
   ]
  },
  {
   "cell_type": "markdown",
   "metadata": {},
   "source": [
    "##  1 Real-time Data \n",
    "\n",
    "/bootProcessInformation/db/pyredis.py\n",
    "\n",
    "### 1.1 setup Tag in DataBase\n"
   ]
  },
  {
   "cell_type": "code",
   "execution_count": 17,
   "metadata": {
    "collapsed": false
   },
   "outputs": [],
   "source": [
    "# -*- coding: utf-8 -*-\n",
    "import redis\n",
    "\n",
    "conn = redis.Redis('localhost')\n",
    "\n",
    "def TagDefToRedisHashKey(tagdeflist):\n",
    "    pipe = conn.pipeline()\n",
    "    for element in tagdeflist:\n",
    "        pipe.hmset(element['id'], \n",
    "                   {'desc': element['desc'], 'value': \"-10000\", 'ts': \"\"})\n",
    "    pipe.execute()\n",
    "\n",
    "def TagDefFromRedisHash(tagdeflist):\n",
    "    taglist = []\n",
    "    for element in tagdeflist:\n",
    "        htag = conn.hgetall(element['id'])\n",
    "        taglist.append(htag)\n",
    "    return taglist\n"
   ]
  },
  {
   "cell_type": "markdown",
   "metadata": {},
   "source": [
    "* real-time data\n",
    "  * setup Tag in DataBase"
   ]
  },
  {
   "cell_type": "code",
   "execution_count": 18,
   "metadata": {
    "collapsed": false
   },
   "outputs": [
    {
     "name": "stdout",
     "output_type": "stream",
     "text": [
      "{b'desc': b'\\xe4\\xba\\x8c\\xe5\\x8f\\xb7\\xe6\\x9c\\xba\\xe7\\xbb\\x84\\xe9\\xab\\x98\\xe5\\x8e\\x8b\\xe7\\xbc\\xb8\\xe5\\x85\\xa5\\xe5\\x8f\\xa3\\xe5\\x8e\\x8b\\xe5\\x8a\\x9b', b'value': b'-10000', b'ts': b''}\n"
     ]
    }
   ],
   "source": [
    "unittagdeflist=[]\n",
    "unittagdeflist.append({'id':\"CSDC.DCS2AI.2JZA2226\",'desc':\"二号机组高压缸入口压力\"})\n",
    "unittagdeflist.append({'id':\"CSDC.DCS2AI.2JZA2408\",'desc':\"二号机组高压缸入口温度\"})\n",
    "unittagdeflist.append({'id':\"CSDC.DCS2AI.2JZA2230\",'desc':\"二号机组高压缸出口压力\"})\n",
    "unittagdeflist.append({'id':\"CSDC.DCS2AI.2JZA2459\",'desc':\"二号机组高压缸出口温度\"})\n",
    "unittagdeflist.append({'id':\"CSDC.DCS2AI.2JZA2264\",'desc':\"大气压力\"})\n",
    "\n",
    "TagDefToRedisHashKey(unittagdeflist)\n",
    "\n",
    "taglist=TagDefFromRedisHash(unittagdeflist)\n",
    "print(taglist[0])"
   ]
  },
  {
   "cell_type": "markdown",
   "metadata": {},
   "source": [
    "* real-time data\n",
    "  * sampling and send data to DataBase"
   ]
  },
  {
   "cell_type": "code",
   "execution_count": 19,
   "metadata": {
    "collapsed": false
   },
   "outputs": [],
   "source": [
    "# -*- coding: utf-8 -*-\n",
    "from datetime import *\n",
    "\n",
    "def SendToRedisHash(tagvaluelist):\n",
    "    pipe = conn.pipeline()\n",
    "\n",
    "    curtime = datetime.now()\n",
    "\n",
    "    for element in tagvaluelist:\n",
    "        pipe.hmset(element['id'], \n",
    "                   {'value': element['value'], 'ts': curtime})\n",
    "    pipe.execute()\n"
   ]
  },
  {
   "cell_type": "code",
   "execution_count": 20,
   "metadata": {
    "collapsed": false
   },
   "outputs": [
    {
     "name": "stdout",
     "output_type": "stream",
     "text": [
      "{'value': 16.38525, 'id': 'CSDC.DCS2AI.2JZA2226'}\n",
      "[b'16.38525', b'2016-05-06 14:26:53.037757']\n"
     ]
    }
   ],
   "source": [
    "unittagvaluelist=[]\n",
    "unittagvaluelist.append({'id':\"CSDC.DCS2AI.2JZA2226\",'value':16.38525})\n",
    "unittagvaluelist.append({'id':\"CSDC.DCS2AI.2JZA2408\",'value':538.37})\n",
    "unittagvaluelist.append({'id':\"CSDC.DCS2AI.2JZA2230\",'value':3.035039})\n",
    "unittagvaluelist.append({'id':\"CSDC.DCS2AI.2JZA2459\",'value':313.2931})\n",
    "unittagvaluelist.append({'id':\"CSDC.DCS2AI.2JZA2264\",'value':100.5281})\n",
    "\n",
    "SendToRedisHash(unittagvaluelist)\n",
    "\n",
    "print(unittagvaluelist[0])\n",
    "print(conn.hmget(unittagvaluelist[0]['id'], 'value', 'ts'))\n",
    " "
   ]
  },
  {
   "cell_type": "markdown",
   "metadata": {},
   "source": [
    "## 2 online analysis\n",
    "\n",
    "### 2.1 Get Real-time Data from Redis"
   ]
  },
  {
   "cell_type": "code",
   "execution_count": 21,
   "metadata": {
    "collapsed": false
   },
   "outputs": [],
   "source": [
    "# -*- coding: utf-8 -*-\n",
    "def tagvalue_redis(taglist):\n",
    "        #        for i in range(self.tagcount):\n",
    "        #            self.taglist[i]['value']= conn.hget(self.taglist[i]['name'],'value').decode()\n",
    "        tagcount=len(taglist)\n",
    "        pipe = conn.pipeline()\n",
    "        \n",
    "        for i in range(tagcount):\n",
    "            pipe.hmget(taglist[i]['id'], 'value', 'ts')\n",
    "        \n",
    "        tagvaluelist = pipe.execute()\n",
    "\n",
    "        for i in range(tagcount):\n",
    "            taglist[i]['value'] = tagvaluelist[i][0].decode()\n",
    "            taglist[i]['ts'] = tagvaluelist[i][1].decode()\n"
   ]
  },
  {
   "cell_type": "code",
   "execution_count": 22,
   "metadata": {
    "collapsed": false
   },
   "outputs": [
    {
     "name": "stdout",
     "output_type": "stream",
     "text": [
      "{'value': '16.38525', 'ts': '2016-05-06 14:26:53.037757', 'id': 'CSDC.DCS2AI.2JZA2226'}\n"
     ]
    }
   ],
   "source": [
    "unittaglist=[]\n",
    "unittaglist.append({'id':\"CSDC.DCS2AI.2JZA2226\"})\n",
    "unittaglist.append({'id':\"CSDC.DCS2AI.2JZA2408\"})\n",
    "unittaglist.append({'id':\"CSDC.DCS2AI.2JZA2230\"})\n",
    "unittaglist.append({'id':\"CSDC.DCS2AI.2JZA2459\"})\n",
    "unittaglist.append({'id':\"CSDC.DCS2AI.2JZA2264\"})\n",
    "\n",
    "tagvalue_redis(unittaglist)\n",
    "\n",
    "print(unittaglist[0])\n",
    "        "
   ]
  },
  {
   "cell_type": "markdown",
   "metadata": {
    "collapsed": true
   },
   "source": [
    "### 2.2  Online moitoring \n",
    "\n",
    "* set outag\n",
    "* get real-time data and analyze\n",
    "* send results "
   ]
  },
  {
   "cell_type": "code",
   "execution_count": 23,
   "metadata": {
    "collapsed": false
   },
   "outputs": [],
   "source": [
    "# -*- coding: utf-8 -*-\n",
    "from seuif97 import *\n",
    "\n",
    "def CylinderEff(cylinder):\n",
    "    \"\"\"simple function  for cylinde using 'dict' \"\"\"\n",
    "\n",
    "    cylinder['inlet']['h'] = pt2h(cylinder['inlet']['p'], cylinder['inlet']['t'])\n",
    "    cylinder['inlet']['s'] = pt2s(cylinder['inlet']['p'], cylinder['inlet']['t'])\n",
    "\n",
    "    cylinder['outlet']['h'] = pt2h(cylinder['outlet']['p'], cylinder['outlet']['t'])\n",
    "    cylinder['outlet']['s'] = pt2s(cylinder['outlet']['p'], cylinder['outlet']['t'])\n",
    "\n",
    "    # h2s is the specific enthalpy at state 2 for the isentropic turbine\n",
    "    h2s = ps2h(cylinder['outlet']['p'], cylinder['inlet']['s'])\n",
    "    \n",
    "    cylinder['h2s'] = h2s\n",
    "     \n",
    "    hds = cylinder['inlet']['h'] - h2s  # isentropic specific enthalpy drop\n",
    "    hd = cylinder['inlet']['h'] - cylinder['outlet']['h']  # specific enthalpy drop\n",
    "\n",
    "    cylinder['eff'] = 100 * hd / hds\n",
    "\n",
    "    return cylinder\n"
   ]
  },
  {
   "cell_type": "code",
   "execution_count": 25,
   "metadata": {
    "collapsed": false
   },
   "outputs": [
    {
     "name": "stdout",
     "output_type": "stream",
     "text": [
      "The internal efficiency = 81.71506348039361 %\n",
      "{b'ts': b'2016-05-06 14:32:22.871045', b'value': b'81.71506348039361', b'desc': b'\\xe4\\xba\\x8c\\xe5\\x8f\\xb7\\xe6\\x9c\\xba\\xe7\\xbb\\x84\\xe9\\xab\\x98\\xe5\\x8e\\x8b\\xe7\\xbc\\xb8\\xe6\\x95\\x88\\xe7\\x8e\\x87'}\n"
     ]
    }
   ],
   "source": [
    "unit_outtaglist=[]\n",
    "unit_outtaglist.append({'id':\"DEMO.DCS2AO.HP_EFF_IS\",'desc':\"二号机组高压缸效率\"})\n",
    "\n",
    "# 1 set out tag\n",
    "TagDefToRedisHashKey(unit_outtaglist)\n",
    "\n",
    "# 2 get real-time data\n",
    "tagvalue_redis(unittaglist)\n",
    "pam=float(unittaglist[4]['value'])/1000\n",
    "\n",
    "# 3 analysis\n",
    "\n",
    "hp = {'inlet':{}, 'outlet':{}, 'h2s':None,'eff':None}\n",
    "\n",
    "minlet = {'p':None, 't': None, 'h': None, 's':None}\n",
    "moutlet = {'p': None, 't': None, 'h': None, 's': None}\n",
    "\n",
    "minlet['p']=float(unittaglist[0]['value'])+pam\n",
    "minlet['t']=float(unittaglist[1]['value'])\n",
    "moutlet['p']=float(unittaglist[2]['value'])+pam\n",
    "moutlet['t']=float(unittaglist[3]['value'])\n",
    "\n",
    "hp['inlet'] = dict(minlet)\n",
    "hp['outlet'] = dict(moutlet)\n",
    "\n",
    "hp = CylinderEff(hp)\n",
    "\n",
    "print('The internal efficiency =', hp['eff'], '%')\n",
    "\n",
    "# 4 send result to database--------------------------\n",
    "unit_outtaglist[0]['value']=hp['eff']\n",
    "SendToRedisHash(unit_outtaglist)\n",
    "\n",
    "taglist=TagDefFromRedisHash(unit_outtaglist)\n",
    "print(taglist[0])"
   ]
  },
  {
   "cell_type": "markdown",
   "metadata": {
    "collapsed": true
   },
   "source": [
    "## Reference\n",
    "\n",
    "<ol>\n",
    "<li>The Redis Documentation. http://redis.io/documentation\n",
    "<li>JOSIAH L. CARLSON. Redis in Action. Manning Publications Co. 2013 \n",
    "</ol>"
   ]
  }
 ],
 "metadata": {
  "kernelspec": {
   "display_name": "Python 3",
   "language": "python",
   "name": "python3"
  },
  "language_info": {
   "codemirror_mode": {
    "name": "ipython",
    "version": 3
   },
   "file_extension": ".py",
   "mimetype": "text/x-python",
   "name": "python",
   "nbconvert_exporter": "python",
   "pygments_lexer": "ipython3",
   "version": "3.5.2"
  }
 },
 "nbformat": 4,
 "nbformat_minor": 0
}
