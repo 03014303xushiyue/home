{
 "cells": [
  {
   "cell_type": "markdown",
   "metadata": {},
   "source": [
    "# Chapter 8 : Vapour Power Systems\n",
    "\n",
    "* Michael J . Mora. Fundamentals of Engineering Thermodynamics(7th Edition). John Wiley & Sons, Inc. 2011"
   ]
  },
  {
   "cell_type": "markdown",
   "metadata": {},
   "source": [
    "## Example 8.1:Analyzing an Ideal Rankine Cycle Page 438\n",
    "\n",
    "Steam is the working fluid in an ideal Rankine cycle. \n",
    "\n",
    "Saturated vapor enters the turbine at 8.0 MPa and saturated liquid exits the condenser at a pressure of 0.008 MPa. \n",
    "\n",
    "The net power output of the cycle is 100 MW.\n",
    "\n",
    "<img src=\"./img/vps-fig81.png\"/> \n",
    "\n",
    "Determine for the cycle\n",
    "\n",
    "(a) the thermal efficiency,\n",
    "\n",
    "(b) the back work ratio, \n",
    "\n",
    "(c) the mass flow rate of the steam,in kg/h,\n",
    "\n",
    "(d) the rate of heat transfer, Qin, into the working fluid as it passes through the boiler, in MW,\n",
    "\n",
    "(e) the rate of heat transfer, Qout, from the condensing steam as it passes through the condenser, in MW,\n",
    "\n",
    "(f) the mass flow rate of the condenser cooling water, in kg/h, if cooling water enters the condenser at 15C and exits at 35C.\n"
   ]
  },
  {
   "cell_type": "code",
   "execution_count": 3,
   "metadata": {
    "collapsed": false
   },
   "outputs": [
    {
     "name": "stdout",
     "output_type": "stream",
     "text": [
      "(a) The thermal efficiency for the cycle is  0.371\n",
      "(b) The back work ratio is  0.8 %\n",
      "(c) The mass flow rate of the steam is 376776.21 kg/h.\n",
      "(d) The rate of heat transfer,Qindot , into the working fluid as       it passes through the boiler, is 269.68 MW.\n",
      "(e) The rate of heat transfer,Qoutdot from the condensing steam as       it passes through the condenser, is 169.68 MW.\n",
      "(f) The mass flow rate of the condenser cooling water is 7301347.42 kg/h.\n"
     ]
    }
   ],
   "source": [
    "from seuif97 import *\n",
    "\n",
    "# Given:-\n",
    "p1 = 8.0               # pressure of saturated vapor entering the turbine in MPa\n",
    "p3 = 0.008             # pressure of saturated liquid exiting the condenser in MPa\n",
    "Wcycledot = 100.00     # the net power output of the cycle in MW\n",
    "\n",
    "# Analysis\n",
    "\n",
    "# State  1\n",
    "h1=px2h(p1,1)          # h1 = 2758.0    From table A-3  kj/kg\n",
    "s1=px2s(p1,1)          # s1 = 5.7432    From table A-3  kj/kg.k\n",
    "\n",
    "# State  2\n",
    "s2 = s1\n",
    "sf=px2s(p3,0)         # sf = 0.5926   kj/kg.k\n",
    "sg=px2s(p3,1)         # sg = 8.2287   kj/kg.k\n",
    "# quality at state 2\n",
    "x2=(s2-sf)/(sg-sf)\n",
    "hf=px2h(p3,0)         # hf = 173.88    kj/kg\n",
    "hg=px2h(p3,1)         # hg = 2403.1   kj/kg\n",
    "h2 = hf + x2*(hg-hf)      # kj/kg\n",
    "\n",
    "# State 3 is saturated liquid at 0.008 MPa, so\n",
    "h3 = hf                                         # in kj/kg\n",
    "v3 =px2v(p3,0)  #1.0084e-3 # in m^3/kg\n",
    "#State 4 \n",
    "p4 = p1\n",
    "h4 = h3 + v3*(p4-p3)*10**6*10**-3    # in kj/kg\n",
    "\n",
    "# Part(a)\n",
    "# Mass and energy rate balances for control volumes \n",
    "# around the turbine and pump give, respectively\n",
    "wtdot = h1 - h2\n",
    "wpdot = h4-h3\n",
    "\n",
    "# The rate of heat transfer to the working fluid as it passes \n",
    "# through the boiler is determined using mass and energy rate balances as\n",
    "qindot = h1-h4\n",
    "\n",
    "eta = (wtdot-wpdot)/qindot                           # thermal efficiency)\n",
    "\n",
    "# Result for part a\n",
    "print('(a) The thermal efficiency for the cycle is ',round(eta,3))\n",
    "\n",
    "# Part(b)\n",
    "bwr = wpdot/wtdot                                    # back work ratio\n",
    "\n",
    "# Result\n",
    "print('(b) The back work ratio is ',round(bwr,3)*100,'%')\n",
    "\n",
    "# Part(c)\n",
    "mdot = (Wcycledot*10**3*3600)/((h1-h2)-(h4-h3))       # mass flow rate in kg/h\n",
    "\n",
    "# Result \n",
    "print('(c) The mass flow rate of the steam is',round(mdot,2),'kg/h.')\n",
    " \n",
    "# Part(d)\n",
    "Qindot = mdot*qindot/(3600*10**3)                     # in MW\n",
    "\n",
    "# Results\n",
    "print('(d) The rate of heat transfer,Qindot , into the working fluid as \\\n",
    "      it passes through the boiler, is',round(Qindot,2),'MW.')\n",
    "\n",
    "# Part(e)\n",
    "Qoutdot = mdot*(h2-h3)/(3600*10**3)                   # in MW\n",
    "\n",
    "# Results\n",
    "print('(e) The rate of heat transfer,Qoutdot from the condensing steam as \\\n",
    "      it passes through the condenser, is',round(Qoutdot,2),'MW.')\n",
    "\n",
    "# Part(f)\n",
    "# Given: \n",
    "tcwin=15\n",
    "tcwout=35\n",
    "\n",
    "hcwout=tx2h(tcwout,0)   # From table A-2,hcwout= 146.68  kj/kg  \n",
    "\n",
    "hcwin= tx2h(tcwin,0)    # hcwin 62.99  \n",
    "mcwdot= (Qoutdot*10**3*3600)/(hcwout-hcwin)          # in kg/h\n",
    "\n",
    "# Results\n",
    "print('(f) The mass flow rate of the condenser cooling water is',round(mcwdot,2),'kg/h.')"
   ]
  }
 ],
 "metadata": {
  "kernelspec": {
   "display_name": "Python 3",
   "language": "python",
   "name": "python3"
  },
  "language_info": {
   "codemirror_mode": {
    "name": "ipython",
    "version": 3
   },
   "file_extension": ".py",
   "mimetype": "text/x-python",
   "name": "python",
   "nbconvert_exporter": "python",
   "pygments_lexer": "ipython3",
   "version": "3.5.1"
  }
 },
 "nbformat": 4,
 "nbformat_minor": 0
}
