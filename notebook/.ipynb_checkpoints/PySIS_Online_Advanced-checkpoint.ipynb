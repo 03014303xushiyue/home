{
 "cells": [
  {
   "cell_type": "code",
   "execution_count": null,
   "metadata": {
    "collapsed": true
   },
   "outputs": [],
   "source": []
  },
  {
   "cell_type": "markdown",
   "metadata": {},
   "source": [
    "My current findings suggesting that one need to define it's own custom cell magic. Good references would be the custom cell magic section in the documentation and two examples that I would consider:\n",
    "\n",
    "* memit: magic memory usage benching for IPython https://gist.github.com/vene/3022718\n",
    "\n",
    "* Illustrating Python multithreading vs multiprocessing: http://nathangrigg.net/2015/04/python-threading-vs-processes/\n",
    "\n",
    "Both those links wrapping the code in a thread. That could be a starting point\n"
   ]
  },
  {
   "cell_type": "code",
   "execution_count": 1,
   "metadata": {
    "collapsed": false
   },
   "outputs": [
    {
     "name": "stdout",
     "output_type": "stream",
     "text": [
      "Starting job # 0 in a separate thread.\n",
      "Dead jobs:\n",
      "0 : printfunc(1,3)\n",
      "\n"
     ]
    }
   ],
   "source": [
    "from IPython.lib import backgroundjobs as bg\n",
    "jobs = bg.BackgroundJobManager()\n",
    "\n",
    "def printfunc(interval=1, reps=5):\n",
    "    for n in range(reps):\n",
    "        time.sleep(interval)\n",
    "        print('In the background... %i' % n)\n",
    "        sys.stdout.flush()\n",
    "    print('All done!')\n",
    "    sys.stdout.flush()\n",
    "\n",
    "jobs.new('printfunc(1,3)')\n",
    "jobs.status()\n"
   ]
  },
  {
   "cell_type": "code",
   "execution_count": 2,
   "metadata": {
    "collapsed": false
   },
   "outputs": [
    {
     "name": "stderr",
     "output_type": "stream",
     "text": [
      "Widget Javascript not detected.  It may not be installed properly. Did you enable the widgetsnbextension? If not, then run \"jupyter nbextension enable --py --sys-prefix widgetsnbextension\"\n"
     ]
    }
   ],
   "source": [
    "from IPython.display import display\n",
    "from ipywidgets import IntProgress\n",
    "\n",
    "import threading\n",
    "\n",
    "class App(object):\n",
    "    def __init__(self, nloops=2000):\n",
    "        self.nloops = nloops\n",
    "        self.pb = IntProgress(description='Thread loops', min=0, max=self.nloops)\n",
    "\n",
    "    def start(self):\n",
    "        display(self.pb)\n",
    "        while self.pb.value < self.nloops:\n",
    "            self.pb.value += 1 \n",
    "        self.pb.color = 'red'\n",
    "\n",
    "app = App(nloops=20000)\n",
    "\n",
    "t = threading.Thread(target=app.start)\n",
    "\n",
    "t.start()"
   ]
  },
  {
   "cell_type": "raw",
   "metadata": {},
   "source": [
    "Widget Javascript not detected.  It may not be installed properly. Did you enable the widgetsnbextension? If not, then run \n",
    "\n",
    "\"jupyter nbextension enable --py --sys-prefix widgetsnbextension\"\n",
    "\n",
    "\n"
   ]
  },
  {
   "cell_type": "markdown",
   "metadata": {},
   "source": [
    "a new thread for running a cell in ipython/jupyter notebook\n",
    "\n",
    "http://stackoverflow.com/questions/32081926/a-new-thread-for-running-a-cell-in-ipython-jupyter-notebook"
   ]
  },
  {
   "cell_type": "code",
   "execution_count": null,
   "metadata": {
    "collapsed": true
   },
   "outputs": [],
   "source": []
  }
 ],
 "metadata": {
  "kernelspec": {
   "display_name": "Python 3",
   "language": "python",
   "name": "python3"
  },
  "language_info": {
   "codemirror_mode": {
    "name": "ipython",
    "version": 3
   },
   "file_extension": ".py",
   "mimetype": "text/x-python",
   "name": "python",
   "nbconvert_exporter": "python",
   "pygments_lexer": "ipython3",
   "version": "3.5.2"
  }
 },
 "nbformat": 4,
 "nbformat_minor": 2
}
