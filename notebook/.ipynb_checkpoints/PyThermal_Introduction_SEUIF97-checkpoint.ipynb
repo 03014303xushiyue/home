{
 "cells": [
  {
   "cell_type": "markdown",
   "metadata": {},
   "source": [
    "# Introduction to SEUIF97 Library\n",
    "\n",
    " SEUIF97水和水蒸汽物性计算库是以IAPWS IF97公式为标准\n",
    " \n",
    " #### The International Association for the Properties of Water and Steam\n",
    " \n",
    "     IAPWS is an international non-profit association of national organizations concerned \n",
    " \n",
    "     with the properties of water and steam, particularly thermophysical properties, cycle chemistry guidelines, \n",
    " \n",
    "     and other aspects of high-temperature steam, water and aqueous mixtures \n",
    " \n",
    "     relevant to thermal power cycles and other industrial and scientific applications.\n",
    " \n",
    " http://www.iapws.org/\n",
    " \n",
    " \n",
    " C语言实现的高速，多平台适用共享库。\n",
    " \n",
    " Windows 32/64位版: 从 https://github.com/Py03013052/SEUIF97 下载：SEUIF97.dll和 seuif97.py，\n",
    " \n",
    " 然后：\n",
    " \n",
    "   1) SEUIF97.dll拷贝到 c:\\windows\\system\n",
    "   \n",
    "   2) seuif97.py拷贝到 c:\\python35\\Lib(Python安装目录下的Lib子目录中）\n",
    "   \n",
    " \n",
    "SEUIF97仓库中同时有Linux共享库及Python接口模块。"
   ]
  },
  {
   "cell_type": "markdown",
   "metadata": {},
   "source": [
    "### SEUIF97 share Lib（API)\n",
    "\n",
    "* 1 接口调用约定：\n",
    "\n",
    "       Windows：stdcall,可被VBA等调用\n",
    "\n",
    "       Linux:  cdecl\n",
    "      \n",
    "* 2 接口函数约定： \n",
    "\n",
    "    IAPWS-IF97 水和水蒸汽物性计算软件包提供物性计算和热力过程计算两类函数：\n",
    " \n",
    "  * 物性计算函数基本形式:\n",
    " \n",
    "      seu**inAinB**(inA,inB, propertyID)\n",
    "    \n",
    "      inA -  双精度型，第一已知物性， 可以是 p,t,h\n",
    "      \n",
    "      inB -  双精度型，第二已知物性， 可以是 t,h,s,v,x\n",
    "      \n",
    "      propertyID  - 整型，为需要计算物性的编码，从0到29共30个(SEUIF97 readme.Properties in SEUIF97)\n",
    "\n",
    "```c     \n",
    "seupt ( pressure, temperature, propertyID )\n",
    "seuph (pressure, enthalpy, propertyID )\n",
    "seups ( pressure, entropy, propertyID )\n",
    "seupv ( pressure , volume, property ID)\n",
    "seuth ( temperature, enthalpy, propertyID )\n",
    "seuts ( temperature, entropy, property ID)\n",
    "seutv ( temperature , volume, property ID)\n",
    "seuhs ( enthalpy , entropy, property ID)\n",
    "seupx ( pressure, quality, propertyID )\n",
    "seutx ( temperature , quality, propertyID )\n",
    "```\n",
    "\n",
    "\n",
    "* Example  \n",
    "    \n",
    "    Get Properties from （p,t)\n",
    "         \n",
    "    stdcall in  Windows\n",
    "\n",
    "```c\n",
    "          extern  \"C\" __stdcall __declspec(dllexport)  double seupt(double p,double t,int  propertyID);\n",
    "```\n",
    "\n",
    "   cdecl in Linux\n",
    "\n",
    "```c\n",
    "                 extern  \"C\"  double seupt(double p,double t,int wp);\n",
    "```\n",
    "\n",
    "```c\n",
    "        #include <iostream>\n",
    "        #include \"seuif97.h\"\n",
    "  \n",
    "        int main() {\n",
    "\t\n",
    "                double p=16.13;\n",
    "\t        double t=535;\n",
    "\t        double h;\n",
    "       \n",
    "                h=seupt(p,t,4);\n",
    "                printf(\"%5.2f\",h);\n",
    "\n",
    "\t        return 0;\n",
    "        }   \n",
    "\n",
    "```\n",
    "\n",
    "* **热力过程**\n",
    "\n",
    "     1 等熵焓降： ishd( pi,ti,pe)\n",
    "   \n",
    "        pi - 双精度型，入口压力； ti - 双精度型，入口温度\n",
    "        \n",
    "        pe - 双精度型，出口压力\n",
    "\n",
    "   2 内效率： ief( pi,ti,pe,te)\n",
    "        \n",
    "        pi  - 双精度型，入口压力；ti  - 双精度型，入口温度\n",
    "        \n",
    "        pe  - 双精度型，出口压力；te  - 双精度型， 出口温度\n",
    "\n"
   ]
  },
  {
   "cell_type": "markdown",
   "metadata": {},
   "source": [
    "## Python 接口：\n",
    "\n",
    "seuif97.py\n",
    "\n",
    "使用Python标准库ctypes调用、封装共享库"
   ]
  },
  {
   "cell_type": "code",
   "execution_count": null,
   "metadata": {
    "collapsed": false
   },
   "outputs": [],
   "source": [
    "# -*- coding: utf-8 -*- \n",
    "\n",
    "from ctypes import c_int,c_double,WINFUNCTYPE,windll\n",
    "\n",
    "prototype=WINFUNCTYPE(c_double,c_double,c_double,c_int)\n",
    "\n",
    "fpt=prototype((\"seupt\",windll.seuif97),)\n",
    "\n",
    "def pt(p,t,w): \n",
    "    result=fpt(p,t,w)\n",
    "    return result\n",
    "\n",
    "def pt2h(p,t): \n",
    "    result=fpt(p,t,4)\n",
    "    return result"
   ]
  },
  {
   "cell_type": "markdown",
   "metadata": {
    "collapsed": true
   },
   "source": [
    "# Example1： water or steam "
   ]
  },
  {
   "cell_type": "code",
   "execution_count": 1,
   "metadata": {
    "collapsed": false
   },
   "outputs": [
    {
     "name": "stdout",
     "output_type": "stream",
     "text": [
      "h: 3471.7848838836876 s:  6.518652433515181 v:  0.02163982404966856\n",
      "t1:  562.1000000000004  t2  562.1000000000001  t3:  562.0999999999999\n",
      "p1:  16.12000000000001  p2  16.11999999999998  p3:  16.12\n"
     ]
    }
   ],
   "source": [
    "from seuif97 import *\n",
    "p=16.12\n",
    "t=562.1\n",
    "h=pt2h(p,t)\n",
    "s=pt(p,t,5)\n",
    "v=pt(p,t,3)\n",
    "print('h:',h,'s: ',s,'v: ',v)\n",
    "\n",
    "t1=ph(p,h,1)\n",
    "t2=ps(p,s,1)\n",
    "t3=pv(p,v,1)\n",
    "\n",
    "print('t1: ',t1,' t2 ',t2,' t3: ',t3)\n",
    "\n",
    "p1=th(t,h,0)\n",
    "p2=ts(t,s,0)\n",
    "p3=tv(t,v,0)\n",
    "print('p1: ',p1,' p2 ',p2,' p3: ',p3)\n"
   ]
  },
  {
   "cell_type": "markdown",
   "metadata": {},
   "source": [
    "## Example2: Thermodynamic Process  "
   ]
  },
  {
   "cell_type": "code",
   "execution_count": 3,
   "metadata": {
    "collapsed": false
   },
   "outputs": [
    {
     "name": "stdout",
     "output_type": "stream",
     "text": [
      "等熵焓降 = 426.2965108499634\n",
      "过程效率 = 89.45513966623548\n"
     ]
    }
   ],
   "source": [
    "from seuif97 import *\n",
    "# HP of 300MW \n",
    "\n",
    "p1=16.1\n",
    "t1=535.2\n",
    "p2=3.56\n",
    "t2=315.1\n",
    "\n",
    "hdis=ishd(p1,t1,p2) # 等熵焓降\n",
    "ef=ief(p1,t1,p2,t2) # 过程效率\n",
    "\n",
    "print('等熵焓降 =',hdis)\n",
    "print('过程效率 =',ef)"
   ]
  },
  {
   "cell_type": "code",
   "execution_count": null,
   "metadata": {
    "collapsed": true
   },
   "outputs": [],
   "source": []
  }
 ],
 "metadata": {
  "kernelspec": {
   "display_name": "Python 3",
   "language": "python",
   "name": "python3"
  },
  "language_info": {
   "codemirror_mode": {
    "name": "ipython",
    "version": 3
   },
   "file_extension": ".py",
   "mimetype": "text/x-python",
   "name": "python",
   "nbconvert_exporter": "python",
   "pygments_lexer": "ipython3",
   "version": "3.5.1"
  }
 },
 "nbformat": 4,
 "nbformat_minor": 0
}
