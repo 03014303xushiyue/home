{
 "cells": [
  {
   "cell_type": "markdown",
   "metadata": {},
   "source": [
    "## Version Control、GIT and Github\n",
    "\n",
    "We strongly recommend that you use version control for your projects. \n"
   ]
  },
  {
   "cell_type": "markdown",
   "metadata": {},
   "source": [
    "## Why version Control?\n",
    " \n",
    " * **Keep copies of multiple states of files**   \n",
    "  By committing you record a state of the file to which you can go back any time.\n",
    " * **Create alternative states**  \n",
    " Imagine you just want to try out something, but you realize you have to modify multiple files. You're not sure whether it works or is worth it. With version control you can just create a **branch** where you can experiment or develop new features without changing the main or other branches.\n",
    " * **Collaborate in teams**   \n",
    " Nobody wants to send code via e-mail or share via Dropbox. If two people work on a file at the same time it's unclear how to merge the code. Version control lets you keep your code in a shared central location and has dedicated ways to merge and deal with conflicts. \n",
    " * **Keep your work safe**  \n",
    " Your hard drive breaks. Your computer is stolen. But your code is safe because you store it not only on your computer but also on a remote server. \n",
    " * **Share**  \n",
    " You developed something awesome and want to share it. But not only do you want to make it available, you're also happy about contributions from others! \n",
    "\n",
    "\n",
    "\n",
    "### Types of Version Control: Central Repository\n",
    "\n",
    "![Version Control with Central Repository](./img/vc-centralized.png)\n",
    "\n",
    " * Everybody needs to write to one server\n",
    " * All operations (history, commit, branches) require server connection\n",
    " * The traditional model: CVS, SVN, etc. \n",
    " * Pros: \n",
    "   * Simple\n",
    " * Cons: \n",
    "   * Complex for larger and community projects\n",
    "        * Who is allowed to write? \n",
    "        * How do you apply changes that someone outside your team made? \n",
    "        \n",
    "\n",
    "\n",
    "### Types of Version Control: Distributed Version Control\n",
    "\n",
    "\n",
    "![Distribute Version Control](./img/vc-distributed.png)\n",
    "\n",
    " * Everybody has a full history of the repository locally\n",
    " * No dedicated server - every node is equal.\n",
    "   * In practice: often server is used for one \"official\" copy of code.\n",
    "    But: server by convention only, no technical difference.\n",
    " * Pros: \n",
    "    * No access issues\n",
    "        * Make a copy and hack away\n",
    "        * Ask if partner wants to accept your changes\n",
    "    * Everything is local\n",
    "        * Fast!\n",
    "        * No internet connection required\n",
    "        * Commit often model (once per feature) - don't sync all the time.\n",
    " * Cons:\n",
    "    * Extra effort to distinguish between committing and pushing/pulling (synchronizing). \n",
    "\n",
    "### Implementations\n",
    "\n",
    " * Centralized\n",
    "    * CVS\n",
    "    * SVN\n",
    "    * Team Foundation Server \n",
    "    * ...\n",
    " * Distributed\n",
    "    * git\n",
    "    * Mercurial\n",
    "    * ...\n",
    " * We will be using git in this lecture. \n",
    " \n",
    "### git\n",
    "\n",
    " * Created by Linus Torvalds, 2005\n",
    " * Meaning: British English slang roughly equivalent to \"unpleasant person\". \n",
    " * git – the stupid content tracker.\n",
    "\n",
    "*I'm an egotistical bastard, and I name all my projects after myself. First 'Linux', now 'git'. -- Linus Torvalds*\n",
    "\n",
    "### Why git?\n",
    "\n",
    " * Popular (~50% of open source projects)\n",
    " * Truly distributed\n",
    " * Very fast\n",
    " * Everything is local\n",
    " * Free\n",
    " * Safe against corruptions\n",
    " * GitHub!\n",
    " \n",
    "### git model \n",
    " \n",
    "A git repository is essentially a large graph.\n",
    "\n",
    "![git sketch](./img/git_user_server_interaction.jpg)\n"
   ]
  },
  {
   "cell_type": "markdown",
   "metadata": {},
   "source": [
    "### GitHub\n",
    "\n",
    "GitHub is a code hosting platform for version control and collaboration. It lets you and others work together on projects from anywhere.\n",
    "\n",
    "This tutorial teaches you GitHub essentials like repositories, branches, commits, and Pull Requests. You’ll create your own Hello World repository and learn GitHub’s Pull Request workflow, a popular way to create and review code.\n",
    "\n",
    "https://guides.github.com/activities/hello-world/\n"
   ]
  },
  {
   "cell_type": "markdown",
   "metadata": {},
   "source": [
    "### Git Client\n",
    "\n",
    "* **GitHub Desktop** \n",
    "  [Download here](https://desktop.github.com/)\n",
    "  \n",
    "* **EGit In Eclipse** \n",
    "  If you have installed Eclipse, EGit is ready for you\n",
    "  \n",
    " "
   ]
  },
  {
   "cell_type": "markdown",
   "metadata": {},
   "source": [
    "## Reference:\n",
    "\n",
    "* Maximilian Koegel,Jonas Helming. EGit Toturial http://eclipsesource.com/blogs/tutorials/egit-tutorial/    2015.02\n",
    "\n",
    "* Scott Chacon，Ben Straub. Pro Git. https://git-scm.com/book/en/v2/Getting-Started-About-Version-Control\n",
    "\n",
    "* 廖雪峰. Git教程  http://www.liaoxuefeng.com/wiki/0013739516305929606dd18361248578c67b8067c8c017b000\n",
    "\n",
    "* 知乎：怎样使用GitHub. http://www.zhihu.com/question/20070065"
   ]
  },
  {
   "cell_type": "code",
   "execution_count": null,
   "metadata": {
    "collapsed": true
   },
   "outputs": [],
   "source": []
  }
 ],
 "metadata": {
  "anaconda-cloud": {},
  "kernelspec": {
   "display_name": "Python 3",
   "language": "python",
   "name": "python3"
  },
  "language_info": {
   "codemirror_mode": {
    "name": "ipython",
    "version": 3
   },
   "file_extension": ".py",
   "mimetype": "text/x-python",
   "name": "python",
   "nbconvert_exporter": "python",
   "pygments_lexer": "ipython3",
   "version": "3.5.1"
  }
 },
 "nbformat": 4,
 "nbformat_minor": 0
}
