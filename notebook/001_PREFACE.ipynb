{
 "cells": [
  {
   "cell_type": "markdown",
   "metadata": {},
   "source": [
    "# PREFACE\n",
    "\n",
    "The main goal of this book is to help you, the reader, become <b style=\"color:blue\"> skillful at making productive use of computational techniques</b>. You should learn to apply computational modes of thoughts to frame problems and to guide the process of\n",
    "extracting information from data in a computational manner. The primary knowledge you will take away from this book is <b style=\"color:blue\">the art of computational problem solving<b>.\n"
   ]
  },
  {
   "cell_type": "markdown",
   "metadata": {},
   "source": [
    " The book is a bit eccentric.\n",
    "<p><b style=\"color:blue\">Part 1 (Chapters 1-8)</b> is an <b style=\"color:blue\">unconventional</b> introduction to programming in Python. We <b style=\"color:blue\">braid together four strands of material</b>:</p>\n",
    "\n",
    "• The basics of <b>programming</b>,\n",
    "\n",
    "• The  <b>Python</b> programming language,\n",
    "\n",
    "•  <b>Concepts</b> central to understanding  <b>computation </b>, and\n",
    "\n",
    "•  <b>Computational</b> problem solving  <b>techniques</b>.\n",
    "\n",
    "\n",
    "We cover most of Python’s features, but the emphasis is on what one can do with a programming language, not on the language itself.\n",
    "\n",
    "<b style=\"color:blue\">Part 2 (Chapters 9-16))</b> is primarily about  <b style=\"color:blue\">using computation to solve problems</b>.\n",
    "\n",
    "<b style=\"color:blue\">Part 3 (Chapters 17-19)</b> looks at three slightly <b style=\"color:blue\">advanced topics</b>—optimization problems, dynamic programming, and clustering.\n"
   ]
  },
  {
   "cell_type": "markdown",
   "metadata": {},
   "source": [
    "The book has two pervasive themes: systematic problem solving and the power of abstraction.    \n",
    "\n",
    "When you have finished this book you should have:\n",
    "<ul>\n",
    "<li>Learned a language, Python, for expressing computations,</li>\n",
    "<li>Learned a systematic approach to organizing, writing and debugging medium-sized programs,</li>\n",
    "<li>Developed an informal understanding of computational complexity,</li>\n",
    "<li>Developed some insight into the process of moving from an ambiguous problem statement to a computational formulation of a method for solving the problem,\n",
    "<li> Learned a useful set of algorithmic and problem reduction techniques,\n",
    "<li>Learned how to use randomness and simulations to shed light on problems that don’t easily succumb to closed-form solutions, and\n",
    "<li> Learned how to use computational tools, including simple statistical and visualization tools, to model and understand data.\n",
    "</ul>"
   ]
  },
  {
   "cell_type": "code",
   "execution_count": 1,
   "metadata": {
    "collapsed": false
   },
   "outputs": [
    {
     "data": {
      "text/plain": [
       "'C:\\\\Users\\\\hydro\\\\.ipython\\\\profile_default'"
      ]
     },
     "execution_count": 1,
     "metadata": {},
     "output_type": "execute_result"
    }
   ],
   "source": [
    "profile_dir = get_ipython().profile_dir.location\n",
    "profile_dir"
   ]
  },
  {
   "cell_type": "code",
   "execution_count": 2,
   "metadata": {
    "collapsed": false
   },
   "outputs": [
    {
     "name": "stderr",
     "output_type": "stream",
     "text": [
      "'git' 不是内部或外部命令，也不是可运行的程序\n",
      "或批处理文件。\n"
     ]
    }
   ],
   "source": [
    "import os\n",
    "tgt = os.path.join( profile_dir, 'static', 'custom')\n",
    "!git clone https://github.com/ipython-contrib/IPython-notebook-extensions.git $tgt"
   ]
  },
  {
   "cell_type": "code",
   "execution_count": null,
   "metadata": {
    "collapsed": true
   },
   "outputs": [],
   "source": []
  }
 ],
 "metadata": {
  "kernelspec": {
   "display_name": "Python 3",
   "language": "python",
   "name": "python3"
  },
  "language_info": {
   "codemirror_mode": {
    "name": "ipython",
    "version": 3
   },
   "file_extension": ".py",
   "mimetype": "text/x-python",
   "name": "python",
   "nbconvert_exporter": "python",
   "pygments_lexer": "ipython3",
   "version": "3.5.1"
  }
 },
 "nbformat": 4,
 "nbformat_minor": 0
}
