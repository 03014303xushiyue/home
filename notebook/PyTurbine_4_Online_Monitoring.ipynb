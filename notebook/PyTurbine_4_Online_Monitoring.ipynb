{
 "cells": [
  {
   "cell_type": "markdown",
   "metadata": {
    "collapsed": true
   },
   "source": [
    "# The Basic Steps of Online Monitoring"
   ]
  },
  {
   "cell_type": "markdown",
   "metadata": {},
   "source": [
    "## 1 Real-time Data Server"
   ]
  },
  {
   "cell_type": "code",
   "execution_count": 2,
   "metadata": {
    "collapsed": false
   },
   "outputs": [
    {
     "data": {
      "text/plain": [
       "b'bar'"
      ]
     },
     "execution_count": 2,
     "metadata": {},
     "output_type": "execute_result"
    }
   ],
   "source": [
    "import redis\n",
    "r = redis.Redis(host='localhost')\n",
    "r.set('foo', 'bar')\n",
    "r.get('foo')"
   ]
  },
  {
   "cell_type": "markdown",
   "metadata": {},
   "source": [
    "## 2 Real-time Data Services with Python\n",
    "\n",
    "\n"
   ]
  },
  {
   "cell_type": "markdown",
   "metadata": {},
   "source": [
    "### 2.2 Real-time Data Service\n",
    "\n",
    "<ol>\n",
    "<li>setup Tag in  Data Service\n",
    "<li>Send data to Data Service\n",
    "<li>Get data from Data Service and analyze\n",
    "</ol>"
   ]
  },
  {
   "cell_type": "markdown",
   "metadata": {},
   "source": [
    "#### 2.2.1 setup Tag in Data Service"
   ]
  },
  {
   "cell_type": "code",
   "execution_count": 25,
   "metadata": {
    "collapsed": false
   },
   "outputs": [],
   "source": [
    "# -*- coding: utf-8 -*-\n",
    "import redis\n",
    "\n",
    "conn = redis.Redis('localhost')\n",
    "\n",
    "def TagDefToRedisHashKey(tagdeflist):\n",
    "    pipe = conn.pipeline()\n",
    "    for element in tagdeflist:\n",
    "        pipe.hmset(\n",
    "            element['id'], {'desc': element['desc'], 'value': \"-10000\", 'ts': \"\"})\n",
    "    pipe.execute()\n",
    "\n",
    "def TagDefFromRedisHash(tagdeflist):\n",
    "    taglist = []\n",
    "    for element in tagdeflist:\n",
    "        htag = conn.hgetall(element['id'])\n",
    "        taglist.append(htag)\n",
    "    return taglist\n"
   ]
  },
  {
   "cell_type": "code",
   "execution_count": 26,
   "metadata": {
    "collapsed": false
   },
   "outputs": [
    {
     "name": "stdout",
     "output_type": "stream",
     "text": [
      "{b'ts': b'', b'value': b'-10000', b'desc': b'\\xe4\\xba\\x8c\\xe5\\x8f\\xb7\\xe6\\x9c\\xba\\xe7\\xbb\\x84\\xe9\\xab\\x98\\xe5\\x8e\\x8b\\xe7\\xbc\\xb8\\xe5\\x85\\xa5\\xe5\\x8f\\xa3\\xe5\\x8e\\x8b\\xe5\\x8a\\x9b'}\n"
     ]
    }
   ],
   "source": [
    "unittagdeflist=[]\n",
    "unittagdeflist.append({'id':\"CSDC.DCS2AI.2JZA2226\",'desc':\"二号机组高压缸入口压力\"})\n",
    "unittagdeflist.append({'id':\"CSDC.DCS2AI.2JZA2408\",'desc':\"二号机组高压缸入口温度\"})\n",
    "unittagdeflist.append({'id':\"CSDC.DCS2AI.2JZA2230\",'desc':\"二号机组高压缸出口压力\"})\n",
    "unittagdeflist.append({'id':\"CSDC.DCS2AI.2JZA2459\",'desc':\"二号机组高压缸出口温度\"})\n",
    "unittagdeflist.append({'id':\"CSDC.DCS2AI.2JZA2264\",'desc':\"大气压力\"})\n",
    "\n",
    "TagDefToRedisHashKey(unittagdeflist)\n",
    "\n",
    "taglist=TagDefFromRedisHash(unittagdeflist)\n",
    "print(taglist[0])"
   ]
  },
  {
   "cell_type": "markdown",
   "metadata": {},
   "source": [
    "### 2.2.2 Send Data to Redis\n",
    "\n"
   ]
  },
  {
   "cell_type": "code",
   "execution_count": 27,
   "metadata": {
    "collapsed": false
   },
   "outputs": [],
   "source": [
    "# -*- coding: utf-8 -*-\n",
    "from datetime import *\n",
    "\n",
    "def SendToRedisHash(tagvaluelist):\n",
    "    pipe = conn.pipeline()\n",
    "\n",
    "    curtime = datetime.now()\n",
    "\n",
    "    for element in tagvaluelist:\n",
    "        pipe.hmset(element['id'], {'value': element['value'], 'ts': curtime})\n",
    "    pipe.execute()\n"
   ]
  },
  {
   "cell_type": "code",
   "execution_count": 28,
   "metadata": {
    "collapsed": false
   },
   "outputs": [
    {
     "name": "stdout",
     "output_type": "stream",
     "text": [
      "{'value': 16.38525, 'id': 'CSDC.DCS2AI.2JZA1030'}\n",
      "[b'16.38525', b'2015-12-03 21:41:17.984464']\n"
     ]
    }
   ],
   "source": [
    "unittagvaluelist=[]\n",
    "unittagvaluelist.append({'id':\"CSDC.DCS2AI.2JZA1030\",'value':16.38525})\n",
    "unittagvaluelist.append({'id':\"CSDC.DCS2AI.2JZA2408\",'value':538.37})\n",
    "unittagvaluelist.append({'id':\"CSDC.DCS2AI.2JZA2230\",'value':3.035039})\n",
    "unittagvaluelist.append({'id':\"CSDC.DCS2AI.2JZA2459\",'value':313.2931})\n",
    "unittagvaluelist.append({'id':\"CSDC.DCS2AI.2JZA2264\",'value':100.5281})\n",
    "SendToRedisHash(unittagvaluelist)\n",
    "\n",
    "print(unittagvaluelist[0])\n",
    "print(conn.hmget(unittagvaluelist[0]['id'], 'value', 'ts'))\n",
    " "
   ]
  },
  {
   "cell_type": "markdown",
   "metadata": {},
   "source": [
    "### 2.2.3 Get Real-time Data from Redis"
   ]
  },
  {
   "cell_type": "code",
   "execution_count": 29,
   "metadata": {
    "collapsed": false
   },
   "outputs": [],
   "source": [
    "# -*- coding: utf-8 -*-\n",
    "def tagvalue_redis(taglist):\n",
    "        #        for i in range(self.tagcount):\n",
    "        #            self.taglist[i]['value']= conn.hget(self.taglist[i]['name'],'value').decode()\n",
    "        tagcount=len(taglist)\n",
    "        pipe = conn.pipeline()\n",
    "        for i in range(tagcount):\n",
    "            pipe.hmget(taglist[i]['id'], 'value', 'ts')\n",
    "        tagvaluelist = pipe.execute()\n",
    "\n",
    "        for i in range(tagcount):\n",
    "            taglist[i]['value'] = tagvaluelist[i][0].decode()\n",
    "            taglist[i]['ts'] = tagvaluelist[i][1].decode()\n"
   ]
  },
  {
   "cell_type": "code",
   "execution_count": 32,
   "metadata": {
    "collapsed": false
   },
   "outputs": [
    {
     "name": "stdout",
     "output_type": "stream",
     "text": [
      "{'ts': '2015-12-03 21:41:17.984464', 'value': '16.38525', 'id': 'CSDC.DCS2AI.2JZA1030'}\n"
     ]
    }
   ],
   "source": [
    "unittaglist=[]\n",
    "unittaglist.append({'id':\"CSDC.DCS2AI.2JZA1030\"})\n",
    "unittaglist.append({'id':\"CSDC.DCS2AI.2JZA2408\"})\n",
    "unittaglist.append({'id':\"CSDC.DCS2AI.2JZA2230\"})\n",
    "unittaglist.append({'id':\"CSDC.DCS2AI.2JZA2459\"})\n",
    "unittaglist.append({'id':\"CSDC.DCS2AI.2JZA2264\"})\n",
    "\n",
    "tagvalue_redis(unittaglist)\n",
    "\n",
    "print(unittaglist[0])\n",
    "        "
   ]
  },
  {
   "cell_type": "markdown",
   "metadata": {
    "collapsed": true
   },
   "source": [
    "### 2.2.4  Online moitoring internal efficiency of turbine"
   ]
  },
  {
   "cell_type": "code",
   "execution_count": 33,
   "metadata": {
    "collapsed": false
   },
   "outputs": [],
   "source": [
    "# -*- coding: utf-8 -*-\n",
    "from seuif97 import *\n",
    "\n",
    "def CylinderEff(cylinder):\n",
    "    \"\"\"simple function  for cylinde using 'dict' \"\"\"\n",
    "\n",
    "    cylinder['inlet']['h'] = pt2h(cylinder['inlet']['p'], cylinder['inlet']['t'])\n",
    "    cylinder['inlet']['s'] = pt2s(cylinder['inlet']['p'], cylinder['inlet']['t'])\n",
    "\n",
    "    cylinder['outlet']['h'] = pt2h(cylinder['outlet']['p'], cylinder['outlet']['t'])\n",
    "    cylinder['outlet']['s'] = pt2s(cylinder['outlet']['p'], cylinder['outlet']['t'])\n",
    "\n",
    "    # h2s is the specific enthalpy at state 2 for the isentropic turbine\n",
    "    h2s = ps2h(cylinder['outlet']['p'], cylinder['inlet']['s'])\n",
    "    \n",
    "    cylinder['h2s'] = h2s\n",
    "     \n",
    "    hds = cylinder['inlet']['h'] - h2s  # isentropic specific enthalpy drop\n",
    "    hd = cylinder['inlet']['h'] - cylinder['outlet']['h']  # specific enthalpy drop\n",
    "\n",
    "    cylinder['eff'] = 100 * hd / hds\n",
    "\n",
    "    return cylinder\n"
   ]
  },
  {
   "cell_type": "code",
   "execution_count": 34,
   "metadata": {
    "collapsed": false
   },
   "outputs": [
    {
     "name": "stdout",
     "output_type": "stream",
     "text": [
      "The internal efficiency = 81.71506348039361 %\n"
     ]
    }
   ],
   "source": [
    "hp = {'inlet':{}, 'outlet':{}, 'h2s':None,'eff':None}\n",
    "\n",
    "minlet = {'p':None, 't': None, 'h': None, 's':None}\n",
    "moutlet = {'p': None, 't': None, 'h': None, 's': None}\n",
    "\n",
    "pam=float(unittaglist[4]['value'])/1000\n",
    "\n",
    "minlet['p']=float(unittaglist[0]['value'])+pam\n",
    "minlet['t']=float(unittaglist[1]['value'])\n",
    "moutlet['p']=float(unittaglist[2]['value'])+pam\n",
    "moutlet['t']=float(unittaglist[3]['value'])\n",
    "\n",
    "hp['inlet'] = dict(minlet)\n",
    "hp['outlet'] = dict(moutlet)\n",
    "hp = CylinderEff(hp)\n",
    "\n",
    "print('The internal efficiency =', hp['eff'], '%')"
   ]
  },
  {
   "cell_type": "code",
   "execution_count": 35,
   "metadata": {
    "collapsed": true
   },
   "outputs": [],
   "source": [
    "# -*- coding: utf-8 -*-\n",
    "\"\"\"\n",
    "    visualize steam expansion line in cylinder\n",
    "\"\"\"\n",
    "\n",
    "import matplotlib.pyplot as plt\n",
    "import numpy as np\n",
    "from seuif97 import *\n",
    "\n",
    "def CylinderPlot(cylinder):\n",
    "    # 4条线：p1、p2 等压，等熵焓降线、膨胀线\n",
    "\n",
    "    p1 = cylinder['inlet']['p']\n",
    "    t1 = cylinder['inlet']['t']\n",
    "    s1 = cylinder['inlet']['s']\n",
    "    h1 = cylinder['inlet']['h']\n",
    "    \n",
    "    p2 = cylinder['outlet']['p']\n",
    "    t2 = cylinder['outlet']['t']\n",
    "    s2 = cylinder['outlet']['s']\n",
    "    h2 = cylinder['outlet']['h']\n",
    "    \n",
    "    eff = cylinder['eff']\n",
    "    \n",
    "    hs = cylinder['h2s']\n",
    "    \n",
    "    samp = 0.01\n",
    "     \n",
    "    smp1 = s1 - samp\n",
    "    hsmp1 = ps2h(p1, smp1)\n",
    "    sap1 = s1 + samp\n",
    "    hsap1 = ps2h(p1, sap1)\n",
    "\n",
    "    smt1 = s1 - samp\n",
    "    hsmt1 = ps2h(p1, smp1)\n",
    "    sat1 = s1 + samp\n",
    "    hsat1 = ts2h(t1, sap1)\n",
    "    \n",
    "    # 1 p1等压\n",
    "    point_p1_h = np.zeros(shape=3)\n",
    "    point_p1_h[0] = hsmp1\n",
    "    point_p1_h[1] = h1\n",
    "    point_p1_h[2] = hsap1\n",
    "    point_p1_s = np.zeros(shape=3)\n",
    "    point_p1_s[0] = smp1\n",
    "    point_p1_s[1] = s1\n",
    "    point_p1_s[2] = sap1\n",
    "\n",
    "    # 2 p2 等压\n",
    "    smp2 = s1 - samp  # 等熵焓降点延伸\n",
    "    hsmp2 = ps2h(p2, smp2)\n",
    "    sap2 = s2 + samp\n",
    "    hsap2 = ps2h(p2, sap2)\n",
    "\n",
    "    smt2 = s2 - samp\n",
    "    hsmt2 = ps2h(p1, smp1)\n",
    "    sat2 = s2 + samp\n",
    "    hsat2 = ts2h(t2, sap1)\n",
    "\n",
    "    point_p2_h = np.zeros(shape=3)\n",
    "    point_p2_h[0] = hsmp2\n",
    "    point_p2_h[1] = h2\n",
    "    point_p2_h[2] = hsap2\n",
    "\n",
    "    point_p2_s = np.zeros(shape=3)\n",
    "    point_p2_s[0] = smp2\n",
    "    point_p2_s[1] = s2\n",
    "    point_p2_s[2] = sap2\n",
    "\n",
    "    # 3 等熵焓降\n",
    "    point_is_h = np.zeros(shape=2)\n",
    "    point_is_h[0] = h1\n",
    "    point_is_h[1] = hs\n",
    "    point_is_s = np.zeros(shape=2)\n",
    "    point_is_s[0] = s1\n",
    "    point_is_s[1] = s1\n",
    "\n",
    "    # 4 HP Expansion Line\n",
    "    point_hp_h = np.zeros(shape=2)\n",
    "    point_hp_h[0] = h1\n",
    "    point_hp_h[1] = h2\n",
    "    point_hp_s = np.zeros(shape=2)\n",
    "    point_hp_s[0] = s1\n",
    "    point_hp_s[1] = s2\n",
    "\n",
    "    plt.plot(point_p1_s, point_p1_h, 'bs-', label='iP')\n",
    "\n",
    "    plt.plot(point_p2_s, point_p2_h, 'bs-', label=r'$\\frac{1}{2}\\pi$')\n",
    "    plt.plot(point_is_s, point_is_h, 'rs-', label='is')\n",
    "    plt.plot(point_hp_s, point_hp_h, 'rs-', label='HP Expansion Line\"')\n",
    "    plt.minorticks_on()\n",
    "    \n",
    "    _title = 'The isentropic efficiency = ' + \\\n",
    "    r'$\\frac{h1-h2}{h1-h2s}$' + '=' + '{:.2f}'.format(eff) + '%'\n",
    "    plt.legend(loc=\"center left\", bbox_to_anchor=[0.5, 0.5],\n",
    "           ncol=2, shadow=True, title=_title)\n",
    "\n",
    "    # annotate some interesting points using the annotate command\n",
    "    plt.annotate('(P1,T1)',\n",
    "             xy=(s1, h1), xycoords='data',\n",
    "             xytext=(+10, +30), textcoords='offset points', fontsize=12,\n",
    "             arrowprops=dict(arrowstyle=\"->\", connectionstyle=\"arc3,rad=.2\"))\n",
    "\n",
    "    plt.annotate('(P2,T2)',\n",
    "             xy=(s2, h2), xycoords='data',\n",
    "             xytext=(+10, +30), textcoords='offset points', fontsize=12,\n",
    "             arrowprops=dict(arrowstyle=\"->\", connectionstyle=\"arc3,rad=.2\"))\n",
    "\n",
    "    plt.xlabel('s(kJ/(kg.K))')\n",
    "    plt.ylabel('h(kJ/kg)')\n",
    "    plt.show()"
   ]
  },
  {
   "cell_type": "code",
   "execution_count": 20,
   "metadata": {
    "collapsed": false
   },
   "outputs": [
    {
     "data": {
      "image/png": "[encoded data removed]",
      "text/plain": [
       "<matplotlib.figure.Figure at 0x1dbbf4ebe48>"
      ]
     },
     "metadata": {},
     "output_type": "display_data"
    }
   ],
   "source": [
    "# -*- coding: utf-8 -*-\n",
    "%matplotlib inline\n",
    "\n",
    "hp = {'inlet':{}, 'outlet':{}, 'eff':None}\n",
    "\n",
    "minlet['p']=float(unittaglist[0]['value'])\n",
    "minlet['t']=float(unittaglist[1]['value'])\n",
    "moutlet['p']=float(unittaglist[2]['value'])\n",
    "moutlet['t']=float(unittaglist[3]['value'])\n",
    "\n",
    "hp['inlet'] = dict(minlet)\n",
    "hp['outlet'] = dict(moutlet)\n",
    "\n",
    "hp = CylinderEff(hp)\n",
    "CylinderPlot(hp)"
   ]
  },
  {
   "cell_type": "markdown",
   "metadata": {
    "collapsed": true
   },
   "source": [
    "## Reference\n",
    "\n",
    "<ol>\n",
    "<li>The Redis Documentation. http://redis.io/documentation\n",
    "<li>JOSIAH L. CARLSON. Redis in Action. Manning Publications Co. 2013 \n",
    "</ol>"
   ]
  }
 ],
 "metadata": {
  "kernelspec": {
   "display_name": "Python 3",
   "language": "python",
   "name": "python3"
  },
  "language_info": {
   "codemirror_mode": {
    "name": "ipython",
    "version": 3
   },
   "file_extension": ".py",
   "mimetype": "text/x-python",
   "name": "python",
   "nbconvert_exporter": "python",
   "pygments_lexer": "ipython3",
   "version": "3.5.1"
  }
 },
 "nbformat": 4,
 "nbformat_minor": 0
}
