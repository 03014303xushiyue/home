{
 "cells": [
  {
   "cell_type": "markdown",
   "metadata": {},
   "source": [
    "# Chapter 8 : Vapour Power Systems"
   ]
  },
  {
   "cell_type": "markdown",
   "metadata": {},
   "source": [
    "## Example 8.1:Analyzing an Ideal Rankine Cycle Page 438\n",
    "\n",
    "Steam is the working fluid in an ideal Rankine cycle. \n",
    "\n",
    "Saturated vapor enters the turbine at 8.0 MPa and saturated liquid exits the condenser at a pressure of 0.008 MPa. \n",
    "\n",
    "The net power output of the cycle is 100 MW.\n",
    "\n",
    "<img src=\"./img/vps-fig81.png\"/> \n",
    "\n",
    "Determine for the cycle\n",
    "\n",
    "(a) the thermal efficiency,\n",
    "\n",
    "(b) the back work ratio, \n",
    "\n",
    "(c) the mass flow rate of the steam,in kg/h,\n",
    "\n",
    "(d) the rate of heat transfer, Qin, into the working fluid as it passes through the boiler, in MW,\n",
    "\n",
    "(e) the rate of heat transfer, Qout, from the condensing steam as it passes through the condenser, in MW,\n",
    "\n",
    "(f) the mass flow rate of the condenser cooling water, in kg/h, if cooling water enters the condenser at 15C and exits at 35C.\n",
    "\n",
    "### SOLUTION\n",
    "\n",
    "#### Known:\n",
    "\n",
    "An ideal Rankine cycle operates with steam as the working fluid. The boiler and condenser pressures\n",
    "are specified, and the net power output is given.\n",
    "\n",
    "##### Find: \n",
    "\n",
    "Determine the thermal efficiency, the back work ratio, the mass flow rate of the steam, in kg/h, the rate\n",
    "of heat transfer to the working fluid as it passes through the boiler, in MW, the rate of heat transfer from the\n",
    "condensing steam as it passes through the condenser, in MW, the mass flow rate of the condenser cooling water,\n",
    "which enters at 158C and exits at 358C."
   ]
  },
  {
   "cell_type": "code",
   "execution_count": 4,
   "metadata": {
    "collapsed": false
   },
   "outputs": [
    {
     "name": "stdout",
     "output_type": "stream",
     "text": [
      "(a) The thermal efficiency for the cycle is  0.371\n",
      "(b) The back work ratio is  0.8 %\n",
      "(c) The mass flow rate of the steam is 376776.21 kg/h .\n",
      "(d) The rate of heat transfer,Qindot , into the working fluid as it passes through the boiler, is 269.68 MW.\n",
      "(e) The rate of heat transfer,Qoutdot from the condensing steam as it passes through the condenser, is 169.68 MW.\n",
      "(f) The mass flow rate of the condenser cooling water is 7301347.42 kg/ h.\n"
     ]
    }
   ],
   "source": [
    "from seuif97 import *\n",
    "\n",
    "# Given:-\n",
    "p1 = 8.0               # pressure of saturated vapor entering the turbine in MPa\n",
    "p3 = 0.008             # pressure of saturated liquid exiting the condenser in MPa\n",
    "Wcycledot = 100.00     # the net power output of the cycle in MW\n",
    "\n",
    "# Analysis\n",
    "\n",
    "# State  1\n",
    "h1=px2h(p1,1)          # h1 = 2758.0    From table A-3  kj/kg\n",
    "s1=px2s(p1,1)          # s1 = 5.7432    From table A-3  kj/kg.k\n",
    "\n",
    "# State  2\n",
    "s2 = s1\n",
    "sf=px2s(p3,0)         # sf = 0.5926   kj/kg.k\n",
    "sg=px2s(p3,1)         # sg = 8.2287   kj/kg.k\n",
    "# quality at state 2\n",
    "x2=(s2-sf)/(sg-sf)\n",
    "hf=px2h(p3,0)         # hf = 173.88    kj/kg\n",
    "hg=px2h(p3,1)         # hfg = 2403.1   kj/kg\n",
    "h2 = hf + x2*(hg-hf)      # kj/kg\n",
    "\n",
    "# State 3 is saturated liquid at 0.008 MPa, so\n",
    "h3 = hf                                         # in kj/kg\n",
    "v3 =px2v(p3,0)  #1.0084e-3 # in m^3/kg\n",
    "#State 4 \n",
    "p4 = p1\n",
    "h4 = h3 + v3*(p4-p3)*10**6*10**-3    # in kj/kg\n",
    "\n",
    "# Part(a)\n",
    "#Mass and energy rate balances for control volumes around the turbine and pump give, respectively\n",
    "wtdot = h1 - h2\n",
    "wpdot = h4-h3\n",
    "\n",
    "# The rate of heat transfer to the working fluid as it passes through the boiler is determined using mass and energy rate balances as\n",
    "qindot = h1-h4\n",
    "\n",
    "eta = (wtdot-wpdot)/qindot                           # thermal efficiency)\n",
    "\n",
    "# Result for part a\n",
    "print('(a) The thermal efficiency for the cycle is ',round(eta,3))\n",
    "\n",
    "# Part(b)\n",
    "bwr = wpdot/wtdot                                    # back work ratio\n",
    "\n",
    "# Result\n",
    "print('(b) The back work ratio is ',round(bwr,3)*100,'%')\n",
    "\n",
    "# Part(c)\n",
    "mdot = (Wcycledot*10**3*3600)/((h1-h2)-(h4-h3))       # mass flow rate in kg/h\n",
    "\n",
    "# Result \n",
    "print('(c) The mass flow rate of the steam is',round(mdot,2),'kg/h.')\n",
    " \n",
    "# Part(d)\n",
    "Qindot = mdot*qindot/(3600*10**3)                     # in MW\n",
    "\n",
    "# Results\n",
    "print('(d) The rate of heat transfer,Qindot , into the working fluid as it passes through the boiler, is',round(Qindot,2),'MW.')\n",
    "\n",
    "# Part(e)\n",
    "Qoutdot = mdot*(h2-h3)/(3600*10**3)                   # in MW\n",
    "\n",
    "# Results\n",
    "print('(e) The rate of heat transfer,Qoutdot from the condensing steam as it passes through the condenser, is',round(Qoutdot,2),'MW.')\n",
    "\n",
    "# Part(f)\n",
    "# Given: \n",
    "tcwin=15\n",
    "tcwout=35\n",
    "\n",
    "hcwout=tx2h(tcwout,0)   # From table A-2,hcwout= 146.68  kj/kg  \n",
    "\n",
    "hcwin= tx2h(tcwin,0)    # hcwin 62.99  \n",
    "mcwdot= (Qoutdot*10**3*3600)/(hcwout-hcwin)          # in kg/h\n",
    "\n",
    "# Results\n",
    "print('(f) The mass flow rate of the condenser cooling water is',round(mcwdot,2),'kg/h.')"
   ]
  },
  {
   "cell_type": "markdown",
   "metadata": {},
   "source": [
    "##<heading2> Example 8.2 Page no-338"
   ]
  },
  {
   "cell_type": "code",
   "execution_count": 2,
   "metadata": {
    "collapsed": false
   },
   "outputs": [
    {
     "name": "stdout",
     "output_type": "stream",
     "text": [
      "-> Thermal efficiency is:   0.314\n",
      "-> The mass flow rate of steam, in kg/h, for a net power output of 100 MW is    444863.139 kg/h.\n",
      "-> The rate of heat transfer Qindot into the working fluid as it passes through the boiler, is    318.156 MW.\n",
      "-> The rate of heat transfer  Qoutdotfrom the condensing steam as it passes through the condenser, is    218.156 MW.\n",
      "-> The mass flow rate of the condenser cooling water, is:     9384172.373 kg/h."
     ]
    }
   ],
   "source": [
    "\n",
    "# Given:-\n",
    "etat= .85                                   # given that the turbine and the pump each have an isentropic efficiency of 85%\n",
    "# Analysis\n",
    "# State 1 is the same as in Example 8.1, so\n",
    "h1 = 2758.0                                 # in kj/kg\n",
    "s1 = 5.7432                                 # in kj/kg.k\n",
    "# From example 8.1 \n",
    "h1 = 2758.0                                 # in kj/kg\n",
    "h2s = 1794.8                                # in kj/kg\n",
    "# State 3 is the same as in Example 8.1, so\n",
    "h3 = 173.88                                 # in kj/kg\n",
    "\n",
    "# Calculations\n",
    "h2 = h1 - etat*(h1-h2s)                     # in kj/kg\n",
    "wpdot = 8.06/etat                           # where the value 8.06 is obtained from example 8.1\n",
    "\n",
    "h4 = h3 + wpdot\n",
    "\n",
    "# Part(a)\n",
    "eta = ((h1-h2)-(h4-h3))/(h1-h4)             # thermal efficiency\n",
    "\n",
    "# Result for part (a)\n",
    "print '-> Thermal efficiency is:  ',round(eta,3)\n",
    "\n",
    "# Part(b)\n",
    "Wcycledot = 100                             # given,a net power output of 100 MW\n",
    "# Calculations\n",
    "mdot = (Wcycledot*(10**3)*3600)/((h1-h2)-(h4-h3))\n",
    "# Result for part (b)\n",
    "print '-> The mass flow rate of steam, in kg/h, for a net power output of 100 MW is   ',round(mdot,3),'kg/h.'\n",
    "\n",
    "# Part(c)\n",
    "Qindot = mdot*(h1-h4)/(3600 * 10**3)\n",
    "# Result\n",
    "print '-> The rate of heat transfer Qindot into the working fluid as it passes through the boiler, is   ',round(Qindot,3),'MW.'\n",
    "\n",
    "# Part(d)\n",
    "Qoutdot = mdot*(h2-h3)/(3600*10**3)\n",
    "# Result\n",
    "print '-> The rate of heat transfer  Qoutdotfrom the condensing steam as it passes through the condenser, is   ',round(Qoutdot,3),'MW.'\n",
    "\n",
    "# Part(e)\n",
    "# From table A-2\n",
    "hcwout = 146.68                             # in kj/kg\n",
    "hcwin = 62.99                               # in kj/kg\n",
    "mcwdot = (Qoutdot*10**3*3600)/(hcwout-hcwin)\n",
    "# Result\n",
    "print '-> The mass flow rate of the condenser cooling water, is:    ',round(mcwdot,3),'kg/h.'"
   ]
  },
  {
   "cell_type": "markdown",
   "metadata": {},
   "source": [
    "##<heading2>  Example 8.3 Page no-341"
   ]
  },
  {
   "cell_type": "code",
   "execution_count": 3,
   "metadata": {
    "collapsed": false
   },
   "outputs": [
    {
     "name": "stdout",
     "output_type": "stream",
     "text": [
      "-> The thermal efficiency of the cycle is: 0.4\n",
      "-> The mass flow rate of steam, is: 236344.68 kg/h.\n",
      "-> The rate of heat transfer Qoutdot from the condensing steam as it passes through the condenser, MW is 148.02 kg/h."
     ]
    }
   ],
   "source": [
    "\n",
    "# Given:-\n",
    "T1 = 480.0                        # temperature of steam entering the first stage turbine in degree celcius\n",
    "p1 = 8.0                          # pressure of steam entering the first stage turbine in MPa\n",
    "p2 = 0.7                          # pressure of steam exiting the first stage turbine in MPa\n",
    "T3 = 440.0                        # temperature of steam before entering the second stage turbine \n",
    "Pcond = 0.008                     # condenser pressure in MPa\n",
    "Wcycledot = 100.0                 # the net power output in MW\n",
    "\n",
    "# Analysis\n",
    "# From table A-4\n",
    "h1 = 3348.4                       # in kj/kg\n",
    "s1 = 6.6586                       # in kj/kg.k\n",
    "s2 = s1                           # isentropic expansion through the first-stage turbine\n",
    "# From table A-3\n",
    "sf = 1.9922                       # in kj/kg.k\n",
    "sg = 6.708                        # in kj/kg.k\n",
    "hf = 697.22                       # in kj/kg\n",
    "hfg = 2066.3                      # in kj/kg\n",
    "\n",
    "# Calculations \n",
    "x2 = (s2-sf)/(sg-sf)\n",
    "h2 = hf + x2*hfg\n",
    "# State 3 is superheated vapor with p3 =\u0003 0.7 MPa and T3= \u0003 440\u0004C, so from Table A-4\n",
    "h3 = 3353.3                       # in kj/kg\n",
    "s3 = 7.7571                       # in kj/kg.k\n",
    "s4 = s3                           # isentropic expansion through the second-stage turbine\n",
    "# For determing quality at state 4,from table A-3\n",
    "sf = 0.5926                       # in kj/kg.k\n",
    "sg = 8.2287                       # in kj/kg.k\n",
    "hf = 173.88                       # in kj/kg\n",
    "hfg = 2403.1                      # in kj/kg\n",
    "\n",
    "# Calculations\n",
    "x4 = (s4-sf)/(sg-sf)\n",
    "h4 = hf + x4*hfg\n",
    "\n",
    "# State 5 is saturated liquid at 0.008 MPa, so\n",
    "h5 = 173.88\n",
    "# The state at the pump exit is the same as in Example 8.1, so\n",
    "h6 = 181.94\n",
    "\n",
    "# Part(a)\n",
    "eta = ((h1-h2)+(h3-h4)-(h6-h5))/((h1-h6)+(h3-h2))\n",
    "# Result\n",
    "print '-> The thermal efficiency of the cycle is:',round(eta,2)\n",
    "\n",
    "# Part(b)\n",
    "mdot = (Wcycledot*3600*10**3)/((h1-h2)+(h3-h4)-(h6-h5))\n",
    "print '-> The mass flow rate of steam, is:',round(mdot,2),'kg/h.'\n",
    "\n",
    "# Part(c)\n",
    "Qoutdot = (mdot*(h4-h5))/(3600*10**3)\n",
    "print '-> The rate of heat transfer Qoutdot from the condensing steam as it passes through the condenser, MW is',round(Qoutdot,2),'kg/h.'"
   ]
  },
  {
   "cell_type": "markdown",
   "metadata": {},
   "source": [
    "##<heading2>  Example 8.4 Page no-344"
   ]
  },
  {
   "cell_type": "code",
   "execution_count": 4,
   "metadata": {
    "collapsed": false
   },
   "outputs": [
    {
     "name": "stdout",
     "output_type": "stream",
     "text": [
      "\n",
      "Welcome to pylab, a matplotlib-based Python environment [backend: module://IPython.zmq.pylab.backend_inline].\n",
      "For more information, type 'help(pylab)'."
     ]
    }
   ],
   "source": [
    "%matplotlib inline"
   ]
  },
  {
   "cell_type": "code",
   "execution_count": 5,
   "metadata": {
    "collapsed": false
   },
   "outputs": [
    {
     "name": "stdout",
     "output_type": "stream",
     "text": [
      "-> The thermal efficiency is:   0.350865344714"
     ]
    },
    {
     "data": {
      "image/png": "[encoded data removed]"
     },
     "metadata": {},
     "output_type": "display_data"
    }
   ],
   "source": [
    "\n",
    "# Given :-\n",
    "# Part (a)\n",
    "etat = 0.85                                                                      # given efficiency\n",
    "# From the solution to Example 8.3, the following specific enthalpy values are known, in kJ/kg\n",
    "h1 = 3348.4\n",
    "h2s = 2741.8\n",
    "h3 = 3353.3\n",
    "h4s = 2428.5\n",
    "h5 = 173.88\n",
    "h6 = 181.94\n",
    "\n",
    "\n",
    "# Calculations\n",
    "h2 = h1 - etat*(h1 - h2s)                                                 # The specific enthalpy at the exit of the first-stage turbine in kj/kg\n",
    "h4 = h3 - etat*(h3-h4s)                                                   # The specific enthalpy at the exit of the second-stage turbine in kj/kg\n",
    "eta = ((h1-h2)+(h3-h4)-(h6-h5))/((h1-h6)+(h3-h2)) \n",
    "\n",
    "# Result\n",
    "print '-> The thermal efficiency is:  ',eta\n",
    "\n",
    "# Part (b)\n",
    "from numpy import linspace\n",
    "from pylab import *\n",
    "\n",
    "h2 = []\n",
    "h4 = []\n",
    "y  = []\n",
    "x = linspace(0.85,1,50)\n",
    "for i in range(0,50):\n",
    "    h2.append(i)\n",
    "    h4.append(i)\n",
    "    y.append(i)\n",
    "    h2[i] = h1 - x[i]*(h1 - h2s)                                      # The specific enthalpy at the exit of the first-stage turbine in kj/kg\n",
    "    h4[i] = h3 - x[i]*(h3-h4s)                                        # The specific enthalpy at the exit of the second-stage turbine in kj/kg\n",
    "    y[i]  = ((h1-h2[i])+(h3-h4[i])-(h6-h5))/((h1-h6)+(h3-h2[i])) \n",
    "\n",
    "plot(x,y)\n",
    "xlabel('isentropic turbine efficiency')\n",
    "ylabel('cycle thermal efficiency')\n",
    "show()"
   ]
  },
  {
   "cell_type": "markdown",
   "metadata": {},
   "source": [
    "##<heading2> Example 8.5 Page no-348"
   ]
  },
  {
   "cell_type": "code",
   "execution_count": 6,
   "metadata": {
    "collapsed": false
   },
   "outputs": [
    {
     "name": "stdout",
     "output_type": "stream",
     "text": [
      "-> The thermal efficiency is: 0.37\n",
      "-> The mass flow rate of steam entering the first turbine stage, is: 368948.05 kg/h."
     ]
    }
   ],
   "source": [
    "\n",
    "# Given:-\n",
    "T1 = 480.0                                                                        # temperature of steam entering the turbine in degree celcius\n",
    "p1 = 8.0                                                                          # pressure of steam entering the turbine in MPa\n",
    "Pcond = 0.008                                                                     # condenser pressure in MPa\n",
    "etat = 0.85                                                                       # turbine efficiency\n",
    "Wcycledot = 100.0                                                                 # net power output of the cycle\n",
    "\n",
    "\n",
    "# Analysis\n",
    "# With the help of steam tables\n",
    "h1 = 3348.4                                                                       # in kj/kg\n",
    "h2 = 2832.8                                                                       # in kj/kg\n",
    "s2 = 6.8606                                                                       # in kj/kg.k\n",
    "h4 = 173.88                                                                       # in kj/kg\n",
    "# With s3s =\u0003 s2, the quality at state 3s is x3s= \u0003 0.8208; using this, we get\n",
    "h3s = 2146.3                                                                      # in kj/kg\n",
    "\n",
    "# Calculations\n",
    "# The specific enthalpy at state 3 can be determined using the efficiency of the second-stage turbine\n",
    "h3 = h2 - etat*(h2-h3s)\n",
    "\n",
    "# State 6 is saturated liquid at 0.7 MPa. Thus,\n",
    "h6 = 697.22                                                                        # in kj/kg\n",
    "# For determining specific enthalpies at states 5 and 7 ,we have\n",
    "p5 = 0.7                                                                           # in MPa\n",
    "p4 = 0.008                                                                         # in MPa\n",
    "p7 = 8.0                                                                           # in MPa\n",
    "p6 = 0.7                                                                           # in MPa\n",
    "v4 = 1.0084e-3                                                                     # units in m^3/kg,obtained from steam tables\n",
    "v6 = 1.1080e-3                                                                     # units in m^3/kg,obtained from steam tables\n",
    "\n",
    "# Calculations\n",
    "h5 = h4 + v4*(p5-p4)*10**6*10**-3                                                  # in kj/kg\n",
    "h7 = h6 + v6*(p7-p6)*10**3                                                         # in kj/kg\n",
    "\n",
    "# Applying mass and energy rate balances to a control volume enclosing the open heater, we find the fraction y of the flow extracted at state 2 from\n",
    "y = (h6-h5)/(h2-h5)\n",
    "\n",
    "# Part(a)\n",
    "wtdot = (h1-h2) + (1-y)*(h2-h3)                                                     # the total turbine work output, units in KJ/Kg\n",
    "wpdot = (h7-h6) + (1-y)*(h5-h4)                                                     # The total pump work per unit of mass passing through the first-stage turbine,in KJ/kg\n",
    "qindot = h1 - h7                                                                    # in kj/kg\n",
    "eta = (wtdot-wpdot)/qindot\n",
    "\n",
    "# Results\n",
    "print '-> The thermal efficiency is:',round(eta,2)\n",
    "\n",
    "# Part(b)\n",
    "m1dot = (Wcycledot*3600*10**3)/(wtdot-wpdot)\n",
    "\n",
    "# Results\n",
    "print '-> The mass flow rate of steam entering the first turbine stage, is:',round(m1dot,2),'kg/h.'"
   ]
  },
  {
   "cell_type": "raw",
   "metadata": {},
   "source": [
    "## Example 8.6 Page 460-463"
   ]
  },
  {
   "cell_type": "code",
   "execution_count": 4,
   "metadata": {
    "collapsed": false
   },
   "outputs": [
    {
     "name": "stdout",
     "output_type": "stream",
     "text": [
      "The thermal efficiency is:   0.431\n",
      "The mass flow rate of the steam entering the first turbine, in kg/h is:   280126.533\n"
     ]
    }
   ],
   "source": [
    "# Given:-\n",
    "# Analysis\n",
    "# State 1 is the same as in Example 8.3, so\n",
    "h1 = 3348.4                                                                     # in kj/kg\n",
    "s1 = 6.6586                                                                     # in kj/kg.k\n",
    "# State 2 is fixed by p2 \u0003 2.0 MPa and the specific entropy s2, which is the same as that of state 1. Interpolating in Table A-4, we get\n",
    "h2 = 2963.5                                                                     # in kj/kg\n",
    "# The state at the exit of the first turbine is the same as at the exit of the first turbine of Example 8.3, so\n",
    "h3 = 2741.8                                                                     # in kj/kg\n",
    "# State 4 is superheated vapor at 0.7 MPa, 440\u0004C. From Table A-4,\n",
    "h4 = 3353.3                                                                     # in kj/kg\n",
    "s4 = 7.7571                                                                     # in kj/kg.k\n",
    "# Interpolating in table A-4 at p5 = .3MPa and s5 = s4, the enthalpy at state 5 is\n",
    "h5 = 3101.5                                                                     # in kj/kg\n",
    "# Using s6 \u0003= s4, the quality at state 6 is found to be\n",
    "x6 = 0.9382\n",
    "# Using steam tables, for state 6\n",
    "hf = 173.88                                                                     # in kj/kg\n",
    "hfg = 2403.1                                                                    # in kj/kg\n",
    "\n",
    "h6 = hf + x6*hfg\n",
    "\n",
    "# At the condenser exit, we have \n",
    "h7 = 173.88                                                                     # in kj/kg\n",
    "v7 = 1.0084e-3                                                                  # in m^3/kg\n",
    "p8 = 0.3                                                                        # in MPa\n",
    "p7 = 0.008                                                                      # in MPa\n",
    "\n",
    "h8 = h7 + v7*(p8-p7)*10**6*10**-3                                               # The specific enthalpy at the exit of the first pump in kj/kg\n",
    "# The liquid leaving the open feedwater heater at state 9 is saturated liquid at 0.3 MPa. The specific enthalpy is\n",
    "h9 = 561.47                                                                     # in kj/kg\n",
    "\n",
    "# For the exit of the second pump,\n",
    "v9 = 1.0732e-3                                                                  # in m^3/kg\n",
    "p10 = 8.0                                                                       # in MPa\n",
    "p9 = 0.3                                                                        # in MPa\n",
    "h10 = h9 + v9*(p10-p9)*10**6*10**-3                                             # The specific enthalpy at the exit of the second pump in kj/kg\n",
    "# The condensate leaving the closed heater is saturated at 2 MPa. From Table A-3,\n",
    "h12 = 908.79                                                                    # in kj/kg\n",
    "h13 = h12                                                                       # since The fluid passing through the trap undergoes a throttling process\n",
    "# For the feedwater exiting the closed heater\n",
    "hf = 875.1                                                                      # in kj/kg\n",
    "vf = 1.1646e-3                                                                  # in m^3/kg\n",
    "p11 = 8.0                                                                       # in MPa\n",
    "psat = 1.73                                                                     # in MPa\n",
    "h11 = hf + vf*(p11-psat)*10**6*10**-3                                           # in kj/kg\n",
    "\n",
    "ydash = (h11-h10)/(h2-h12)                                                      # the fraction of the total flow diverted to the closed heater\n",
    "ydashdash = ((1-ydash)*h8+ydash*h13-h9)/(h8-h5)                                 # the fraction of the total flow diverted to the open heater\n",
    "\n",
    "# Part(a)\n",
    "wt1dot = (h1-h2) + (1-ydash)*(h2-h3)                                            # The work developed by the first turbine per unit of mass entering in kj/kg\n",
    "wt2dot = (1-ydash)*(h4-h5) + (1-ydash-ydashdash)*(h5-h6)                        # The work developed by the second turbine per unit of mass in kj/kg\n",
    "wp1dot = (1-ydash-ydashdash)*(h8-h7)                                            # The work for the first pump per unit of mass in kj/kg\n",
    "wp2dot = h10-h9                                                                 # The work for the second pump per unit of mass in kj/kg\n",
    "qindot = (h1-h11) + (1-ydash)*(h4-h3)                                           # The total heat added expressed on the basis of a unit of mass entering the first\n",
    "                                                                                # turbine\n",
    "eta = (wt1dot+wt2dot-wp1dot-wp2dot)/qindot                                      # thermal efficiency\n",
    "\n",
    "# Result\n",
    "print('The thermal efficiency is:  ',round(eta,3))\n",
    "\n",
    "# Part(b)\n",
    "Wcycledot = 100.0                                                               # the net power output of the cycle in MW\n",
    "m1dot = (Wcycledot*3600*10**3)/(wt1dot+wt2dot-wp1dot-wp2dot)\n",
    "\n",
    "# Result\n",
    "print('The mass flow rate of the steam entering the first turbine, in kg/h is:  ',round(m1dot,3))"
   ]
  },
  {
   "cell_type": "markdown",
   "metadata": {},
   "source": [
    "##<heading2>  Example 8.7 Page no-360"
   ]
  },
  {
   "cell_type": "code",
   "execution_count": 8,
   "metadata": {
    "collapsed": false
   },
   "outputs": [
    {
     "name": "stdout",
     "output_type": "stream",
     "text": [
      "-> The net rate at which exergy is carried into the heat exchanger unit by the gas stream, is: 231.24 MW \n",
      "-> The net rate at which exergy is carried from the heat exchanger by the water stream, is: 130.52 MW .\n",
      "-> The rate of exergy destruction, in MW is: 100.72\n",
      "-> The exergetic efficiency is:  0.56"
     ]
    }
   ],
   "source": [
    "\n",
    "# Given:-\n",
    "# Analysis\n",
    "# The solution to Example 8.2 gives\n",
    "h1 = 2758                                                                   # in kj/kg\n",
    "h4 = 183.36                                                                 # in kj/kg\n",
    "# From table A-22\n",
    "hi = 1491.44                                                                # in kj/kg\n",
    "he = 843.98                                                                 # in kj/kg\n",
    "# Using the conservation of mass principle and energy rate balance, the ratio of mass flow rates of air and water is\n",
    "madotbymdot = (h1-h4)/(hi-he)\n",
    "# From example 8.2\n",
    "mdot = 4.449e5                                                              # in kg/h\n",
    "madot =  madotbymdot*mdot                                                   # in kg/h\n",
    "\n",
    "# Part(a)\n",
    "T0 = 295                                                                    # in kelvin\n",
    "# From table A-22\n",
    "si = 3.34474                                                                # in kj/kg.k\n",
    "se = 2.74504                                                                # in MW\n",
    "# Calculation\n",
    "Rin = madot*(hi-he-T0*(si-se))/(3600*10**3)                                 # The net rate at which exergy is carried into the heat exchanger \n",
    "                                                                            # unit by the gaseous stream \n",
    "# Result\n",
    "print '-> The net rate at which exergy is carried into the heat exchanger unit by the gas stream, is:',round(Rin,2),'MW '\n",
    "\n",
    "# Part(b)\n",
    "# From table A-3\n",
    "s1 = 5.7432                                                                 # in kj/kg.k\n",
    "# From interpolation in table A-5 gives\n",
    "s4 = 0.5957                                                                 # in kj/kg.k\n",
    "# Calculation\n",
    "Rout = mdot*(h1-h4-T0*(s1-s4))/(3600*10**3)                                 # in MW\n",
    "# Result\n",
    "print '-> The net rate at which exergy is carried from the heat exchanger by the water stream, is:',round(Rout,2),'MW .'\n",
    "\n",
    "# Part(c)\n",
    "Eddot = Rin-Rout                                                            # in MW\n",
    "# Result\n",
    "print '-> The rate of exergy destruction, in MW is:',round(Eddot,2)\n",
    "\n",
    "# Part(d)\n",
    "epsilon = Rout/Rin\n",
    "# Result\n",
    "print '-> The exergetic efficiency is: ',round(epsilon,2)"
   ]
  },
  {
   "cell_type": "markdown",
   "metadata": {},
   "source": [
    "##<heading2>  Example 8.8 Page no-362"
   ]
  },
  {
   "cell_type": "code",
   "execution_count": 9,
   "metadata": {
    "collapsed": false
   },
   "outputs": [
    {
     "name": "stdout",
     "output_type": "stream",
     "text": [
      "-> The rate of exergy destruction for the turbine is:  16.73 MW.\n",
      "-> The turbine rate of exergy destruction expressed as a percentage is:   7.0\n",
      "-> Percentage of the exergy entering the plant with the fuel destroyed within the turbine is: 4.99\n",
      "-> The exergy destruction rate for the pump in MW is: 0.11\n",
      "and expressing this as a percentage of the exergy entering the plant as calculated above, we have 0.03\n",
      "-> The net power output of the vapor power plant of Example 8.2 is 100 MW. Expressing this as a percentage of the rate at which exergy is \n",
      "carried into the plant with the fuel,  29.83"
     ]
    }
   ],
   "source": [
    "\n",
    "# Given:-\n",
    "T0 = 295.00                                                                 # in kelvin\n",
    "P0 = 1.00                                                                   # in atm\n",
    "\n",
    "# Analysis\n",
    "# From table A-3\n",
    "s1 = 5.7432                                                                 # in kj/kg.k\n",
    "s3 =0.5926                                                                  # in kj/kg.k\n",
    "\n",
    "# Using h2 =\u0003 1939.3 kJ/kg from the solution to Example 8.2, the value of s2 can be determined from Table A-3 as\n",
    "s2 = 6.2021                                                                 # in kj/kg.k\n",
    "s4 = 0.5957                                                                 # in kj/kg.k\n",
    "mdot = 4.449e5                                                              # in kg/h\n",
    "\n",
    "# Calculations\n",
    "Eddot = mdot*T0*(s2-s1)/(3600*10**3)                                         # the rate of exergy destruction for the turbine in MW\n",
    "EddotP = mdot*T0*(s4-s3)/(3600*10**3)                                        # the exergy destruction rate for the pump\n",
    "\n",
    "# Results\n",
    "print '-> The rate of exergy destruction for the turbine is: ',round(Eddot,2),'MW.'\n",
    "# From the solution to Example 8.7, the net rate at which exergy is supplied by the cooling combustion gases is 231.28 MW\n",
    "print '-> The turbine rate of exergy destruction expressed as a percentage is:  ',round((Eddot/231.28)*100)\n",
    "# However, since only 69% of the entering fuel exergy remains after the stack loss and combustion exergy destruction are accounted for, \n",
    "# it can be concluded that\n",
    "print '-> Percentage of the exergy entering the plant with the fuel destroyed within the turbine is:',round(0.69*(Eddot/231.28)*100,2)\n",
    "print '-> The exergy destruction rate for the pump in MW is:',round(EddotP,2)\n",
    "print 'and expressing this as a percentage of the exergy entering the plant as calculated above, we have',round((EddotP/231.28)*69,2) \n",
    "print '-> The net power output of the vapor power plant of Example 8.2 is 100 MW. Expressing this as a percentage of the rate at which exergy is '\n",
    "print 'carried into the plant with the fuel, ',round((100/231.28)*69,2)"
   ]
  },
  {
   "cell_type": "markdown",
   "metadata": {},
   "source": [
    "##<heading2> Example 8.9 Page no-364"
   ]
  },
  {
   "cell_type": "code",
   "execution_count": 10,
   "metadata": {
    "collapsed": false
   },
   "outputs": [
    {
     "name": "stdout",
     "output_type": "stream",
     "text": [
      "-> The net rate at which exergy is carried from the condenser by the cooling water, is: 2.23 MW.\n",
      "-> Expressing this as a percentage of the exergy entering the plant with the fuel, we get  0.66 percent\n",
      "-> The rate of exergy destruction for the condenser is:   11.56 MW.\n",
      "-> Expressing this as a percentage of the exergy entering the plant with the fuel, we get, 3.45 percent"
     ]
    }
   ],
   "source": [
    "\n",
    "# Given:-\n",
    "T0 = 295                                                                # in kelvin\n",
    "# Analysis\n",
    "# From solution to Example 8.2.\n",
    "mcwdot = 9.39e6                                                         # mass flow rate of the cooling water in kg/h\n",
    "\n",
    "# Part(a)\n",
    "# With saturated liquid values for specific enthalpy and entropy from Table A-2\n",
    "he = 146.68                                                             # in kj/kg\n",
    "hi = 62.99                                                              # in kj/kg\n",
    "se = 0.5053                                                             # in kj/kg.k\n",
    "si = 0.2245                                                             # in kj/kg.k\n",
    "# Calculations\n",
    "Rout = mcwdot*(he-hi-T0*(se-si))/(3600*10**3)                           # The net rate at which exergy is carried out of the condenser in MW\n",
    "# Results\n",
    "print '-> The net rate at which exergy is carried from the condenser by the cooling water, is:',round(Rout,2),'MW.'\n",
    "print '-> Expressing this as a percentage of the exergy entering the plant with the fuel, we get ',round((Rout/231.28)*69,2),'percent'\n",
    "\n",
    "# Part(b)\n",
    "# From table \n",
    "s3 = 0.5926                                                              # in kj/kg.k\n",
    "s2 = 6.2021                                                              # in kg/kg.k\n",
    "mdot = 4.449e5                                                           # in kg/h\n",
    "# Calculations\n",
    "Eddot = T0*(mdot*(s3-s2)+mcwdot*(se-si))/(3600*10**3)                    # the rate of exergy destruction for the condenser in MW\n",
    "# Results\n",
    "print '-> The rate of exergy destruction for the condenser is:  ',round(Eddot,2),'MW.'\n",
    "print '-> Expressing this as a percentage of the exergy entering the plant with the fuel, we get,',round((Eddot/231.28)*69,2),'percent'"
   ]
  }
 ],
 "metadata": {
  "kernelspec": {
   "display_name": "Python 3",
   "language": "python",
   "name": "python3"
  },
  "language_info": {
   "codemirror_mode": {
    "name": "ipython",
    "version": 3
   },
   "file_extension": ".py",
   "mimetype": "text/x-python",
   "name": "python",
   "nbconvert_exporter": "python",
   "pygments_lexer": "ipython3",
   "version": "3.5.1"
  }
 },
 "nbformat": 4,
 "nbformat_minor": 0
}
